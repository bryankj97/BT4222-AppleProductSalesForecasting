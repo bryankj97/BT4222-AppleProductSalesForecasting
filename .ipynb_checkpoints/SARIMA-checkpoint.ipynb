{
 "cells": [
  {
   "cell_type": "markdown",
   "metadata": {},
   "source": [
    "### Sales Forecasting"
   ]
  },
  {
   "cell_type": "code",
   "execution_count": 98,
   "metadata": {},
   "outputs": [],
   "source": [
    "import pandas as pd\n",
    "import numpy as np\n",
    "import matplotlib.pyplot as plt"
   ]
  },
  {
   "cell_type": "code",
   "execution_count": 99,
   "metadata": {},
   "outputs": [
    {
     "data": {
      "text/html": [
       "<div>\n",
       "<style scoped>\n",
       "    .dataframe tbody tr th:only-of-type {\n",
       "        vertical-align: middle;\n",
       "    }\n",
       "\n",
       "    .dataframe tbody tr th {\n",
       "        vertical-align: top;\n",
       "    }\n",
       "\n",
       "    .dataframe thead th {\n",
       "        text-align: right;\n",
       "    }\n",
       "</style>\n",
       "<table border=\"1\" class=\"dataframe\">\n",
       "  <thead>\n",
       "    <tr style=\"text-align: right;\">\n",
       "      <th></th>\n",
       "      <th>Quarter</th>\n",
       "      <th>iphone</th>\n",
       "      <th>ipad</th>\n",
       "      <th>mac</th>\n",
       "    </tr>\n",
       "  </thead>\n",
       "  <tbody>\n",
       "    <tr>\n",
       "      <th>0</th>\n",
       "      <td>1Q '12</td>\n",
       "      <td>37.04</td>\n",
       "      <td>15.43</td>\n",
       "      <td>5.20</td>\n",
       "    </tr>\n",
       "    <tr>\n",
       "      <th>1</th>\n",
       "      <td>2Q '12</td>\n",
       "      <td>35.06</td>\n",
       "      <td>11.80</td>\n",
       "      <td>4.02</td>\n",
       "    </tr>\n",
       "    <tr>\n",
       "      <th>2</th>\n",
       "      <td>3Q '12</td>\n",
       "      <td>26.03</td>\n",
       "      <td>17.04</td>\n",
       "      <td>4.02</td>\n",
       "    </tr>\n",
       "    <tr>\n",
       "      <th>3</th>\n",
       "      <td>4Q '12</td>\n",
       "      <td>26.91</td>\n",
       "      <td>14.04</td>\n",
       "      <td>4.92</td>\n",
       "    </tr>\n",
       "    <tr>\n",
       "      <th>4</th>\n",
       "      <td>1Q '13</td>\n",
       "      <td>47.79</td>\n",
       "      <td>22.86</td>\n",
       "      <td>4.06</td>\n",
       "    </tr>\n",
       "  </tbody>\n",
       "</table>\n",
       "</div>"
      ],
      "text/plain": [
       "  Quarter  iphone   ipad   mac\n",
       "0  1Q '12   37.04  15.43  5.20\n",
       "1  2Q '12   35.06  11.80  4.02\n",
       "2  3Q '12   26.03  17.04  4.02\n",
       "3  4Q '12   26.91  14.04  4.92\n",
       "4  1Q '13   47.79  22.86  4.06"
      ]
     },
     "execution_count": 99,
     "metadata": {},
     "output_type": "execute_result"
    }
   ],
   "source": [
    "# read data\n",
    "data_dir = r'C:\\Users\\Timothy Lim\\Dropbox\\Tim Y4S2\\BT4222\\Project\\data'\n",
    "sales_df = pd.read_excel(rf\"{data_dir}\\apple sales data.xlsx\", \n",
    "                         sheet_name='Data', engine='openpyxl', usecols=\"B:E\", skiprows=4,\n",
    "                        names=['Quarter', 'iphone', 'ipad', 'mac'])\n",
    "\n",
    "sales_df.head()"
   ]
  },
  {
   "cell_type": "code",
   "execution_count": 100,
   "metadata": {},
   "outputs": [
    {
     "data": {
      "text/plain": [
       "Quarter     object\n",
       "iphone     float64\n",
       "ipad       float64\n",
       "mac        float64\n",
       "dtype: object"
      ]
     },
     "execution_count": 100,
     "metadata": {},
     "output_type": "execute_result"
    }
   ],
   "source": [
    "sales_df.dtypes"
   ]
  },
  {
   "cell_type": "code",
   "execution_count": 101,
   "metadata": {},
   "outputs": [
    {
     "data": {
      "text/plain": [
       "(28, 4)"
      ]
     },
     "execution_count": 101,
     "metadata": {},
     "output_type": "execute_result"
    }
   ],
   "source": [
    "sales_df.shape"
   ]
  },
  {
   "cell_type": "code",
   "execution_count": 102,
   "metadata": {},
   "outputs": [
    {
     "data": {
      "text/html": [
       "<div>\n",
       "<style scoped>\n",
       "    .dataframe tbody tr th:only-of-type {\n",
       "        vertical-align: middle;\n",
       "    }\n",
       "\n",
       "    .dataframe tbody tr th {\n",
       "        vertical-align: top;\n",
       "    }\n",
       "\n",
       "    .dataframe thead th {\n",
       "        text-align: right;\n",
       "    }\n",
       "</style>\n",
       "<table border=\"1\" class=\"dataframe\">\n",
       "  <thead>\n",
       "    <tr style=\"text-align: right;\">\n",
       "      <th></th>\n",
       "      <th>iphone</th>\n",
       "      <th>ipad</th>\n",
       "      <th>mac</th>\n",
       "    </tr>\n",
       "  </thead>\n",
       "  <tbody>\n",
       "    <tr>\n",
       "      <th>count</th>\n",
       "      <td>28.000000</td>\n",
       "      <td>28.000000</td>\n",
       "      <td>28.000000</td>\n",
       "    </tr>\n",
       "    <tr>\n",
       "      <th>mean</th>\n",
       "      <td>47.218214</td>\n",
       "      <td>13.751071</td>\n",
       "      <td>4.640357</td>\n",
       "    </tr>\n",
       "    <tr>\n",
       "      <th>std</th>\n",
       "      <td>14.433032</td>\n",
       "      <td>4.362983</td>\n",
       "      <td>0.611692</td>\n",
       "    </tr>\n",
       "    <tr>\n",
       "      <th>min</th>\n",
       "      <td>26.030000</td>\n",
       "      <td>8.920000</td>\n",
       "      <td>3.720000</td>\n",
       "    </tr>\n",
       "    <tr>\n",
       "      <th>25%</th>\n",
       "      <td>37.332500</td>\n",
       "      <td>10.310000</td>\n",
       "      <td>4.075000</td>\n",
       "    </tr>\n",
       "    <tr>\n",
       "      <th>50%</th>\n",
       "      <td>46.095000</td>\n",
       "      <td>12.850000</td>\n",
       "      <td>4.565000</td>\n",
       "    </tr>\n",
       "    <tr>\n",
       "      <th>75%</th>\n",
       "      <td>51.070000</td>\n",
       "      <td>15.602500</td>\n",
       "      <td>5.225000</td>\n",
       "    </tr>\n",
       "    <tr>\n",
       "      <th>max</th>\n",
       "      <td>78.290000</td>\n",
       "      <td>26.040000</td>\n",
       "      <td>5.710000</td>\n",
       "    </tr>\n",
       "  </tbody>\n",
       "</table>\n",
       "</div>"
      ],
      "text/plain": [
       "          iphone       ipad        mac\n",
       "count  28.000000  28.000000  28.000000\n",
       "mean   47.218214  13.751071   4.640357\n",
       "std    14.433032   4.362983   0.611692\n",
       "min    26.030000   8.920000   3.720000\n",
       "25%    37.332500  10.310000   4.075000\n",
       "50%    46.095000  12.850000   4.565000\n",
       "75%    51.070000  15.602500   5.225000\n",
       "max    78.290000  26.040000   5.710000"
      ]
     },
     "execution_count": 102,
     "metadata": {},
     "output_type": "execute_result"
    }
   ],
   "source": [
    "sales_df.describe()"
   ]
  },
  {
   "cell_type": "markdown",
   "metadata": {},
   "source": [
    "Data represents unit sales of Apple worldwide by product / operating segment."
   ]
  },
  {
   "cell_type": "code",
   "execution_count": 103,
   "metadata": {},
   "outputs": [
    {
     "data": {
      "image/png": "[encoded data removed]",
      "text/plain": [
       "<Figure size 720x576 with 1 Axes>"
      ]
     },
     "metadata": {
      "needs_background": "light"
     },
     "output_type": "display_data"
    }
   ],
   "source": [
    "# plot sales\n",
    "import matplotlib.pyplot as plt\n",
    "\n",
    "fig, axes = plt.subplots(figsize=(10, 8))\n",
    "axes.plot(sales_df.index, sales_df['iphone'], label='iPhone')\n",
    "axes.plot(sales_df.index, sales_df['ipad'], label='iPad')\n",
    "axes.plot(sales_df.index, sales_df['mac'], label='Mac')\n",
    "axes.set_title(\"Unit Sales by Product\")\n",
    "axes.legend()\n",
    "\n",
    "plt.show()"
   ]
  },
  {
   "cell_type": "code",
   "execution_count": null,
   "metadata": {},
   "outputs": [],
   "source": [
    "# acf and pacf\n",
    "from statsmodels.graphics.tsaplots import plot_acf, plot_pacf\n",
    "\n",
    "def plot_acf_pacf(data):\n",
    "    fig, axes = plt.subplots(nrows=1, ncols=2, figsize=(14, 5))\n",
    "    plot_acf(data, ax=axes[0])\n",
    "    plot_pacf(data, lags=13, ax=axes[1])\n",
    "    plt.show()\n",
    "\n",
    "# iphone\n",
    "plot_acf_pacf(sales_df['iphone'])"
   ]
  },
  {
   "cell_type": "code",
   "execution_count": null,
   "metadata": {},
   "outputs": [],
   "source": [
    "# iPad\n",
    "plot_acf_pacf(sales_df['ipad'])"
   ]
  },
  {
   "cell_type": "code",
   "execution_count": null,
   "metadata": {},
   "outputs": [],
   "source": [
    "# mac\n",
    "plot_acf_pacf(sales_df['mac'])"
   ]
  },
  {
   "cell_type": "markdown",
   "metadata": {},
   "source": [
    "ACF shows the correlation coefficients between a time series and its lagged values. Useful for identifying the order of MA term. \n",
    "\n",
    "PACF isolates the effects of time lag t-n on time t.  Useful for identifying the order of AR term.   \n",
    "eg. regress y(t) = y(t-1) + y(t-2) + y(t-3), then PACF for time lag 3 is the coefficient of y(t-3). or something like this..\n",
    "\n",
    "For all product lines, we can see that the ACF at the 4th lag is strongly positive. We should consider adding a seasonal component of size=4, since this corresponds to a year's worth of data also. \n",
    "\n",
    "Not sure about the PACF plots lol\n",
    "\n",
    "https://machinelearningmastery.com/sarima-for-time-series-forecasting-in-python/  \n",
    "\n",
    "https://www.seanabu.com/2016/03/22/time-series-seasonal-ARIMA-model-in-python/\n",
    "\n",
    "Anyway just use a grid search to find the optimal parameters for the time series. "
   ]
  },
  {
   "cell_type": "markdown",
   "metadata": {},
   "source": [
    "### Identifying SARIMA Order"
   ]
  },
  {
   "cell_type": "code",
   "execution_count": null,
   "metadata": {},
   "outputs": [],
   "source": [
    "# split train-test\n",
    "\n",
    "train_size = 0.7\n",
    "train_idx = int(train_size * len(sales_df))\n",
    "train_df = sales_df.iloc[:train_idx]\n",
    "test_df = sales_df.iloc[train_idx:]\n",
    "\n",
    "print(train_df.shape)\n",
    "print(test_df.shape)"
   ]
  },
  {
   "cell_type": "code",
   "execution_count": null,
   "metadata": {},
   "outputs": [],
   "source": [
    "train_df.tail()"
   ]
  },
  {
   "cell_type": "code",
   "execution_count": null,
   "metadata": {},
   "outputs": [],
   "source": [
    "test_df.head()"
   ]
  },
  {
   "cell_type": "code",
   "execution_count": null,
   "metadata": {},
   "outputs": [],
   "source": [
    "# specify range of values to iterate over\n",
    "param_space = {'p': range(0, 5),  # AR terms\n",
    "               'd': range(0, 2), \n",
    "               'q': range(0, 5), # MA terms\n",
    "               'P': range(0, 5), \n",
    "               'D': range(0, 2),\n",
    "               'Q': range(0, 5), \n",
    "               's': range(4, 12, 4)\n",
    "              }\n",
    "\n",
    "n_comb = 1\n",
    "for v in param_space.items():\n",
    "    n_comb *= len(v)\n",
    "\n",
    "print(f'no. of models to try: {n_comb}')"
   ]
  },
  {
   "cell_type": "code",
   "execution_count": null,
   "metadata": {},
   "outputs": [],
   "source": [
    "import itertools as it\n",
    "combinations = it.product(*(param_space[param] for param in param_space))\n",
    "len(list(combinations))"
   ]
  },
  {
   "cell_type": "code",
   "execution_count": null,
   "metadata": {},
   "outputs": [],
   "source": [
    "param_space"
   ]
  },
  {
   "cell_type": "code",
   "execution_count": null,
   "metadata": {
    "scrolled": true
   },
   "outputs": [],
   "source": [
    "from statsmodels.tsa.statespace.sarimax import SARIMAX\n",
    "import itertools as it\n",
    "import progressbar\n",
    "import warnings\n",
    "from statsmodels.tools.sm_exceptions import ConvergenceWarning\n",
    "\n",
    "warnings.filterwarnings('ignore')\n",
    "\n",
    "run_search = False\n",
    "\n",
    "def find_order(data, param_space, metric='mse'):\n",
    "    '''\n",
    "    helper method to return the best parameters for the SARIMAX model\n",
    "    '''\n",
    "    # convert param space into iterable\n",
    "    combinations = it.product(*(param_space[param] for param in param_space))\n",
    "    \n",
    "    results_df = pd.DataFrame(columns=['p', 'd', 'q', 'P', 'D', 'Q', 'm', 'eval_metric'])\n",
    "    \n",
    "    bar = progressbar.ProgressBar(maxval=len(list(it.product(*(param_space[param] for param in param_space)))), \n",
    "                                  widgets=[progressbar.Bar('=', '[', ']'), ' ', progressbar.Percentage()])\n",
    "    bar.start()\n",
    "    i = 0\n",
    "    for combi in combinations:\n",
    "        bar.update(i+1)\n",
    "        # unpack parameters\n",
    "        p = combi[0]\n",
    "        d = combi[1]\n",
    "        q = combi[2]\n",
    "        \n",
    "        P = combi[3]\n",
    "        D = combi[4]\n",
    "        Q = combi[5]\n",
    "        m = combi[6]\n",
    "       \n",
    "        try:\n",
    "            model = SARIMAX(endog=data, order=(p, d, q), seasonal_order=(P, D, Q, m),\n",
    "                            trend='t', enforce_stationarity=False, enforce_invertibility=False)\n",
    "            model_fit = model.fit(disp=False)\n",
    "        except: # give up\n",
    "            continue\n",
    "        \n",
    "        if metric=='mse':\n",
    "            fit_result = model_fit.mse\n",
    "        if metric=='aic':\n",
    "            fit_result = model_fit.aic\n",
    "        if metric=='bic':\n",
    "            fit_result = model_fit.bic\n",
    "        \n",
    "        # update results\n",
    "        results_df.loc[len(results_df)] = [p, d, q, P, D, Q, m, fit_result]\n",
    "        i += 1\n",
    "\n",
    "    bar.finish()\n",
    "    return results_df\n",
    "\n",
    "if run_search: \n",
    "    iphone_order = find_order(train_df['iphone'], param_space)\n",
    "    iphone_order.sort_values(by=['eval_metric'], ascending=True).head()"
   ]
  },
  {
   "cell_type": "code",
   "execution_count": null,
   "metadata": {},
   "outputs": [],
   "source": [
    "# generate one-step forecasts\n",
    "\n",
    "def get_forecasts(train_data, test_data, order, seasonal_order, n_steps=1, exog_train=None, exog_test=None):\n",
    "    '''\n",
    "    generates n-step forecasts for each obs in test data\n",
    "    '''\n",
    "    pointer = 0\n",
    "    y_pred = pd.Series()\n",
    "    \n",
    "    while pointer < len(test_data):\n",
    "        \n",
    "        if exog_train is not None or exog_test is not None:\n",
    "            model = SARIMAX(endog=np.log(train_data.append(test_data.iloc[:pointer])),\n",
    "                           exog=exog_train.append(exog_test.iloc[:pointer]),\n",
    "                           order=order,\n",
    "                           seasonal_order=seasonal_order,\n",
    "                           time_varying_regression=True,\n",
    "                           mle_regression=False)\n",
    "\n",
    "            res = model.fit()\n",
    "            y_pred = y_pred.append(np.exp(res.forecast(steps=n_steps, exog=exog_test.iloc[pointer])))\n",
    "            \n",
    "        else:\n",
    "            model = SARIMAX(endog=np.log(train_data.append(test_data.iloc[:pointer])),\n",
    "                           order=order,\n",
    "                           seasonal_order=seasonal_order,\n",
    "                           time_varying_regression=True,\n",
    "                           mle_regression=False)\n",
    "\n",
    "            res = model.fit()\n",
    "            y_pred = y_pred.append(np.exp(res.forecast(steps=n_steps)))\n",
    "        pointer += n_steps\n",
    "    \n",
    "    return y_pred\n",
    "\n"
   ]
  },
  {
   "cell_type": "code",
   "execution_count": null,
   "metadata": {},
   "outputs": [],
   "source": [
    "# iPhone sales forecasts\n",
    "y_pred = get_forecasts(train_df['iphone'], test_df['iphone'],\n",
    "                      (0, 1, 3), (3, 1, 1, 4))  \n",
    "y_pred"
   ]
  },
  {
   "cell_type": "code",
   "execution_count": null,
   "metadata": {
    "scrolled": false
   },
   "outputs": [],
   "source": [
    "# plot\n",
    "y_true = sales_df['iphone']\n",
    "\n",
    "fig, ax = plt.subplots(figsize=(18, 10))\n",
    "plt.plot(sales_df['Quarter'], y_true, label='actual')\n",
    "plt.plot(sales_df['Quarter'].iloc[train_idx:], y_pred, label='forecast')\n",
    "plt.xlabel(\"Quarter\")\n",
    "plt.ylabel(\"Unit Sales\")\n",
    "plt.title(\"iPhone Sales Forecast\")\n",
    "plt.grid(True)\n",
    "plt.legend()"
   ]
  },
  {
   "cell_type": "code",
   "execution_count": null,
   "metadata": {},
   "outputs": [],
   "source": [
    "# two step forecasts\n",
    "two_step = get_forecasts(train_df['iphone'], test_df['iphone'], (0, 1, 3), (3, 1, 1, 4), n_steps=2)\n",
    "\n",
    "# plot\n",
    "fig, ax = plt.subplots(figsize=(18, 10))\n",
    "plt.plot(sales_df['Quarter'], y_true, label='actual')\n",
    "plt.plot(sales_df['Quarter'].iloc[train_idx:], two_step.iloc[:-1], label='forecast')\n",
    "plt.xlabel(\"Quarter\")\n",
    "plt.ylabel(\"Unit Sales\")\n",
    "plt.title(\"iPhone Sales Forecast\")\n",
    "plt.grid(True)\n",
    "plt.legend()"
   ]
  },
  {
   "cell_type": "code",
   "execution_count": null,
   "metadata": {},
   "outputs": [],
   "source": [
    "if run_search:\n",
    "    ipad_order = find_order(train_df['ipad'], param_space)\n",
    "    mac_order = find_order(train_df['mac'], param_space)\n",
    "    \n",
    "    print(ipad_order.sort_values('eval_metric').head())\n",
    "    print(mac_order.sort_values('eval_metric').head())"
   ]
  },
  {
   "cell_type": "code",
   "execution_count": null,
   "metadata": {},
   "outputs": [],
   "source": [
    "# iPad forecasts \n",
    "ipad_forecast = get_forecasts(train_df['ipad'], test_df['ipad'],\n",
    "                             (1, 0, 2), (1, 0, 0, 4), n_steps=1)\n",
    "\n",
    "# plot\n",
    "fig, ax = plt.subplots(figsize=(18, 10))\n",
    "plt.plot(sales_df['Quarter'], sales_df['ipad'], label='actual')\n",
    "plt.plot(sales_df['Quarter'].iloc[train_idx:], ipad_forecast, label='forecast')\n",
    "plt.xlabel(\"Quarter\")\n",
    "plt.ylabel(\"Unit Sales\")\n",
    "plt.title(\"iPad Sales Forecast\")\n",
    "plt.grid(True)\n",
    "plt.legend()"
   ]
  },
  {
   "cell_type": "code",
   "execution_count": null,
   "metadata": {},
   "outputs": [],
   "source": [
    "# mac forecasts \n",
    "mac_forecast = get_forecasts(train_df['mac'], test_df['mac'],\n",
    "                             (1, 1, 3), (0, 0, 0, 4), n_steps=1)\n",
    "\n",
    "# plot\n",
    "fig, ax = plt.subplots(figsize=(18, 10))\n",
    "plt.plot(sales_df['Quarter'], sales_df['mac'], label='actual')\n",
    "plt.plot(sales_df['Quarter'].iloc[train_idx:], mac_forecast, label='forecast')\n",
    "plt.xlabel(\"Quarter\")\n",
    "plt.ylabel(\"Unit Sales\")\n",
    "plt.title(\"Mac Sales Forecast\")\n",
    "plt.grid(True)\n",
    "plt.legend()"
   ]
  },
  {
   "cell_type": "markdown",
   "metadata": {},
   "source": [
    "I think the forecasts are all decent...Mac forecasts look worse but I think its the scale of the y-axis that makes it look as such. "
   ]
  },
  {
   "cell_type": "markdown",
   "metadata": {},
   "source": [
    "### Forecasting with exogeneous variables\n",
    "\n",
    "SARIMAX using sentiment analysis from the preceding quarter as an exogeneous variable. Here, we use the sentiment extracted from the following models: \n",
    "* BERT\n",
    "* vader\n",
    "* NB with count vectorizer features\n",
    "* NB with TF-ID features"
   ]
  },
  {
   "cell_type": "code",
   "execution_count": null,
   "metadata": {},
   "outputs": [],
   "source": [
    "# load data\n",
    "cols = ['date', 'content', 'sentiment', 'device']\n",
    "bert_sentiment = pd.read_csv(fr'{data_dir}\\tweets_bert.csv', usecols=cols)\n",
    "vader_sentiment = pd.read_csv(fr'{data_dir}\\tweets_sentiment_vader.csv', usecols=cols)\n",
    "countvect_sentiment = pd.read_csv(fr'{data_dir}\\tweets_sentiment_countvect.csv', usecols=cols)\n",
    "tfidf_sentiment = pd.read_csv(fr'{data_dir}\\tweets_tfidf.csv', usecols=cols)\n",
    "\n",
    "assert(bert_sentiment.shape==vader_sentiment.shape==countvect_sentiment.shape==tfidf_sentiment.shape)\n",
    "print(bert_sentiment.shape)"
   ]
  },
  {
   "cell_type": "code",
   "execution_count": null,
   "metadata": {},
   "outputs": [],
   "source": [
    "def process_data(df): \n",
    "    \n",
    "    # handle date column\n",
    "    df.dropna(subset=['sentiment'], inplace=True)\n",
    "    df['date'] = pd.to_datetime(df['date'], format='%Y-%m-%d %H:%M:%S%z')\n",
    "    df['year'] = df['date'].dt.year\n",
    "    df['QTR_IDX'] = df['year'].astype('str').str.cat(df['date'].dt.quarter.astype(str), '_')\n",
    " \n",
    "    # sentiment scoring\n",
    "    devices = df['device'].unique()\n",
    "    sentiment_count = df.groupby(by=['QTR_IDX', 'device'])['sentiment'].value_counts(normalize=True)\n",
    "    \n",
    "    series = []\n",
    "    for device in devices:\n",
    "        device_mask = sentiment_count.index.get_level_values(level='device')==device\n",
    "        pos_mask = sentiment_count.index.get_level_values(level='sentiment')==1\n",
    "        neg_mask = sentiment_count.index.get_level_values(level='sentiment')==-1\n",
    "    \n",
    "        pos = sentiment_count[(pos_mask) & (device_mask)]\n",
    "        pos.reset_index(level=['device', 'sentiment'], drop=True, inplace=True)\n",
    "        pos.name = f'{device}_pos_sentiment'\n",
    "    \n",
    "        neg = sentiment_count[(neg_mask) & (device_mask)]\n",
    "        neg.reset_index(level=['device', 'sentiment'], drop=True, inplace=True)\n",
    "        neg.name = f'{device}_neg_sentiment'\n",
    "        \n",
    "        series.append(pos)\n",
    "        series.append(neg)\n",
    "        \n",
    "    return pd.concat(series, axis=1)\n",
    "\n",
    "bert_sentiment_scores = process_data(bert_sentiment)\n",
    "bert_sentiment_scores.head()"
   ]
  },
  {
   "cell_type": "code",
   "execution_count": null,
   "metadata": {},
   "outputs": [],
   "source": [
    "from sklearn.metrics import mean_squared_error\n",
    "\n",
    "order_dict = {'iphone': {'order': (0, 1, 3), \n",
    "                         'seasonal_order': (3, 1, 1, 4)},\n",
    "             'ipad': {'order': (1, 0, 2), \n",
    "                      'seasonal_order': (1, 0, 0, 4)},\n",
    "             'mac': {'order': (1, 1, 3), \n",
    "                     'seasonal_order': (0, 0, 0, 4)}}\n",
    "\n",
    "def get_exog_forecasts(sales_df, sentiment_df):\n",
    "\n",
    "    # align indexes\n",
    "    sales_df.index = sentiment_df.index[:-1]\n",
    "    sales_with_sentiment = pd.concat([sales_df, sentiment_df], axis=1)\n",
    "    \n",
    "    # lag variabes\n",
    "    for col in sales_with_sentiment.columns:\n",
    "        if 'sentiment' in col:\n",
    "            sales_with_sentiment[col] = sales_with_sentiment[col].shift(1)\n",
    "    \n",
    "    sales_with_sentiment.dropna(how='any', inplace=True)\n",
    "    \n",
    "    # split data\n",
    "    train_size = 0.7\n",
    "    train_idx = int(train_size * len(sales_with_sentiment))\n",
    "    train_df = sales_with_sentiment.iloc[:train_idx]\n",
    "    test_df = sales_with_sentiment.iloc[train_idx:]\n",
    "    \n",
    "    results = dict()\n",
    "    \n",
    "    for device in ['iphone', 'ipad', 'mac']:\n",
    "        model_forecasts = get_forecasts(train_df[device], test_df[device], \n",
    "                                        order=order_dict[device]['order'], \n",
    "                                        seasonal_order=order_dict[device]['seasonal_order'],\n",
    "                                        exog_train=train_df[[f'{device}_pos_sentiment', f'{device}_neg_sentiment']],\n",
    "                                        exog_test=test_df[[f'{device}_pos_sentiment', f'{device}_neg_sentiment']])\n",
    "    \n",
    "        \n",
    "        results[device] = model_forecasts\n",
    "\n",
    "    return pd.DataFrame.from_dict(results)\n",
    "\n",
    "\n",
    "def evaluate_exog_sentiment(sales_df, sentiment_df):\n",
    "    '''\n",
    "    sales_df: \n",
    "        df containing the data about sales for each of the product\n",
    "    \n",
    "    sentiment_df:\n",
    "        df containing the positive and negative sentiments for each quarter\n",
    "    both sales_df and sentiment_df should have the same index. \n",
    "    \n",
    "    call this function to \n",
    "        1. run SARIMAX model with sentiment as an exgeneous variable\n",
    "        2. run SARIMA model without any exogeneous variables\n",
    "        3. compute the RMSE for the 1-step forecasts of each model\n",
    "    \n",
    "    returns\n",
    "        1. df of forecasts from the SARIMA and SARIMAX model\n",
    "        2. df of RMSE for each of the 1-step forecasts\n",
    "    '''\n",
    "    \n",
    "    # get exog forecasts\n",
    "    forecasts = get_exog_forecasts(sales_df, sentiment_df)\n",
    "    \n",
    "    # get endog forecasts\n",
    "    rmse_dict = {}\n",
    "    train_size = 0.7\n",
    "    train_idx = int(train_size * len(sales_df))\n",
    "    \n",
    "    for device in ['iphone', 'ipad', 'mac']:\n",
    "        endog_forecasts = get_forecasts(sales_df.iloc[:train_idx][device], \n",
    "                                        sales_df.iloc[train_idx:][device], \n",
    "                                        order_dict[device]['order'], \n",
    "                                        order_dict[device]['seasonal_order'])\n",
    "    \n",
    "        forecasts[f'{device}_endog'] = pd.Series(endog_forecasts.values, index=forecasts.index)\n",
    "    \n",
    "        # calculate RMSE\n",
    "        y_true = sales_df.iloc[train_idx:][device]\n",
    "        exog_rmse = mean_squared_error(y_true, forecasts[device], squared=False)\n",
    "        endog_rmse = mean_squared_error(y_true, forecasts[f'{device}_endog'], squared=False)\n",
    "        rmse_dict[f'{device}_exog'] = exog_rmse\n",
    "        rmse_dict[f'{device}_endog'] = endog_rmse\n",
    "    \n",
    "    return forecasts, pd.Series(rmse_dict)"
   ]
  },
  {
   "cell_type": "code",
   "execution_count": null,
   "metadata": {},
   "outputs": [],
   "source": [
    "get_exog_forecasts(sales_df, bert_sentiment_scores)"
   ]
  },
  {
   "cell_type": "code",
   "execution_count": null,
   "metadata": {},
   "outputs": [],
   "source": [
    "forecasts, rmse_scores = evaluate_exog_sentiment(sales_df, bert_sentiment_scores)\n",
    "\n",
    "forecasts"
   ]
  },
  {
   "cell_type": "code",
   "execution_count": null,
   "metadata": {},
   "outputs": [],
   "source": [
    "rmse_scores"
   ]
  },
  {
   "cell_type": "markdown",
   "metadata": {},
   "source": [
    "Forecasts improve for iPhone and Mac, deprove for iPad"
   ]
  },
  {
   "cell_type": "code",
   "execution_count": null,
   "metadata": {},
   "outputs": [],
   "source": [
    "# pipeline\n",
    "\n",
    "sentiment_data = [bert_sentiment, vader_sentiment, countvect_sentiment, tfidf_sentiment]\n",
    "\n",
    "forecasts_list = []\n",
    "rmse_list = []\n",
    "\n",
    "for i, data in enumerate(sentiment_data):\n",
    "    print(f'{i}/{len(sentiment_data)}')\n",
    "    \n",
    "    sentiment_score = process_data(data)\n",
    "    forecast, rmse = evaluate_exog_sentiment(sales_df, sentiment_score)\n",
    "    \n",
    "    forecasts_list.append(forecast)\n",
    "    rmse_list.append(rmse)\n"
   ]
  },
  {
   "cell_type": "code",
   "execution_count": null,
   "metadata": {},
   "outputs": [],
   "source": [
    "keys = ['bert', 'vader', 'countvect', 'tfidf']\n",
    "forecasts_dict = dict(zip(keys, forecasts_list))\n",
    "rmse_dict = dict(zip(keys, rmse_list))"
   ]
  },
  {
   "cell_type": "code",
   "execution_count": null,
   "metadata": {},
   "outputs": [],
   "source": [
    "pd.DataFrame.from_dict(rmse_dict)"
   ]
  },
  {
   "cell_type": "markdown",
   "metadata": {},
   "source": [
    "### Tweets information \n",
    "\n",
    "- use extra information about tweets (eg. retweet counts per quarter) to see if there is additional predictive power"
   ]
  },
  {
   "cell_type": "code",
   "execution_count": null,
   "metadata": {},
   "outputs": [],
   "source": [
    "sales_tweets = pd.read_csv(fr'{data_dir}/sales_tweets.csv')\n",
    "sales_tweets.drop(['Unnamed: 0', 'sales_norm', 'iphone', 'ipad'], axis=1, inplace=True)\n",
    "sales_tweets.head()"
   ]
  },
  {
   "cell_type": "code",
   "execution_count": null,
   "metadata": {},
   "outputs": [],
   "source": [
    "def tweets_info_forecasts(device, log_transform=False, feature_cols=None):\n",
    "    '''\n",
    "    function to help get forecasts using sales_tweets.csv\n",
    "    \n",
    "    use log_transform=True if want to forecast log sales instead. helps ensure forecasts > 0\n",
    "    \n",
    "    if feature_cols is not defined, all columns from sales_tweets are used\n",
    "    '''\n",
    "    # get device data\n",
    "    device_exog_data = sales_tweets[sales_tweets['device']==device]\n",
    "    train_idx = device_exog_data.index[device_exog_data['QTR_IDX_SALES']==\"2016_3\"].values[0]\n",
    "    \n",
    "    if not feature_cols:\n",
    "        cols_i_want = sales_tweets.drop(columns=['sales', 'device', 'QTR_IDX_SALES', 'QTR_IDX_PREV']).columns\n",
    "    \n",
    "    else:\n",
    "        cols_i_want = feature_cols\n",
    "\n",
    "    # split train / test data\n",
    "    exog_train = device_exog_data.loc[:train_idx]\n",
    "    exog_test = device_exog_data.loc[1 + train_idx:]\n",
    "    \n",
    "    if log_transform:\n",
    "        model_forecasts = get_forecasts(train_data=np.log(exog_train['sales']),\n",
    "                                        test_data=np.log(exog_test['sales']),\n",
    "                                        order=order_dict[device]['order'], \n",
    "                                        seasonal_order=order_dict[device]['seasonal_order'],\n",
    "                                        exog_train=exog_train.loc[:train_idx][cols_i_want],\n",
    "                                        exog_test=exog_test.loc[train_idx + 1:][cols_i_want])\n",
    "\n",
    "        return np.exp(model_forecasts)\n",
    "    \n",
    "    else:\n",
    "        model_forecasts = get_forecasts(train_data=exog_train['sales'],\n",
    "                                test_data=exog_test['sales'],\n",
    "                                order=order_dict[device]['order'], \n",
    "                                seasonal_order=order_dict[device]['seasonal_order'],\n",
    "                                exog_train=exog_train.loc[:train_idx][cols_i_want],\n",
    "                                exog_test=exog_test.loc[train_idx + 1:][cols_i_want])\n",
    "\n",
    "        return model_forecasts"
   ]
  },
  {
   "cell_type": "code",
   "execution_count": null,
   "metadata": {},
   "outputs": [],
   "source": [
    "tweets_info_forecasts('iphone')"
   ]
  },
  {
   "cell_type": "markdown",
   "metadata": {},
   "source": [
    "For some reason, the forecasts are negative. To constrain this, we will forecast the log values instead."
   ]
  },
  {
   "cell_type": "code",
   "execution_count": null,
   "metadata": {},
   "outputs": [],
   "source": [
    "tweets_info_forecasts('iphone', log_transform=True)"
   ]
  },
  {
   "cell_type": "markdown",
   "metadata": {},
   "source": [
    "Results get quite whacky"
   ]
  },
  {
   "cell_type": "code",
   "execution_count": null,
   "metadata": {},
   "outputs": [],
   "source": [
    "# get exog forecasts of all variables\n",
    "\n",
    "sales_tweets_forecasts = pd.DataFrame()\n",
    "\n",
    "for device in sales_tweets['device'].unique():\n",
    "    \n",
    "    model_forecasts = tweets_info_forecasts(device, log_transform=True)\n",
    "    sales_tweets_forecasts[f'{device}_forecasts'] = model_forecasts\n",
    "\n",
    "sales_tweets_forecasts"
   ]
  },
  {
   "cell_type": "markdown",
   "metadata": {},
   "source": [
    "We can try using feature selection to retain the more important exogeneous features. To extract the importance of the feature, we can look at their scores when fitted in a tree-based model. In this case, we will use a random forest regressor. \n",
    "\n",
    "https://machinelearningmastery.com/feature-selection-time-series-forecasting-python/"
   ]
  },
  {
   "cell_type": "code",
   "execution_count": null,
   "metadata": {},
   "outputs": [],
   "source": [
    "from sklearn.ensemble import RandomForestRegressor\n",
    "\n",
    "rf = RandomForestRegressor(random_state=12345)\n",
    "\n",
    "# get data\n",
    "device_exog_data = sales_tweets[sales_tweets['device']=='iphone']\n",
    "train_idx = device_exog_data.index[device_exog_data['QTR_IDX_SALES']==\"2016_3\"].values[0]\n",
    "cols_i_want = sales_tweets.drop(columns=['sales', 'device', 'QTR_IDX_SALES', 'QTR_IDX_PREV']).columns\n",
    "\n",
    "X = device_exog_data[:train_idx][cols_i_want]\n",
    "y = device_exog_data[:train_idx]['sales']\n",
    "\n",
    "rf.fit(X, y)\n",
    "sorted(zip(X.columns, rf.feature_importances_), key=lambda x:x[1])"
   ]
  },
  {
   "cell_type": "markdown",
   "metadata": {},
   "source": [
    "Interestingly, the sentiment scores don't matter that much. Instead, *likeCount*, *replyCount* and *retweetCount* are more crucial. "
   ]
  },
  {
   "cell_type": "code",
   "execution_count": null,
   "metadata": {},
   "outputs": [],
   "source": [
    "# get exog forecasts of all variables\n",
    "\n",
    "sales_tweets_forecasts = pd.DataFrame()\n",
    "cols_i_would_like = ['likeCount_sum', 'likeCount_mean', 'replyCount_mean', 'replyCount_sum',\n",
    "                    'retweetCount_mean', 'retweetCount_sum']\n",
    "\n",
    "for device in sales_tweets['device'].unique():\n",
    "    \n",
    "    model_forecasts = tweets_info_forecasts(device, log_transform=True, feature_cols=cols_i_would_like)\n",
    "    sales_tweets_forecasts[f'{device}_forecasts'] = model_forecasts\n",
    "\n",
    "sales_tweets_forecasts"
   ]
  },
  {
   "cell_type": "code",
   "execution_count": null,
   "metadata": {},
   "outputs": [],
   "source": [
    "# calculate RMSE\n",
    "\n",
    "rmse_dict = {}\n",
    "for device in sales_tweets['device'].unique():\n",
    "    device_sales = sales_tweets[sales_tweets['device']==device][1 + train_idx:]['sales']\n",
    "    forecast_col = [c for c in sales_tweets_forecasts.columns if device in c]\n",
    "    forecast_sales = sales_tweets_forecasts[forecast_col]\n",
    "    \n",
    "    rmse_dict[device] = mean_squared_error(y_true=device_sales,\n",
    "                                          y_pred=forecast_sales,\n",
    "                                          squared=False)\n",
    "\n",
    "pd.Series(rmse_dict)"
   ]
  },
  {
   "cell_type": "markdown",
   "metadata": {},
   "source": [
    "Forecasts are more 'normal', but RMSE suggests that their predictiv power is not improved by including additional tweet information. "
   ]
  },
  {
   "cell_type": "markdown",
   "metadata": {},
   "source": [
    "### Plot forecasts charts\n",
    "- for each device, go through all the predictive methods and check which has the best in-sample results \n",
    "- plot the model forecasts against the actual sales\n"
   ]
  },
  {
   "cell_type": "code",
   "execution_count": null,
   "metadata": {},
   "outputs": [],
   "source": [
    "# proces sentiment data\n",
    "sentiment_data = [bert_sentiment, vader_sentiment, countvect_sentiment, tfidf_sentiment]\n",
    "sentiment_names = ['bert', 'vader', 'countvect', 'tfidf']\n",
    "\n",
    "processed_data_dict = {}\n",
    "for i, data in enumerate(sentiment_data):\n",
    "    \n",
    "    sentiment_score = process_data(data)\n",
    "    sentiment_name = sentiment_names[i]\n",
    "    processed_data_dict[sentiment_name] = sentiment_score\n",
    "\n",
    "# peek\n",
    "processed_data_dict['bert'].head()"
   ]
  },
  {
   "cell_type": "code",
   "execution_count": null,
   "metadata": {},
   "outputs": [],
   "source": [
    "# add sales_tweets data\n",
    "\n",
    "new_sales_tweets = pd.DataFrame()\n",
    "\n",
    "for device in ['iphone', 'ipad', 'mac']:\n",
    "    device_mask = sales_tweets['device']==device\n",
    "    device_data = sales_tweets[device_mask][cols_i_would_like + ['QTR_IDX_PREV']]\n",
    "    device_data.set_index('QTR_IDX_PREV', inplace=True)\n",
    "    \n",
    "    # rename cols\n",
    "    device_data.columns = [f'{device}_{c}' for c in device_data.columns]\n",
    "    \n",
    "    new_sales_tweets = pd.concat([new_sales_tweets, device_data], axis=1)\n",
    "\n",
    "    \n",
    "# add to dict\n",
    "processed_data_dict['sales_tweets'] = new_sales_tweets\n",
    "new_sales_tweets.head()"
   ]
  },
  {
   "cell_type": "code",
   "execution_count": null,
   "metadata": {},
   "outputs": [],
   "source": [
    "def eval_in_sample(device):\n",
    "\n",
    "    in_sample_fit = {}\n",
    "    data_used = {}\n",
    "    \n",
    "    # run SARIMAX with exog variables\n",
    "    for sentiment, data in processed_data_dict.items():\n",
    "        print(sentiment)\n",
    "\n",
    "        device_exog_cols = [c for c in data.columns if device in c]\n",
    "\n",
    "        # align data\n",
    "        device_data = sales_df[[device]].merge(data[device_exog_cols], left_index=True, right_index=True)\n",
    "        device_data[device_exog_cols] = device_data[device_exog_cols].shift(1)\n",
    "        device_data.dropna(how='any', inplace=True)\n",
    "        data_used[sentiment] = device_data\n",
    "\n",
    "        train_idx = int(len(device_data) * 0.7)\n",
    "\n",
    "        model = SARIMAX(endog=np.log(device_data.iloc[:train_idx][device]),\n",
    "                        exog=device_data.iloc[:train_idx][device_exog_cols],\n",
    "                        order=order_dict[device]['order'],\n",
    "                        seasonal_order=order_dict[device]['seasonal_order'],\n",
    "                        time_varying_regression=True,\n",
    "                        mle_regression=False)\n",
    "\n",
    "        res = model.fit()\n",
    "\n",
    "        in_sample_fit[sentiment] = (res.bic, np.sqrt(res.mse))\n",
    "    \n",
    "    # run SARIMA with no exog variables\n",
    "    model = SARIMAX(endog=np.log(device_data.iloc[:train_idx][device]),\n",
    "                    exog=None,\n",
    "                    order=order_dict[device]['order'],\n",
    "                    seasonal_order=order_dict[device]['seasonal_order'],\n",
    "                    time_varying_regression=True,\n",
    "                    mle_regression=False)\n",
    "\n",
    "    res = model.fit()\n",
    "\n",
    "    in_sample_fit['no exog'] = (res.bic, np.sqrt(res.mse))\n",
    "    \n",
    "    return data_used, in_sample_fit"
   ]
  },
  {
   "cell_type": "code",
   "execution_count": null,
   "metadata": {},
   "outputs": [],
   "source": [
    "# evaluate in-sample results for iphone\n",
    "device = 'iphone'\n",
    "\n",
    "iphone_data_used, iphone_fit = eval_in_sample(device)"
   ]
  },
  {
   "cell_type": "code",
   "execution_count": null,
   "metadata": {},
   "outputs": [],
   "source": [
    "tmp = pd.DataFrame(iphone_fit, index=['bic', 'rmse'])\n",
    "tmp"
   ]
  },
  {
   "cell_type": "code",
   "execution_count": null,
   "metadata": {},
   "outputs": [],
   "source": [
    "ipad_data_used, ipad_fit = eval_in_sample('ipad')\n",
    "mac_data_used, mac_fit = eval_in_sample('mac')"
   ]
  },
  {
   "cell_type": "code",
   "execution_count": null,
   "metadata": {},
   "outputs": [],
   "source": [
    "# ipad\n",
    "pd.DataFrame(ipad_fit, index=['bic', 'rmse'])"
   ]
  },
  {
   "cell_type": "code",
   "execution_count": null,
   "metadata": {},
   "outputs": [],
   "source": [
    "# mac\n",
    "pd.DataFrame(mac_fit, index=['bic', 'rmse'])"
   ]
  },
  {
   "cell_type": "code",
   "execution_count": null,
   "metadata": {},
   "outputs": [],
   "source": [
    "# get iphone min max, standardise scale\n",
    "y_min = 0\n",
    "y_max = 5 * round(max(sales_df['iphone']) / 5)"
   ]
  },
  {
   "cell_type": "code",
   "execution_count": null,
   "metadata": {},
   "outputs": [],
   "source": [
    "def plot_forecasts(device, exog_used=None, y_max=None, y_min=None):\n",
    "    \n",
    "    # point to the correct dictionary\n",
    "    if device == 'iphone':\n",
    "        data_used = iphone_data_used\n",
    "        \n",
    "    elif device == 'ipad':\n",
    "        data_used = ipad_data_used\n",
    "    \n",
    "    elif device == 'mac':\n",
    "        data_used = mac_data_used\n",
    "    \n",
    "    # get forecasts\n",
    "    pointer = 0\n",
    "    y_pred = pd.Series()\n",
    "    \n",
    "    if exog_used:\n",
    "        data = data_used[exog_used]\n",
    "        device_exog_cols = data.drop(device, axis=1).columns\n",
    "        train_idx = int(len(data) * 0.7)\n",
    "\n",
    "        while pointer < len(data.iloc[train_idx:]):\n",
    "    \n",
    "            model = SARIMAX(endog=np.log(data.iloc[:train_idx + pointer][device]),\n",
    "                            exog=data.iloc[:train_idx + pointer][device_exog_cols],\n",
    "                            order=order_dict[device]['order'],\n",
    "                            seasonal_order=order_dict[device]['seasonal_order'],\n",
    "                            time_varying_regression=True,\n",
    "                            mle_regression=False)\n",
    "\n",
    "            res = model.fit()\n",
    "            forecast = res.forecast(steps=1, exog=data.iloc[pointer + train_idx][device_exog_cols])\n",
    "            y_pred = y_pred.append(np.exp(forecast))\n",
    "            pointer += 1\n",
    "    \n",
    "    else:\n",
    "        data = data_used['bert']  # just take something random\n",
    "        train_idx = int(len(data) * 0.7)\n",
    "\n",
    "        while pointer < len(data.iloc[train_idx:]):\n",
    "    \n",
    "            model = SARIMAX(endog=np.log(data.iloc[:train_idx + pointer][device]),\n",
    "                            exog=None,\n",
    "                            order=order_dict[device]['order'],\n",
    "                            seasonal_order=order_dict[device]['seasonal_order'],\n",
    "                            time_varying_regression=True,\n",
    "                            mle_regression=False)\n",
    "\n",
    "            res = model.fit()\n",
    "            forecast = res.forecast(steps=1)\n",
    "            y_pred = y_pred.append(np.exp(forecast))\n",
    "            pointer += 1\n",
    "        \n",
    "    \n",
    "    # plot\n",
    "    y_true = data[device]\n",
    "\n",
    "    fig, ax = plt.subplots(figsize=(18, 10))\n",
    "    plt.plot(data.index, y_true, label='actual')\n",
    "    plt.plot(data.iloc[train_idx:].index, y_pred, label='forecast')\n",
    "    plt.xlabel(\"Quarter\")\n",
    "    plt.ylabel(\"Unit Sales\")\n",
    "    \n",
    "    if (y_max is not None) and (y_min is not None):\n",
    "        plt.yticks(np.arange(y_min, y_max, 2.5))\n",
    "    \n",
    "    if exog_used:\n",
    "        plt.title(f\"{device} Sales Forecast, {exog_used} as additional regressor\")\n",
    "    else:\n",
    "        plt.title(f'{device} Sales Forecast')\n",
    "    plt.grid(True)\n",
    "    plt.legend()\n",
    "        \n",
    "    return y_pred"
   ]
  },
  {
   "cell_type": "code",
   "execution_count": null,
   "metadata": {},
   "outputs": [],
   "source": [
    "# vader exog\n",
    "plot_forecasts('iphone', 'vader')"
   ]
  },
  {
   "cell_type": "code",
   "execution_count": null,
   "metadata": {},
   "outputs": [],
   "source": [
    "# ipad forecasts\n",
    "plot_forecasts('ipad')"
   ]
  },
  {
   "cell_type": "code",
   "execution_count": null,
   "metadata": {},
   "outputs": [],
   "source": [
    "# ipad vader\n",
    "plot_forecasts('ipad', 'vader')"
   ]
  },
  {
   "cell_type": "code",
   "execution_count": null,
   "metadata": {},
   "outputs": [],
   "source": [
    "# mac \n",
    "plot_forecasts('mac', y_min=0, y_max=10)"
   ]
  },
  {
   "cell_type": "code",
   "execution_count": null,
   "metadata": {},
   "outputs": [],
   "source": [
    "# mac bert\n",
    "plot_forecasts('mac', 'bert', y_min=0, y_max=10)"
   ]
  },
  {
   "cell_type": "code",
   "execution_count": null,
   "metadata": {},
   "outputs": [],
   "source": [
    "%load_ext watermark\n",
    "\n",
    "%watermark --iversions"
   ]
  }
 ],
 "metadata": {
  "kernelspec": {
   "display_name": "Python 3",
   "language": "python",
   "name": "python3"
  },
  "language_info": {
   "codemirror_mode": {
    "name": "ipython",
    "version": 3
   },
   "file_extension": ".py",
   "mimetype": "text/x-python",
   "name": "python",
   "nbconvert_exporter": "python",
   "pygments_lexer": "ipython3",
   "version": "3.6.8"
  }
 },
 "nbformat": 4,
 "nbformat_minor": 4
}
