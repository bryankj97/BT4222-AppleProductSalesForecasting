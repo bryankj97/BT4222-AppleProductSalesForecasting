{
 "cells": [
  {
   "cell_type": "code",
   "execution_count": 59,
   "metadata": {},
   "outputs": [],
   "source": [
    "import pandas as pd\n",
    "import numpy as np\n",
    "import datetime as dt\n",
    "from bsi_sentiment.twitter import search_tweets_sn"
   ]
  },
  {
   "cell_type": "code",
   "execution_count": 13,
   "metadata": {
    "scrolled": false
   },
   "outputs": [
    {
     "name": "stderr",
     "output_type": "stream",
     "text": [
      "Downloading tweets: 100%|████████████████████████████████████████████████████████████| 100/100 [00:03<00:00, 25.50it/s]\n"
     ]
    }
   ],
   "source": [
    "# sample query\n",
    "tweets = search_tweets_sn(\n",
    "  q=\"iphone\",\n",
    "  since=\"2012-08-01\",\n",
    "  until=\"2012-11-30\",\n",
    "  near=\"New York\",\n",
    "  radius=\"100km\",\n",
    "  lang=\"en\",\n",
    "  max_tweets=100\n",
    ")"
   ]
  },
  {
   "cell_type": "code",
   "execution_count": 19,
   "metadata": {},
   "outputs": [
    {
     "data": {
      "text/plain": [
       "{'id': 274301714927071235, 'permalink': 'https://twitter.com/WilliamBilliot/status/274301714927071235', 'username': 'WilliamBilliot', 'text': \"I've harvested 1,120 of food! http://t.co/ckQOrrzp #iphone, #iphonegames, #gameinsight\", 'date': '2012-11-29'}"
      ]
     },
     "execution_count": 19,
     "metadata": {},
     "output_type": "execute_result"
    }
   ],
   "source": [
    "tweet = tweets.__getitem__(0)\n",
    "tweet"
   ]
  },
  {
   "cell_type": "code",
   "execution_count": 58,
   "metadata": {},
   "outputs": [
    {
     "data": {
      "text/plain": [
       "True"
      ]
     },
     "execution_count": 58,
     "metadata": {},
     "output_type": "execute_result"
    }
   ],
   "source": [
    "type('asdf') == str"
   ]
  },
  {
   "cell_type": "code",
   "execution_count": 62,
   "metadata": {},
   "outputs": [
    {
     "ename": "AttributeError",
     "evalue": "'str' object has no attribute 'strftime'",
     "output_type": "error",
     "traceback": [
      "\u001b[1;31m---------------------------------------------------------------------------\u001b[0m",
      "\u001b[1;31mAttributeError\u001b[0m                            Traceback (most recent call last)",
      "\u001b[1;32m<ipython-input-62-471af0284019>\u001b[0m in \u001b[0;36m<module>\u001b[1;34m\u001b[0m\n\u001b[0;32m      1\u001b[0m \u001b[0msome_date\u001b[0m \u001b[1;33m=\u001b[0m \u001b[1;34m'abc'\u001b[0m\u001b[1;33m\u001b[0m\u001b[1;33m\u001b[0m\u001b[0m\n\u001b[1;32m----> 2\u001b[1;33m \u001b[0msome_date\u001b[0m\u001b[1;33m.\u001b[0m\u001b[0mstrftime\u001b[0m\u001b[1;33m(\u001b[0m\u001b[1;34m'%Y-%m-%d'\u001b[0m\u001b[1;33m)\u001b[0m\u001b[1;33m\u001b[0m\u001b[1;33m\u001b[0m\u001b[0m\n\u001b[0m",
      "\u001b[1;31mAttributeError\u001b[0m: 'str' object has no attribute 'strftime'"
     ]
    }
   ],
   "source": [
    "some_date = 'abc'\n",
    "some_date.strftime('%Y-%m-%d')"
   ]
  },
  {
   "cell_type": "code",
   "execution_count": 63,
   "metadata": {},
   "outputs": [
    {
     "name": "stderr",
     "output_type": "stream",
     "text": [
      "Downloading tweets: 100%|██████████████████████████████████████████████████████████| 1000/1000 [00:13<00:00, 72.01it/s]\n"
     ]
    },
    {
     "data": {
      "text/html": [
       "<div>\n",
       "<style scoped>\n",
       "    .dataframe tbody tr th:only-of-type {\n",
       "        vertical-align: middle;\n",
       "    }\n",
       "\n",
       "    .dataframe tbody tr th {\n",
       "        vertical-align: top;\n",
       "    }\n",
       "\n",
       "    .dataframe thead th {\n",
       "        text-align: right;\n",
       "    }\n",
       "</style>\n",
       "<table border=\"1\" class=\"dataframe\">\n",
       "  <thead>\n",
       "    <tr style=\"text-align: right;\">\n",
       "      <th></th>\n",
       "      <th>date</th>\n",
       "      <th>text</th>\n",
       "    </tr>\n",
       "  </thead>\n",
       "  <tbody>\n",
       "    <tr>\n",
       "      <th>0</th>\n",
       "      <td>2018-10-29</td>\n",
       "      <td>I just entered to win an iPad mini from @Right...</td>\n",
       "    </tr>\n",
       "    <tr>\n",
       "      <th>1</th>\n",
       "      <td>2018-10-29</td>\n",
       "      <td>ok so the apple event yeah here are my predict...</td>\n",
       "    </tr>\n",
       "    <tr>\n",
       "      <th>2</th>\n",
       "      <td>2018-10-29</td>\n",
       "      <td>Apple expected to announce new iPad Pro withou...</td>\n",
       "    </tr>\n",
       "    <tr>\n",
       "      <th>3</th>\n",
       "      <td>2018-10-29</td>\n",
       "      <td>Interesting that iOS 12.1 is coming out on the...</td>\n",
       "    </tr>\n",
       "    <tr>\n",
       "      <th>4</th>\n",
       "      <td>2018-10-29</td>\n",
       "      <td>Plug in with Infinity Scratch! A chance to win...</td>\n",
       "    </tr>\n",
       "    <tr>\n",
       "      <th>...</th>\n",
       "      <td>...</td>\n",
       "      <td>...</td>\n",
       "    </tr>\n",
       "    <tr>\n",
       "      <th>995</th>\n",
       "      <td>2018-10-29</td>\n",
       "      <td>This child really took a picture with an IPad ...</td>\n",
       "    </tr>\n",
       "    <tr>\n",
       "      <th>996</th>\n",
       "      <td>2018-10-29</td>\n",
       "      <td>iPad/tablet cases coming soon..... these alrea...</td>\n",
       "    </tr>\n",
       "    <tr>\n",
       "      <th>997</th>\n",
       "      <td>2018-10-29</td>\n",
       "      <td>Fantastic INSET day with @P_Dawes looking at h...</td>\n",
       "    </tr>\n",
       "    <tr>\n",
       "      <th>998</th>\n",
       "      <td>2018-10-29</td>\n",
       "      <td>A few exciting projects to share with students...</td>\n",
       "    </tr>\n",
       "    <tr>\n",
       "      <th>999</th>\n",
       "      <td>2018-10-29</td>\n",
       "      <td>Tomorrow apple special event in Brooklyn is se...</td>\n",
       "    </tr>\n",
       "  </tbody>\n",
       "</table>\n",
       "<p>1000 rows × 2 columns</p>\n",
       "</div>"
      ],
      "text/plain": [
       "           date                                               text\n",
       "0    2018-10-29  I just entered to win an iPad mini from @Right...\n",
       "1    2018-10-29  ok so the apple event yeah here are my predict...\n",
       "2    2018-10-29  Apple expected to announce new iPad Pro withou...\n",
       "3    2018-10-29  Interesting that iOS 12.1 is coming out on the...\n",
       "4    2018-10-29  Plug in with Infinity Scratch! A chance to win...\n",
       "..          ...                                                ...\n",
       "995  2018-10-29  This child really took a picture with an IPad ...\n",
       "996  2018-10-29  iPad/tablet cases coming soon..... these alrea...\n",
       "997  2018-10-29  Fantastic INSET day with @P_Dawes looking at h...\n",
       "998  2018-10-29  A few exciting projects to share with students...\n",
       "999  2018-10-29  Tomorrow apple special event in Brooklyn is se...\n",
       "\n",
       "[1000 rows x 2 columns]"
      ]
     },
     "execution_count": 63,
     "metadata": {},
     "output_type": "execute_result"
    }
   ],
   "source": [
    "# helper function\n",
    "def convert_date_to_str(date, date_format='%Y-%m-%d'):\n",
    "    try:\n",
    "        date_str = date.strftime(date_format)\n",
    "    except AttributeError:\n",
    "        print('please enter valid format')\n",
    "    return date_str\n",
    "\n",
    "def get_tweets_df(query, start, end, lang='en', max_tweets=1000, near=None, radius=None):\n",
    "    '''\n",
    "    query: str\n",
    "        the search query we want to perform\n",
    "    start, end: str or datetime\n",
    "        start and end of time range we are searching for, YYYY-MM-DD\n",
    "    '''\n",
    "    if type(start)!=str:\n",
    "        start = convert_date_to_str(start)\n",
    "    \n",
    "    if type(end)!=str:\n",
    "        end = convert_date_to_str(end)\n",
    "\n",
    "    # get tweets using lib\n",
    "    tweets = search_tweets_sn(\n",
    "        q=query, since=start, until=end, near=near, radius=radius, lang=lang, max_tweets=max_tweets)\n",
    "    \n",
    "    # convert to dataframe\n",
    "    df_dict = {'date': [], 'text': []}\n",
    "    for t in tweets.tweets:\n",
    "        df_dict['date'].append(t.date)\n",
    "        df_dict['text'].append(t.text)\n",
    "    \n",
    "    df = pd.DataFrame.from_dict(df_dict)\n",
    "    return df\n",
    "\n",
    "get_tweets_df('iPad', start='2018-10-01', end='2018-10-30')"
   ]
  },
  {
   "cell_type": "code",
   "execution_count": 65,
   "metadata": {},
   "outputs": [
    {
     "name": "stderr",
     "output_type": "stream",
     "text": [
      "Downloading tweets: 100%|██████████████████████████████████████████████████████████| 1000/1000 [00:16<00:00, 62.43it/s]\n"
     ]
    },
    {
     "data": {
      "text/html": [
       "<div>\n",
       "<style scoped>\n",
       "    .dataframe tbody tr th:only-of-type {\n",
       "        vertical-align: middle;\n",
       "    }\n",
       "\n",
       "    .dataframe tbody tr th {\n",
       "        vertical-align: top;\n",
       "    }\n",
       "\n",
       "    .dataframe thead th {\n",
       "        text-align: right;\n",
       "    }\n",
       "</style>\n",
       "<table border=\"1\" class=\"dataframe\">\n",
       "  <thead>\n",
       "    <tr style=\"text-align: right;\">\n",
       "      <th></th>\n",
       "      <th>date</th>\n",
       "      <th>text</th>\n",
       "    </tr>\n",
       "  </thead>\n",
       "  <tbody>\n",
       "    <tr>\n",
       "      <th>0</th>\n",
       "      <td>2018-10-13</td>\n",
       "      <td>ICYMI: ON-THE-GO Food Truck is out 8pm-midnigh...</td>\n",
       "    </tr>\n",
       "    <tr>\n",
       "      <th>1</th>\n",
       "      <td>2018-10-13</td>\n",
       "      <td>Mac Rumors: Apple Criticizes Proposed Anti-Enc...</td>\n",
       "    </tr>\n",
       "    <tr>\n",
       "      <th>2</th>\n",
       "      <td>2018-10-13</td>\n",
       "      <td>HS VB team ends up 3rd at the MAC tournament t...</td>\n",
       "    </tr>\n",
       "    <tr>\n",
       "      <th>3</th>\n",
       "      <td>2018-10-13</td>\n",
       "      <td>im rly editing and making mac and cheese at th...</td>\n",
       "    </tr>\n",
       "    <tr>\n",
       "      <th>4</th>\n",
       "      <td>2018-10-13</td>\n",
       "      <td>Inside Outside x Mac Miller off Faces. Literal...</td>\n",
       "    </tr>\n",
       "    <tr>\n",
       "      <th>...</th>\n",
       "      <td>...</td>\n",
       "      <td>...</td>\n",
       "    </tr>\n",
       "    <tr>\n",
       "      <th>995</th>\n",
       "      <td>2018-10-13</td>\n",
       "      <td>Orlando wit the T Mac throwback 📍 https://t.co...</td>\n",
       "    </tr>\n",
       "    <tr>\n",
       "      <th>996</th>\n",
       "      <td>2018-10-13</td>\n",
       "      <td>Shout out to Charlie and Bernie Mac, for prote...</td>\n",
       "    </tr>\n",
       "    <tr>\n",
       "      <th>997</th>\n",
       "      <td>2018-10-13</td>\n",
       "      <td>how about we consider mac miller instead https...</td>\n",
       "    </tr>\n",
       "    <tr>\n",
       "      <th>998</th>\n",
       "      <td>2018-10-13</td>\n",
       "      <td>“Michael Tsai - Blog - Is There Hope for the M...</td>\n",
       "    </tr>\n",
       "    <tr>\n",
       "      <th>999</th>\n",
       "      <td>2018-10-13</td>\n",
       "      <td>Mac Miller’s death still has me shocked. I’m n...</td>\n",
       "    </tr>\n",
       "  </tbody>\n",
       "</table>\n",
       "<p>1000 rows × 2 columns</p>\n",
       "</div>"
      ],
      "text/plain": [
       "           date                                               text\n",
       "0    2018-10-13  ICYMI: ON-THE-GO Food Truck is out 8pm-midnigh...\n",
       "1    2018-10-13  Mac Rumors: Apple Criticizes Proposed Anti-Enc...\n",
       "2    2018-10-13  HS VB team ends up 3rd at the MAC tournament t...\n",
       "3    2018-10-13  im rly editing and making mac and cheese at th...\n",
       "4    2018-10-13  Inside Outside x Mac Miller off Faces. Literal...\n",
       "..          ...                                                ...\n",
       "995  2018-10-13  Orlando wit the T Mac throwback 📍 https://t.co...\n",
       "996  2018-10-13  Shout out to Charlie and Bernie Mac, for prote...\n",
       "997  2018-10-13  how about we consider mac miller instead https...\n",
       "998  2018-10-13  “Michael Tsai - Blog - Is There Hope for the M...\n",
       "999  2018-10-13  Mac Miller’s death still has me shocked. I’m n...\n",
       "\n",
       "[1000 rows x 2 columns]"
      ]
     },
     "execution_count": 65,
     "metadata": {},
     "output_type": "execute_result"
    }
   ],
   "source": [
    "get_tweets_df('Mac', start=dt.date(2018, 10, 1), end=dt.date(2018, 10, 14))"
   ]
  }
 ],
 "metadata": {
  "kernelspec": {
   "display_name": "'Python Interactive'",
   "language": "python",
   "name": "556ede28-59bb-41c7-b01c-4c815cabbeeb"
  },
  "language_info": {
   "codemirror_mode": {
    "name": "ipython",
    "version": 3
   },
   "file_extension": ".py",
   "mimetype": "text/x-python",
   "name": "python",
   "nbconvert_exporter": "python",
   "pygments_lexer": "ipython3",
   "version": "3.6.8"
  }
 },
 "nbformat": 4,
 "nbformat_minor": 4
}
