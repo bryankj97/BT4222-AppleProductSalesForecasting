{
 "cells": [
  {
   "cell_type": "markdown",
   "metadata": {},
   "source": [
    "## Data Preprocessing"
   ]
  },
  {
   "cell_type": "code",
   "execution_count": 463,
   "metadata": {
    "colab": {
     "base_uri": "https://localhost:8080/"
    },
    "id": "zywmH0u2v9ZW",
    "outputId": "c40f96ef-a2df-4b89-b071-c782bda29d7a"
   },
   "outputs": [],
   "source": [
    "import pandas as pd\n",
    "import numpy as np"
   ]
  },
  {
   "cell_type": "markdown",
   "metadata": {},
   "source": [
    "Kaggle Dataset split into train and test\n",
    "- Training set: twitter_train.csv\n",
    "- Test set: twitter_test.csv"
   ]
  },
  {
   "cell_type": "code",
   "execution_count": 493,
   "metadata": {
    "id": "IAKLkAkRwVTi"
   },
   "outputs": [],
   "source": [
    "df = pd.read_csv('./data/twitter_train.csv')"
   ]
  },
  {
   "cell_type": "code",
   "execution_count": 494,
   "metadata": {
    "colab": {
     "base_uri": "https://localhost:8080/",
     "height": 142
    },
    "id": "knFXsh68wisk",
    "outputId": "6f0ea9a0-d80f-456e-e7a1-de2012585db4"
   },
   "outputs": [
    {
     "data": {
      "text/html": [
       "<div>\n",
       "<style scoped>\n",
       "    .dataframe tbody tr th:only-of-type {\n",
       "        vertical-align: middle;\n",
       "    }\n",
       "\n",
       "    .dataframe tbody tr th {\n",
       "        vertical-align: top;\n",
       "    }\n",
       "\n",
       "    .dataframe thead th {\n",
       "        text-align: right;\n",
       "    }\n",
       "</style>\n",
       "<table border=\"1\" class=\"dataframe\">\n",
       "  <thead>\n",
       "    <tr style=\"text-align: right;\">\n",
       "      <th></th>\n",
       "      <th>textID</th>\n",
       "      <th>text</th>\n",
       "      <th>selected_text</th>\n",
       "      <th>sentiment</th>\n",
       "    </tr>\n",
       "  </thead>\n",
       "  <tbody>\n",
       "    <tr>\n",
       "      <th>0</th>\n",
       "      <td>cb774db0d1</td>\n",
       "      <td>I`d have responded, if I were going</td>\n",
       "      <td>I`d have responded, if I were going</td>\n",
       "      <td>neutral</td>\n",
       "    </tr>\n",
       "    <tr>\n",
       "      <th>1</th>\n",
       "      <td>549e992a42</td>\n",
       "      <td>Sooo SAD I will miss you here in San Diego!!!</td>\n",
       "      <td>Sooo SAD</td>\n",
       "      <td>negative</td>\n",
       "    </tr>\n",
       "    <tr>\n",
       "      <th>2</th>\n",
       "      <td>088c60f138</td>\n",
       "      <td>my boss is bullying me...</td>\n",
       "      <td>bullying me</td>\n",
       "      <td>negative</td>\n",
       "    </tr>\n",
       "  </tbody>\n",
       "</table>\n",
       "</div>"
      ],
      "text/plain": [
       "       textID                                            text  \\\n",
       "0  cb774db0d1             I`d have responded, if I were going   \n",
       "1  549e992a42   Sooo SAD I will miss you here in San Diego!!!   \n",
       "2  088c60f138                       my boss is bullying me...   \n",
       "\n",
       "                         selected_text sentiment  \n",
       "0  I`d have responded, if I were going   neutral  \n",
       "1                             Sooo SAD  negative  \n",
       "2                          bullying me  negative  "
      ]
     },
     "execution_count": 494,
     "metadata": {},
     "output_type": "execute_result"
    }
   ],
   "source": [
    "df.head(3)"
   ]
  },
  {
   "cell_type": "code",
   "execution_count": 495,
   "metadata": {
    "colab": {
     "base_uri": "https://localhost:8080/",
     "height": 164
    },
    "id": "XfLb-S2_xw_A",
    "outputId": "aee33d47-580e-4d7a-a0ae-9d04dd90cbc3"
   },
   "outputs": [
    {
     "data": {
      "text/plain": [
       "(27481, 4)"
      ]
     },
     "execution_count": 495,
     "metadata": {},
     "output_type": "execute_result"
    }
   ],
   "source": [
    "df.shape"
   ]
  },
  {
   "cell_type": "markdown",
   "metadata": {},
   "source": [
    "Removal of null values"
   ]
  },
  {
   "cell_type": "code",
   "execution_count": 496,
   "metadata": {
    "colab": {
     "base_uri": "https://localhost:8080/",
     "height": 80
    },
    "id": "Uem9353Uxzov",
    "outputId": "2000ecce-0844-48ac-f729-9f343b47d668"
   },
   "outputs": [
    {
     "data": {
      "text/html": [
       "<div>\n",
       "<style scoped>\n",
       "    .dataframe tbody tr th:only-of-type {\n",
       "        vertical-align: middle;\n",
       "    }\n",
       "\n",
       "    .dataframe tbody tr th {\n",
       "        vertical-align: top;\n",
       "    }\n",
       "\n",
       "    .dataframe thead th {\n",
       "        text-align: right;\n",
       "    }\n",
       "</style>\n",
       "<table border=\"1\" class=\"dataframe\">\n",
       "  <thead>\n",
       "    <tr style=\"text-align: right;\">\n",
       "      <th></th>\n",
       "      <th>textID</th>\n",
       "      <th>text</th>\n",
       "      <th>selected_text</th>\n",
       "      <th>sentiment</th>\n",
       "    </tr>\n",
       "  </thead>\n",
       "  <tbody>\n",
       "    <tr>\n",
       "      <th>314</th>\n",
       "      <td>fdb77c3752</td>\n",
       "      <td>NaN</td>\n",
       "      <td>NaN</td>\n",
       "      <td>neutral</td>\n",
       "    </tr>\n",
       "  </tbody>\n",
       "</table>\n",
       "</div>"
      ],
      "text/plain": [
       "         textID text selected_text sentiment\n",
       "314  fdb77c3752  NaN           NaN   neutral"
      ]
     },
     "execution_count": 496,
     "metadata": {},
     "output_type": "execute_result"
    }
   ],
   "source": [
    "df[df.isnull().any(axis=1)]"
   ]
  },
  {
   "cell_type": "code",
   "execution_count": 497,
   "metadata": {
    "id": "JR-QGQ9ix1Cs"
   },
   "outputs": [],
   "source": [
    "df = df.dropna(subset=['text'])"
   ]
  },
  {
   "cell_type": "code",
   "execution_count": 498,
   "metadata": {
    "colab": {
     "base_uri": "https://localhost:8080/"
    },
    "id": "LU2vYT48yE9p",
    "outputId": "5297ac2b-7c41-4d18-960c-16c279397703"
   },
   "outputs": [
    {
     "data": {
      "text/plain": [
       "(27480, 4)"
      ]
     },
     "execution_count": 498,
     "metadata": {},
     "output_type": "execute_result"
    }
   ],
   "source": [
    "# Drop the only NaN row\n",
    "df.shape"
   ]
  },
  {
   "cell_type": "code",
   "execution_count": 499,
   "metadata": {
    "colab": {
     "base_uri": "https://localhost:8080/"
    },
    "id": "s077hBm2yNtc",
    "outputId": "0289b9eb-c766-463e-a2bc-5f332bed09e8"
   },
   "outputs": [
    {
     "data": {
      "text/plain": [
       "True"
      ]
     },
     "execution_count": 499,
     "metadata": {},
     "output_type": "execute_result"
    }
   ],
   "source": [
    "#Check if all rows are non-null\n",
    "len(df[df.isnull().any(axis=1)]) == 0"
   ]
  },
  {
   "cell_type": "markdown",
   "metadata": {},
   "source": [
    "Encoding of sentiment values into integers"
   ]
  },
  {
   "cell_type": "code",
   "execution_count": 500,
   "metadata": {
    "colab": {
     "base_uri": "https://localhost:8080/"
    },
    "id": "bJHW1X9ayQEX",
    "outputId": "5fd3cab5-c6dc-49fb-bf68-a633c5292712"
   },
   "outputs": [
    {
     "data": {
      "text/plain": [
       "neutral     11117\n",
       "positive     8582\n",
       "negative     7781\n",
       "Name: sentiment, dtype: int64"
      ]
     },
     "execution_count": 500,
     "metadata": {},
     "output_type": "execute_result"
    }
   ],
   "source": [
    "df['sentiment'].value_counts()"
   ]
  },
  {
   "cell_type": "code",
   "execution_count": 501,
   "metadata": {
    "id": "-E5RlwdbyU6o"
   },
   "outputs": [],
   "source": [
    "# Encode snetiment with numerics\n",
    "def encode_sentiment(x):\n",
    "  if x == 'positive':\n",
    "    return 1\n",
    "  elif x == 'negative':\n",
    "    return -1\n",
    "  else:\n",
    "    return 0"
   ]
  },
  {
   "cell_type": "code",
   "execution_count": 502,
   "metadata": {
    "id": "HRRHiPBMydyU"
   },
   "outputs": [],
   "source": [
    "df['sentiment'] = df['sentiment'].apply(encode_sentiment)"
   ]
  },
  {
   "cell_type": "code",
   "execution_count": 503,
   "metadata": {
    "colab": {
     "base_uri": "https://localhost:8080/",
     "height": 142
    },
    "id": "ykqGHd_FyimR",
    "outputId": "3a3ec7ea-664a-4089-8a7f-85b942c5c214"
   },
   "outputs": [
    {
     "data": {
      "text/html": [
       "<div>\n",
       "<style scoped>\n",
       "    .dataframe tbody tr th:only-of-type {\n",
       "        vertical-align: middle;\n",
       "    }\n",
       "\n",
       "    .dataframe tbody tr th {\n",
       "        vertical-align: top;\n",
       "    }\n",
       "\n",
       "    .dataframe thead th {\n",
       "        text-align: right;\n",
       "    }\n",
       "</style>\n",
       "<table border=\"1\" class=\"dataframe\">\n",
       "  <thead>\n",
       "    <tr style=\"text-align: right;\">\n",
       "      <th></th>\n",
       "      <th>textID</th>\n",
       "      <th>text</th>\n",
       "      <th>selected_text</th>\n",
       "      <th>sentiment</th>\n",
       "    </tr>\n",
       "  </thead>\n",
       "  <tbody>\n",
       "    <tr>\n",
       "      <th>0</th>\n",
       "      <td>cb774db0d1</td>\n",
       "      <td>I`d have responded, if I were going</td>\n",
       "      <td>I`d have responded, if I were going</td>\n",
       "      <td>0</td>\n",
       "    </tr>\n",
       "    <tr>\n",
       "      <th>1</th>\n",
       "      <td>549e992a42</td>\n",
       "      <td>Sooo SAD I will miss you here in San Diego!!!</td>\n",
       "      <td>Sooo SAD</td>\n",
       "      <td>-1</td>\n",
       "    </tr>\n",
       "    <tr>\n",
       "      <th>2</th>\n",
       "      <td>088c60f138</td>\n",
       "      <td>my boss is bullying me...</td>\n",
       "      <td>bullying me</td>\n",
       "      <td>-1</td>\n",
       "    </tr>\n",
       "  </tbody>\n",
       "</table>\n",
       "</div>"
      ],
      "text/plain": [
       "       textID                                            text  \\\n",
       "0  cb774db0d1             I`d have responded, if I were going   \n",
       "1  549e992a42   Sooo SAD I will miss you here in San Diego!!!   \n",
       "2  088c60f138                       my boss is bullying me...   \n",
       "\n",
       "                         selected_text  sentiment  \n",
       "0  I`d have responded, if I were going          0  \n",
       "1                             Sooo SAD         -1  \n",
       "2                          bullying me         -1  "
      ]
     },
     "execution_count": 503,
     "metadata": {},
     "output_type": "execute_result"
    }
   ],
   "source": [
    "df.head(3)"
   ]
  },
  {
   "cell_type": "markdown",
   "metadata": {},
   "source": [
    "Preparing training and test datasets"
   ]
  },
  {
   "cell_type": "code",
   "execution_count": 504,
   "metadata": {
    "id": "kUyJh1nnzlDy"
   },
   "outputs": [],
   "source": [
    "#Rebalancing training dataset\n",
    "\n",
    "obs_num = min(df['sentiment'].value_counts())\n",
    "\n",
    "df_class_positive = df[df['sentiment'] == 1]\n",
    "df_class_neutral = df[df['sentiment'] == 0]\n",
    "df_class_negative = df[df['sentiment'] == -1]\n",
    "\n",
    "sample_positive = df_class_positive.sample(obs_num)\n",
    "sample_neutral = df_class_neutral.sample(obs_num)\n",
    "sample_negative = df_class_negative.sample(obs_num)\n",
    "\n",
    "#Concat and shuffle\n",
    "df_new = pd.concat([sample_positive, sample_neutral, sample_negative], axis=0).sample(frac=1)"
   ]
  },
  {
   "cell_type": "code",
   "execution_count": 505,
   "metadata": {
    "colab": {
     "base_uri": "https://localhost:8080/"
    },
    "id": "WlP95Wbuz9q9",
    "outputId": "cd0c99ec-6c13-4da3-e835-aeb972f1c7c8"
   },
   "outputs": [
    {
     "data": {
      "text/plain": [
       "-1    7781\n",
       " 1    7781\n",
       " 0    7781\n",
       "Name: sentiment, dtype: int64"
      ]
     },
     "execution_count": 505,
     "metadata": {},
     "output_type": "execute_result"
    }
   ],
   "source": [
    "df_new.sentiment.value_counts()"
   ]
  },
  {
   "cell_type": "code",
   "execution_count": 506,
   "metadata": {
    "id": "gCsKuBmq0S_I"
   },
   "outputs": [],
   "source": [
    "df_test = pd.read_csv('./data/twitter_test.csv')"
   ]
  },
  {
   "cell_type": "code",
   "execution_count": 507,
   "metadata": {
    "id": "3Svtg8uo0Xxu"
   },
   "outputs": [],
   "source": [
    "df_test['sentiment'] = df_test['sentiment'].apply(encode_sentiment)"
   ]
  },
  {
   "cell_type": "code",
   "execution_count": 508,
   "metadata": {
    "id": "fKfNln2h0HIk"
   },
   "outputs": [],
   "source": [
    "X_train = df_new.text\n",
    "y_train = df_new.sentiment\n",
    "X_test = df_test.text\n",
    "y_test = df_test.sentiment"
   ]
  },
  {
   "cell_type": "code",
   "execution_count": 509,
   "metadata": {
    "colab": {
     "base_uri": "https://localhost:8080/"
    },
    "id": "Yno1dSOi0q6x",
    "outputId": "30933b1e-3d88-4c59-98ca-d585d92ea1e8"
   },
   "outputs": [
    {
     "name": "stdout",
     "output_type": "stream",
     "text": [
      "(23343,)\n",
      "(3534,)\n",
      "(23343,)\n",
      "(3534,)\n"
     ]
    }
   ],
   "source": [
    "print(X_train.shape)\n",
    "print(X_test.shape)\n",
    "print(y_train.shape)\n",
    "print(y_test.shape)"
   ]
  },
  {
   "cell_type": "markdown",
   "metadata": {},
   "source": [
    "Set up tweet dataset to be labelled"
   ]
  },
  {
   "cell_type": "code",
   "execution_count": 568,
   "metadata": {},
   "outputs": [
    {
     "data": {
      "text/html": [
       "<div>\n",
       "<style scoped>\n",
       "    .dataframe tbody tr th:only-of-type {\n",
       "        vertical-align: middle;\n",
       "    }\n",
       "\n",
       "    .dataframe tbody tr th {\n",
       "        vertical-align: top;\n",
       "    }\n",
       "\n",
       "    .dataframe thead th {\n",
       "        text-align: right;\n",
       "    }\n",
       "</style>\n",
       "<table border=\"1\" class=\"dataframe\">\n",
       "  <thead>\n",
       "    <tr style=\"text-align: right;\">\n",
       "      <th></th>\n",
       "      <th>Unnamed: 0</th>\n",
       "      <th>url</th>\n",
       "      <th>date</th>\n",
       "      <th>content</th>\n",
       "      <th>id</th>\n",
       "      <th>user</th>\n",
       "      <th>outlinks</th>\n",
       "      <th>tcooutlinks</th>\n",
       "      <th>replyCount</th>\n",
       "      <th>retweetCount</th>\n",
       "      <th>...</th>\n",
       "      <th>conversationId</th>\n",
       "      <th>lang</th>\n",
       "      <th>source</th>\n",
       "      <th>sourceUrl</th>\n",
       "      <th>sourceLabel</th>\n",
       "      <th>media</th>\n",
       "      <th>retweetedTweet</th>\n",
       "      <th>quotedTweet</th>\n",
       "      <th>mentionedUsers</th>\n",
       "      <th>device</th>\n",
       "    </tr>\n",
       "  </thead>\n",
       "  <tbody>\n",
       "    <tr>\n",
       "      <th>0</th>\n",
       "      <td>0</td>\n",
       "      <td>https://twitter.com/lundp/status/1547135712536...</td>\n",
       "      <td>2012-01-04 23:59:24+00:00</td>\n",
       "      <td>Trying new iSkin protector on MacBook Pro. And...</td>\n",
       "      <td>154713571253686272</td>\n",
       "      <td>https://twitter.com/lundp</td>\n",
       "      <td>[]</td>\n",
       "      <td>[]</td>\n",
       "      <td>0</td>\n",
       "      <td>0</td>\n",
       "      <td>...</td>\n",
       "      <td>154713571253686272</td>\n",
       "      <td>en</td>\n",
       "      <td>&lt;a href=\"http://itunes.apple.com/us/app/twitte...</td>\n",
       "      <td>http://itunes.apple.com/us/app/twitter/id40978...</td>\n",
       "      <td>Twitter for Mac</td>\n",
       "      <td>NaN</td>\n",
       "      <td>NaN</td>\n",
       "      <td>NaN</td>\n",
       "      <td>NaN</td>\n",
       "      <td>mac</td>\n",
       "    </tr>\n",
       "    <tr>\n",
       "      <th>1</th>\n",
       "      <td>1</td>\n",
       "      <td>https://twitter.com/JayDCooke/status/154713564...</td>\n",
       "      <td>2012-01-04 23:59:22+00:00</td>\n",
       "      <td>I'm ready to get on the #MacBook</td>\n",
       "      <td>154713564031090689</td>\n",
       "      <td>https://twitter.com/JayDCooke</td>\n",
       "      <td>[]</td>\n",
       "      <td>[]</td>\n",
       "      <td>0</td>\n",
       "      <td>0</td>\n",
       "      <td>...</td>\n",
       "      <td>154713564031090689</td>\n",
       "      <td>en</td>\n",
       "      <td>&lt;a href=\"http://twitter.com/download/iphone\" r...</td>\n",
       "      <td>http://twitter.com/download/iphone</td>\n",
       "      <td>Twitter for iPhone</td>\n",
       "      <td>NaN</td>\n",
       "      <td>NaN</td>\n",
       "      <td>NaN</td>\n",
       "      <td>NaN</td>\n",
       "      <td>mac</td>\n",
       "    </tr>\n",
       "    <tr>\n",
       "      <th>2</th>\n",
       "      <td>2</td>\n",
       "      <td>https://twitter.com/Semhar/status/154713498935...</td>\n",
       "      <td>2012-01-04 23:59:07+00:00</td>\n",
       "      <td>Syncing my entire life. All my personal &amp; DAWN...</td>\n",
       "      <td>154713498935496704</td>\n",
       "      <td>https://twitter.com/Semhar</td>\n",
       "      <td>[]</td>\n",
       "      <td>[]</td>\n",
       "      <td>0</td>\n",
       "      <td>0</td>\n",
       "      <td>...</td>\n",
       "      <td>154713498935496704</td>\n",
       "      <td>en</td>\n",
       "      <td>&lt;a href=\"http://twitter.com\" rel=\"nofollow\"&gt;Tw...</td>\n",
       "      <td>http://twitter.com</td>\n",
       "      <td>Twitter Web Client</td>\n",
       "      <td>NaN</td>\n",
       "      <td>NaN</td>\n",
       "      <td>NaN</td>\n",
       "      <td>NaN</td>\n",
       "      <td>mac</td>\n",
       "    </tr>\n",
       "  </tbody>\n",
       "</table>\n",
       "<p>3 rows × 22 columns</p>\n",
       "</div>"
      ],
      "text/plain": [
       "   Unnamed: 0                                                url  \\\n",
       "0           0  https://twitter.com/lundp/status/1547135712536...   \n",
       "1           1  https://twitter.com/JayDCooke/status/154713564...   \n",
       "2           2  https://twitter.com/Semhar/status/154713498935...   \n",
       "\n",
       "                        date  \\\n",
       "0  2012-01-04 23:59:24+00:00   \n",
       "1  2012-01-04 23:59:22+00:00   \n",
       "2  2012-01-04 23:59:07+00:00   \n",
       "\n",
       "                                             content                  id  \\\n",
       "0  Trying new iSkin protector on MacBook Pro. And...  154713571253686272   \n",
       "1                   I'm ready to get on the #MacBook  154713564031090689   \n",
       "2  Syncing my entire life. All my personal & DAWN...  154713498935496704   \n",
       "\n",
       "                            user outlinks tcooutlinks  replyCount  \\\n",
       "0      https://twitter.com/lundp       []          []           0   \n",
       "1  https://twitter.com/JayDCooke       []          []           0   \n",
       "2     https://twitter.com/Semhar       []          []           0   \n",
       "\n",
       "   retweetCount  ...      conversationId  lang  \\\n",
       "0             0  ...  154713571253686272    en   \n",
       "1             0  ...  154713564031090689    en   \n",
       "2             0  ...  154713498935496704    en   \n",
       "\n",
       "                                              source  \\\n",
       "0  <a href=\"http://itunes.apple.com/us/app/twitte...   \n",
       "1  <a href=\"http://twitter.com/download/iphone\" r...   \n",
       "2  <a href=\"http://twitter.com\" rel=\"nofollow\">Tw...   \n",
       "\n",
       "                                           sourceUrl         sourceLabel  \\\n",
       "0  http://itunes.apple.com/us/app/twitter/id40978...     Twitter for Mac   \n",
       "1                 http://twitter.com/download/iphone  Twitter for iPhone   \n",
       "2                                 http://twitter.com  Twitter Web Client   \n",
       "\n",
       "  media retweetedTweet  quotedTweet  mentionedUsers  device  \n",
       "0   NaN            NaN          NaN             NaN     mac  \n",
       "1   NaN            NaN          NaN             NaN     mac  \n",
       "2   NaN            NaN          NaN             NaN     mac  \n",
       "\n",
       "[3 rows x 22 columns]"
      ]
     },
     "execution_count": 568,
     "metadata": {},
     "output_type": "execute_result"
    }
   ],
   "source": [
    "tweets = pd.read_csv('./data/tweets.csv')\n",
    "tweets.head(3)"
   ]
  },
  {
   "cell_type": "code",
   "execution_count": 569,
   "metadata": {},
   "outputs": [
    {
     "data": {
      "text/plain": [
       "(61440, 22)"
      ]
     },
     "execution_count": 569,
     "metadata": {},
     "output_type": "execute_result"
    }
   ],
   "source": [
    "tweets.shape"
   ]
  },
  {
   "cell_type": "markdown",
   "metadata": {
    "id": "eGC5R0NRalYX"
   },
   "source": [
    "# Approach 1: CountVectorizer/TFIDFVectorizer with lemmatization"
   ]
  },
  {
   "cell_type": "markdown",
   "metadata": {},
   "source": [
    "Create custom tokenizer to enable lemmatization using spaCy"
   ]
  },
  {
   "cell_type": "code",
   "execution_count": 510,
   "metadata": {
    "colab": {
     "base_uri": "https://localhost:8080/"
    },
    "id": "cEtNUpxf00JG",
    "outputId": "d445543c-46d6-4d88-f5aa-462a5abb00cd"
   },
   "outputs": [
    {
     "name": "stderr",
     "output_type": "stream",
     "text": [
      "[nltk_data] Downloading package words to /Users/bryankoh/nltk_data...\n",
      "[nltk_data]   Package words is already up-to-date!\n"
     ]
    },
    {
     "data": {
      "text/plain": [
       "True"
      ]
     },
     "execution_count": 510,
     "metadata": {},
     "output_type": "execute_result"
    }
   ],
   "source": [
    "# Initialise spacy \n",
    "import string\n",
    "import spacy\n",
    "from spacy.lang.en.stop_words import STOP_WORDS\n",
    "from spacy.lang.en import English\n",
    "\n",
    "# Get nltk set of english words\n",
    "import nltk\n",
    "nltk.download('words')"
   ]
  },
  {
   "cell_type": "code",
   "execution_count": 511,
   "metadata": {
    "id": "zRJ5V4oT1BTK"
   },
   "outputs": [],
   "source": [
    "# Create our list of punctuation marks\n",
    "punctuations = string.punctuation\n",
    "\n",
    "# Create our list of stopwords\n",
    "nlp = spacy.load(\"en_core_web_sm\")\n",
    "stop_words = spacy.lang.en.stop_words.STOP_WORDS\n",
    "\n",
    "# Set nltk vocab\n",
    "vocab = set(nltk.corpus.words.words())\n",
    "\n",
    "# Creating our tokenizer function\n",
    "def spacy_tokenizer(sentence):\n",
    "    # Creating our token object, which is used to create documents with linguistic annotations.\n",
    "    mytokens = nlp(sentence)\n",
    "\n",
    "    # Lemmatizing each token\n",
    "    mytokens = [ token.lemma_ for token in mytokens if token.lemma_ in vocab]\n",
    "\n",
    "    # Removing stop words\n",
    "    mytokens = [ token for token in mytokens if token not in stop_words ]\n",
    "\n",
    "    # return preprocessed list of tokens\n",
    "    return mytokens"
   ]
  },
  {
   "cell_type": "markdown",
   "metadata": {
    "id": "zHgGTDsa1Y0N"
   },
   "source": [
    "Helper functions to test various machine learning models"
   ]
  },
  {
   "cell_type": "code",
   "execution_count": 572,
   "metadata": {
    "id": "TQ61e4Pi1Tf1"
   },
   "outputs": [],
   "source": [
    "from sklearn import metrics\n",
    "from sklearn.naive_bayes import MultinomialNB  \n",
    "from sklearn.linear_model import LogisticRegression\n",
    "\n",
    "#Insert document-term matrices, y-values and model\n",
    "def test_nb_model(X_train_dtm, y_train, X_test_dtm, y_test, return_model = False):\n",
    "    nb = MultinomialNB()\n",
    "    nb.fit(X_train_dtm, y_train)\n",
    "    y_pred = nb.predict(X_test_dtm)\n",
    "    train_acc = metrics.accuracy_score(y_train, nb.predict(X_train_dtm))\n",
    "    test_acc = metrics.accuracy_score(y_test, y_pred)\n",
    "    if return_model:\n",
    "      return train_acc, test_acc, nb\n",
    "    else:\n",
    "      return train_acc, test_acc\n",
    "\n",
    "def test_lr_model(X_train_dtm, y_train, X_test_dtm, y_test, return_model = False):\n",
    "    lr = LogisticRegression(random_state = 0)\n",
    "    lr.fit(X_train_dtm, y_train)\n",
    "    y_pred = lr.predict(X_test_dtm)\n",
    "    train_acc = metrics.accuracy_score(y_train, lr.predict(X_train_dtm))\n",
    "    test_acc = metrics.accuracy_score(y_test, y_pred)\n",
    "    if return_model:\n",
    "      return train_acc, test_acc, lr\n",
    "    else:\n",
    "      return train_acc, test_acc\n"
   ]
  },
  {
   "cell_type": "markdown",
   "metadata": {
    "id": "f2FAsEPz11vc"
   },
   "source": [
    "## CountVectorizer\n",
    "\n"
   ]
  },
  {
   "cell_type": "code",
   "execution_count": 556,
   "metadata": {},
   "outputs": [],
   "source": [
    "# Iterate through max_df = 0.6, 0.8, 1.0\n",
    "# Iterate through max_features = 500, 750, 1000, nan\n",
    "\n",
    "arrays = [\n",
    "    np.array([0.6, 0.6, 0.6, 0.6, 0.8, 0.8, 0.8, 0.8, 1.0, 1.0, 1.0, 1.0]),\n",
    "    np.array(['default', '500', '750', '1000', 'default', '500', '750', '1000', 'default', '500', '750', '1000'])]\n",
    "\n",
    "#Naive Bayes results DF\n",
    "nb_results = pd.DataFrame(np.zeros((12, 2)), index=arrays)\n",
    "nb_results.rename(columns={0: \"training\", 1: \"test\"}, inplace=True)\n",
    "\n",
    "#Logisitic regression results DF\n",
    "lr_results = pd.DataFrame(np.zeros((12, 2)), index=arrays)\n",
    "lr_results.rename(columns={0: \"training\", 1: \"test\"}, inplace=True)"
   ]
  },
  {
   "cell_type": "code",
   "execution_count": 559,
   "metadata": {
    "id": "Ln-gUNoy81kj"
   },
   "outputs": [],
   "source": [
    "max_df = [0.6, 0.8, 1.0]\n",
    "max_features = ['default', '500', '750', '1000']\n",
    "\n",
    "from sklearn.feature_extraction.text import CountVectorizer\n",
    "def search_cv_best_params():\n",
    "  iteration = 1\n",
    "  for i in max_df:\n",
    "    for j in max_features:\n",
    "        #print(\"Iteration \" + str(iteration))\n",
    "        #print(\"max_df: \" + str(i))\n",
    "        #print(\"max_features: \" + str(j))\n",
    "        if j == 'default':\n",
    "          cv = CountVectorizer(tokenizer = spacy_tokenizer, max_df = i)\n",
    "        else:\n",
    "          cv = CountVectorizer(tokenizer = spacy_tokenizer, max_df = i, max_features = int(j))\n",
    "\n",
    "        train_dtm = cv.fit_transform(X_train)\n",
    "        X_train_dtm = pd.DataFrame(train_dtm.toarray(), columns=cv.get_feature_names())\n",
    "\n",
    "        test_dtm = cv.transform(X_test)\n",
    "        X_test_dtm = pd.DataFrame(test_dtm.toarray(), columns=cv.get_feature_names())\n",
    "\n",
    "        nb_train, nb_test = test_nb_model(X_train_dtm, y_train, X_test_dtm, y_test)\n",
    "        lr_train, lr_test = test_lr_model(X_train_dtm, y_train, X_test_dtm, y_test)\n",
    "        \n",
    "        nb_results.loc[i, j]['training'] = nb_train\n",
    "        nb_results.loc[i, j]['test'] = nb_test\n",
    "\n",
    "        lr_results.loc[i, j]['training'] = lr_train\n",
    "        lr_results.loc[i, j]['test'] = lr_test\n",
    "\n",
    "        iteration += 1\n",
    "\n",
    "search_cv_best_params()"
   ]
  },
  {
   "cell_type": "code",
   "execution_count": 561,
   "metadata": {},
   "outputs": [
    {
     "data": {
      "text/html": [
       "<div>\n",
       "<style scoped>\n",
       "    .dataframe tbody tr th:only-of-type {\n",
       "        vertical-align: middle;\n",
       "    }\n",
       "\n",
       "    .dataframe tbody tr th {\n",
       "        vertical-align: top;\n",
       "    }\n",
       "\n",
       "    .dataframe thead th {\n",
       "        text-align: right;\n",
       "    }\n",
       "</style>\n",
       "<table border=\"1\" class=\"dataframe\">\n",
       "  <thead>\n",
       "    <tr style=\"text-align: right;\">\n",
       "      <th></th>\n",
       "      <th></th>\n",
       "      <th>training</th>\n",
       "      <th>test</th>\n",
       "    </tr>\n",
       "  </thead>\n",
       "  <tbody>\n",
       "    <tr>\n",
       "      <th rowspan=\"4\" valign=\"top\">0.6</th>\n",
       "      <th>default</th>\n",
       "      <td>0.741293</td>\n",
       "      <td>0.621958</td>\n",
       "    </tr>\n",
       "    <tr>\n",
       "      <th>500</th>\n",
       "      <td>0.640963</td>\n",
       "      <td>0.607527</td>\n",
       "    </tr>\n",
       "    <tr>\n",
       "      <th>750</th>\n",
       "      <td>0.655014</td>\n",
       "      <td>0.619411</td>\n",
       "    </tr>\n",
       "    <tr>\n",
       "      <th>1000</th>\n",
       "      <td>0.666067</td>\n",
       "      <td>0.623373</td>\n",
       "    </tr>\n",
       "    <tr>\n",
       "      <th rowspan=\"4\" valign=\"top\">0.8</th>\n",
       "      <th>default</th>\n",
       "      <td>0.741293</td>\n",
       "      <td>0.621958</td>\n",
       "    </tr>\n",
       "    <tr>\n",
       "      <th>500</th>\n",
       "      <td>0.640963</td>\n",
       "      <td>0.607527</td>\n",
       "    </tr>\n",
       "    <tr>\n",
       "      <th>750</th>\n",
       "      <td>0.655014</td>\n",
       "      <td>0.619411</td>\n",
       "    </tr>\n",
       "    <tr>\n",
       "      <th>1000</th>\n",
       "      <td>0.666067</td>\n",
       "      <td>0.623373</td>\n",
       "    </tr>\n",
       "    <tr>\n",
       "      <th rowspan=\"4\" valign=\"top\">1.0</th>\n",
       "      <th>default</th>\n",
       "      <td>0.741293</td>\n",
       "      <td>0.621958</td>\n",
       "    </tr>\n",
       "    <tr>\n",
       "      <th>500</th>\n",
       "      <td>0.640963</td>\n",
       "      <td>0.607527</td>\n",
       "    </tr>\n",
       "    <tr>\n",
       "      <th>750</th>\n",
       "      <td>0.655014</td>\n",
       "      <td>0.619411</td>\n",
       "    </tr>\n",
       "    <tr>\n",
       "      <th>1000</th>\n",
       "      <td>0.666067</td>\n",
       "      <td>0.623373</td>\n",
       "    </tr>\n",
       "  </tbody>\n",
       "</table>\n",
       "</div>"
      ],
      "text/plain": [
       "             training      test\n",
       "0.6 default  0.741293  0.621958\n",
       "    500      0.640963  0.607527\n",
       "    750      0.655014  0.619411\n",
       "    1000     0.666067  0.623373\n",
       "0.8 default  0.741293  0.621958\n",
       "    500      0.640963  0.607527\n",
       "    750      0.655014  0.619411\n",
       "    1000     0.666067  0.623373\n",
       "1.0 default  0.741293  0.621958\n",
       "    500      0.640963  0.607527\n",
       "    750      0.655014  0.619411\n",
       "    1000     0.666067  0.623373"
      ]
     },
     "execution_count": 561,
     "metadata": {},
     "output_type": "execute_result"
    }
   ],
   "source": [
    "nb_results"
   ]
  },
  {
   "cell_type": "code",
   "execution_count": 571,
   "metadata": {},
   "outputs": [
    {
     "data": {
      "text/html": [
       "<div>\n",
       "<style scoped>\n",
       "    .dataframe tbody tr th:only-of-type {\n",
       "        vertical-align: middle;\n",
       "    }\n",
       "\n",
       "    .dataframe tbody tr th {\n",
       "        vertical-align: top;\n",
       "    }\n",
       "\n",
       "    .dataframe thead th {\n",
       "        text-align: right;\n",
       "    }\n",
       "</style>\n",
       "<table border=\"1\" class=\"dataframe\">\n",
       "  <thead>\n",
       "    <tr style=\"text-align: right;\">\n",
       "      <th></th>\n",
       "      <th></th>\n",
       "      <th>training</th>\n",
       "      <th>test</th>\n",
       "    </tr>\n",
       "  </thead>\n",
       "  <tbody>\n",
       "    <tr>\n",
       "      <th rowspan=\"4\" valign=\"top\">0.6</th>\n",
       "      <th>default</th>\n",
       "      <td>0.810393</td>\n",
       "      <td>0.693265</td>\n",
       "    </tr>\n",
       "    <tr>\n",
       "      <th>500</th>\n",
       "      <td>0.693698</td>\n",
       "      <td>0.681381</td>\n",
       "    </tr>\n",
       "    <tr>\n",
       "      <th>750</th>\n",
       "      <td>0.711520</td>\n",
       "      <td>0.689021</td>\n",
       "    </tr>\n",
       "    <tr>\n",
       "      <th>1000</th>\n",
       "      <td>0.723215</td>\n",
       "      <td>0.690436</td>\n",
       "    </tr>\n",
       "    <tr>\n",
       "      <th rowspan=\"4\" valign=\"top\">0.8</th>\n",
       "      <th>default</th>\n",
       "      <td>0.810393</td>\n",
       "      <td>0.693265</td>\n",
       "    </tr>\n",
       "    <tr>\n",
       "      <th>500</th>\n",
       "      <td>0.693698</td>\n",
       "      <td>0.681381</td>\n",
       "    </tr>\n",
       "    <tr>\n",
       "      <th>750</th>\n",
       "      <td>0.711520</td>\n",
       "      <td>0.689021</td>\n",
       "    </tr>\n",
       "    <tr>\n",
       "      <th>1000</th>\n",
       "      <td>0.723215</td>\n",
       "      <td>0.690436</td>\n",
       "    </tr>\n",
       "    <tr>\n",
       "      <th rowspan=\"4\" valign=\"top\">1.0</th>\n",
       "      <th>default</th>\n",
       "      <td>0.810393</td>\n",
       "      <td>0.693265</td>\n",
       "    </tr>\n",
       "    <tr>\n",
       "      <th>500</th>\n",
       "      <td>0.693698</td>\n",
       "      <td>0.681381</td>\n",
       "    </tr>\n",
       "    <tr>\n",
       "      <th>750</th>\n",
       "      <td>0.711520</td>\n",
       "      <td>0.689021</td>\n",
       "    </tr>\n",
       "    <tr>\n",
       "      <th>1000</th>\n",
       "      <td>0.723215</td>\n",
       "      <td>0.690436</td>\n",
       "    </tr>\n",
       "  </tbody>\n",
       "</table>\n",
       "</div>"
      ],
      "text/plain": [
       "             training      test\n",
       "0.6 default  0.810393  0.693265\n",
       "    500      0.693698  0.681381\n",
       "    750      0.711520  0.689021\n",
       "    1000     0.723215  0.690436\n",
       "0.8 default  0.810393  0.693265\n",
       "    500      0.693698  0.681381\n",
       "    750      0.711520  0.689021\n",
       "    1000     0.723215  0.690436\n",
       "1.0 default  0.810393  0.693265\n",
       "    500      0.693698  0.681381\n",
       "    750      0.711520  0.689021\n",
       "    1000     0.723215  0.690436"
      ]
     },
     "execution_count": 571,
     "metadata": {},
     "output_type": "execute_result"
    }
   ],
   "source": [
    "lr_results"
   ]
  },
  {
   "cell_type": "markdown",
   "metadata": {
    "id": "kblw7a6G3Dkf"
   },
   "source": [
    "## TFIDFVectorizer"
   ]
  },
  {
   "cell_type": "code",
   "execution_count": 563,
   "metadata": {
    "id": "Hx-S-f_M3bM1"
   },
   "outputs": [],
   "source": [
    "#Naive Bayes results DF\n",
    "nb_tfidf_results = pd.DataFrame(np.zeros((12, 2)), index=arrays)\n",
    "nb_tfidf_results.rename(columns={0: \"training\", 1: \"test\"}, inplace=True)\n",
    "\n",
    "#Logisitic regression results DF\n",
    "lr_tfidf_results = pd.DataFrame(np.zeros((12, 2)), index=arrays)\n",
    "lr_tfidf_results.rename(columns={0: \"training\", 1: \"test\"}, inplace=True)"
   ]
  },
  {
   "cell_type": "code",
   "execution_count": 564,
   "metadata": {
    "id": "x7dmPCgL3FoQ"
   },
   "outputs": [],
   "source": [
    "from sklearn.feature_extraction.text import TfidfVectorizer\n",
    "max_df = [0.6, 0.8, 1.0]\n",
    "max_features = ['default', '500', '750', '1000']\n",
    "\n",
    "from sklearn.feature_extraction.text import CountVectorizer\n",
    "def search_tfidf_best_params():\n",
    "  iteration = 1\n",
    "  for i in max_df:\n",
    "    for j in max_features:\n",
    "        #print(\"Iteration \" + str(iteration))\n",
    "        #print(\"max_df: \" + str(i))\n",
    "        #print(\"max_features: \" + str(j))\n",
    "        if j == 'default':\n",
    "          cv = TfidfVectorizer(tokenizer = spacy_tokenizer, max_df = i)\n",
    "        else:\n",
    "          cv = TfidfVectorizer(tokenizer = spacy_tokenizer, max_df = i, max_features = int(j))\n",
    "\n",
    "        train_dtm = cv.fit_transform(X_train)\n",
    "        X_train_dtm = pd.DataFrame(train_dtm.toarray(), columns=cv.get_feature_names())\n",
    "\n",
    "        test_dtm = cv.transform(X_test)\n",
    "        X_test_dtm = pd.DataFrame(test_dtm.toarray(), columns=cv.get_feature_names())\n",
    "\n",
    "        nb_train, nb_test = test_nb_model(X_train_dtm, y_train, X_test_dtm, y_test)\n",
    "        lr_train, lr_test = test_lr_model(X_train_dtm, y_train, X_test_dtm, y_test)\n",
    "\n",
    "        nb_tfidf_results.loc[i, j]['training'] = nb_train\n",
    "        nb_tfidf_results.loc[i, j]['test'] = nb_test\n",
    "        lr_tfidf_results.loc[i, j]['training'] = lr_train\n",
    "        lr_tfidf_results.loc[i, j]['test'] = lr_test\n",
    "\n",
    "        iteration += 1\n",
    "        \n",
    "search_tfidf_best_params()"
   ]
  },
  {
   "cell_type": "code",
   "execution_count": 566,
   "metadata": {},
   "outputs": [
    {
     "data": {
      "text/html": [
       "<div>\n",
       "<style scoped>\n",
       "    .dataframe tbody tr th:only-of-type {\n",
       "        vertical-align: middle;\n",
       "    }\n",
       "\n",
       "    .dataframe tbody tr th {\n",
       "        vertical-align: top;\n",
       "    }\n",
       "\n",
       "    .dataframe thead th {\n",
       "        text-align: right;\n",
       "    }\n",
       "</style>\n",
       "<table border=\"1\" class=\"dataframe\">\n",
       "  <thead>\n",
       "    <tr style=\"text-align: right;\">\n",
       "      <th></th>\n",
       "      <th></th>\n",
       "      <th>training</th>\n",
       "      <th>test</th>\n",
       "    </tr>\n",
       "  </thead>\n",
       "  <tbody>\n",
       "    <tr>\n",
       "      <th rowspan=\"4\" valign=\"top\">0.6</th>\n",
       "      <th>default</th>\n",
       "      <td>0.750032</td>\n",
       "      <td>0.627051</td>\n",
       "    </tr>\n",
       "    <tr>\n",
       "      <th>500</th>\n",
       "      <td>0.640620</td>\n",
       "      <td>0.616016</td>\n",
       "    </tr>\n",
       "    <tr>\n",
       "      <th>750</th>\n",
       "      <td>0.656300</td>\n",
       "      <td>0.622807</td>\n",
       "    </tr>\n",
       "    <tr>\n",
       "      <th>1000</th>\n",
       "      <td>0.665510</td>\n",
       "      <td>0.630447</td>\n",
       "    </tr>\n",
       "    <tr>\n",
       "      <th rowspan=\"4\" valign=\"top\">0.8</th>\n",
       "      <th>default</th>\n",
       "      <td>0.750032</td>\n",
       "      <td>0.627051</td>\n",
       "    </tr>\n",
       "    <tr>\n",
       "      <th>500</th>\n",
       "      <td>0.640620</td>\n",
       "      <td>0.616016</td>\n",
       "    </tr>\n",
       "    <tr>\n",
       "      <th>750</th>\n",
       "      <td>0.656300</td>\n",
       "      <td>0.622807</td>\n",
       "    </tr>\n",
       "    <tr>\n",
       "      <th>1000</th>\n",
       "      <td>0.665510</td>\n",
       "      <td>0.630447</td>\n",
       "    </tr>\n",
       "    <tr>\n",
       "      <th rowspan=\"4\" valign=\"top\">1.0</th>\n",
       "      <th>default</th>\n",
       "      <td>0.750032</td>\n",
       "      <td>0.627051</td>\n",
       "    </tr>\n",
       "    <tr>\n",
       "      <th>500</th>\n",
       "      <td>0.640620</td>\n",
       "      <td>0.616016</td>\n",
       "    </tr>\n",
       "    <tr>\n",
       "      <th>750</th>\n",
       "      <td>0.656300</td>\n",
       "      <td>0.622807</td>\n",
       "    </tr>\n",
       "    <tr>\n",
       "      <th>1000</th>\n",
       "      <td>0.665510</td>\n",
       "      <td>0.630447</td>\n",
       "    </tr>\n",
       "  </tbody>\n",
       "</table>\n",
       "</div>"
      ],
      "text/plain": [
       "             training      test\n",
       "0.6 default  0.750032  0.627051\n",
       "    500      0.640620  0.616016\n",
       "    750      0.656300  0.622807\n",
       "    1000     0.665510  0.630447\n",
       "0.8 default  0.750032  0.627051\n",
       "    500      0.640620  0.616016\n",
       "    750      0.656300  0.622807\n",
       "    1000     0.665510  0.630447\n",
       "1.0 default  0.750032  0.627051\n",
       "    500      0.640620  0.616016\n",
       "    750      0.656300  0.622807\n",
       "    1000     0.665510  0.630447"
      ]
     },
     "execution_count": 566,
     "metadata": {},
     "output_type": "execute_result"
    }
   ],
   "source": [
    "nb_tfidf_results"
   ]
  },
  {
   "cell_type": "code",
   "execution_count": 570,
   "metadata": {},
   "outputs": [
    {
     "data": {
      "text/html": [
       "<div>\n",
       "<style scoped>\n",
       "    .dataframe tbody tr th:only-of-type {\n",
       "        vertical-align: middle;\n",
       "    }\n",
       "\n",
       "    .dataframe tbody tr th {\n",
       "        vertical-align: top;\n",
       "    }\n",
       "\n",
       "    .dataframe thead th {\n",
       "        text-align: right;\n",
       "    }\n",
       "</style>\n",
       "<table border=\"1\" class=\"dataframe\">\n",
       "  <thead>\n",
       "    <tr style=\"text-align: right;\">\n",
       "      <th></th>\n",
       "      <th></th>\n",
       "      <th>training</th>\n",
       "      <th>test</th>\n",
       "    </tr>\n",
       "  </thead>\n",
       "  <tbody>\n",
       "    <tr>\n",
       "      <th rowspan=\"4\" valign=\"top\">0.6</th>\n",
       "      <th>default</th>\n",
       "      <td>0.778220</td>\n",
       "      <td>0.696095</td>\n",
       "    </tr>\n",
       "    <tr>\n",
       "      <th>500</th>\n",
       "      <td>0.690657</td>\n",
       "      <td>0.679966</td>\n",
       "    </tr>\n",
       "    <tr>\n",
       "      <th>750</th>\n",
       "      <td>0.707578</td>\n",
       "      <td>0.688738</td>\n",
       "    </tr>\n",
       "    <tr>\n",
       "      <th>1000</th>\n",
       "      <td>0.718245</td>\n",
       "      <td>0.692134</td>\n",
       "    </tr>\n",
       "    <tr>\n",
       "      <th rowspan=\"4\" valign=\"top\">0.8</th>\n",
       "      <th>default</th>\n",
       "      <td>0.778220</td>\n",
       "      <td>0.696095</td>\n",
       "    </tr>\n",
       "    <tr>\n",
       "      <th>500</th>\n",
       "      <td>0.690657</td>\n",
       "      <td>0.679966</td>\n",
       "    </tr>\n",
       "    <tr>\n",
       "      <th>750</th>\n",
       "      <td>0.707578</td>\n",
       "      <td>0.688738</td>\n",
       "    </tr>\n",
       "    <tr>\n",
       "      <th>1000</th>\n",
       "      <td>0.718245</td>\n",
       "      <td>0.692134</td>\n",
       "    </tr>\n",
       "    <tr>\n",
       "      <th rowspan=\"4\" valign=\"top\">1.0</th>\n",
       "      <th>default</th>\n",
       "      <td>0.778220</td>\n",
       "      <td>0.696095</td>\n",
       "    </tr>\n",
       "    <tr>\n",
       "      <th>500</th>\n",
       "      <td>0.690657</td>\n",
       "      <td>0.679966</td>\n",
       "    </tr>\n",
       "    <tr>\n",
       "      <th>750</th>\n",
       "      <td>0.707578</td>\n",
       "      <td>0.688738</td>\n",
       "    </tr>\n",
       "    <tr>\n",
       "      <th>1000</th>\n",
       "      <td>0.718245</td>\n",
       "      <td>0.692134</td>\n",
       "    </tr>\n",
       "  </tbody>\n",
       "</table>\n",
       "</div>"
      ],
      "text/plain": [
       "             training      test\n",
       "0.6 default  0.778220  0.696095\n",
       "    500      0.690657  0.679966\n",
       "    750      0.707578  0.688738\n",
       "    1000     0.718245  0.692134\n",
       "0.8 default  0.778220  0.696095\n",
       "    500      0.690657  0.679966\n",
       "    750      0.707578  0.688738\n",
       "    1000     0.718245  0.692134\n",
       "1.0 default  0.778220  0.696095\n",
       "    500      0.690657  0.679966\n",
       "    750      0.707578  0.688738\n",
       "    1000     0.718245  0.692134"
      ]
     },
     "execution_count": 570,
     "metadata": {},
     "output_type": "execute_result"
    }
   ],
   "source": [
    "lr_tfidf_results"
   ]
  },
  {
   "cell_type": "markdown",
   "metadata": {
    "id": "BIIgTGr5Kmg7"
   },
   "source": [
    "It appears that models perform better when assessed on a logistic regression model model and having no limits on max_features result in the best training and test accuracy. \n",
    "\n",
    "Considering training and test accuracy scores, we will opt for the CountVectorizer parameters **max_df = 0.6** and the rest as default"
   ]
  },
  {
   "cell_type": "markdown",
   "metadata": {
    "id": "7LQDbI_2NUD0"
   },
   "source": [
    "## Labelling data using CountVectorizer(tokenizer = spacy_tokenizer, max_df = 0.6) and Naive Bayes"
   ]
  },
  {
   "cell_type": "code",
   "execution_count": 573,
   "metadata": {
    "colab": {
     "base_uri": "https://localhost:8080/"
    },
    "id": "5ztlMCYcLYYS",
    "outputId": "d7290467-221b-4f32-df6c-b3d6f13565a3"
   },
   "outputs": [
    {
     "name": "stderr",
     "output_type": "stream",
     "text": [
      "lbfgs failed to converge (status=1):\n",
      "STOP: TOTAL NO. of ITERATIONS REACHED LIMIT.\n",
      "\n",
      "Increase the number of iterations (max_iter) or scale the data as shown in:\n",
      "    https://scikit-learn.org/stable/modules/preprocessing.html\n",
      "Please also refer to the documentation for alternative solver options:\n",
      "    https://scikit-learn.org/stable/modules/linear_model.html#logistic-regression\n"
     ]
    }
   ],
   "source": [
    "# Set up CountVectorizer\n",
    "cv = CountVectorizer(tokenizer = spacy_tokenizer, max_df = 0.6)\n",
    "\n",
    "train_dtm = cv.fit_transform(X_train)\n",
    "X_train_dtm = pd.DataFrame(train_dtm.toarray(), columns=cv.get_feature_names())\n",
    "\n",
    "test_dtm = cv.transform(X_test)\n",
    "X_test_dtm = pd.DataFrame(test_dtm.toarray(), columns=cv.get_feature_names())\n",
    "\n",
    "# Train and return logistic regression model \n",
    "lr_train, lr_test, lr = test_lr_model(X_train_dtm, y_train, X_test_dtm, y_test, return_model=True)\n",
    "\n",
    "# Use CountVectorizer to vectorize text in tweets\n",
    "tweets_copy = deepcopy(tweets)\n",
    "X_tweets_dtm = cv.transform(tweets_copy.content)\n",
    "X_tweets_dtm = pd.DataFrame(X_tweets_dtm.toarray(), columns=cv.get_feature_names())\n",
    "\n",
    "# Use logistic regression model to predict sentiment\n",
    "tweets_pred = lr.predict(X_tweets_dtm)"
   ]
  },
  {
   "cell_type": "code",
   "execution_count": 39,
   "metadata": {
    "id": "-B10o8uPXsHC"
   },
   "outputs": [],
   "source": [
    "tweets_copy['sentiment'] = tweets_pred"
   ]
  },
  {
   "cell_type": "code",
   "execution_count": 41,
   "metadata": {
    "id": "GCjkcpKmXxdV"
   },
   "outputs": [],
   "source": [
    "tweets_copy.to_csv('./data/tweets_cv.csv', index=False)"
   ]
  },
  {
   "cell_type": "markdown",
   "metadata": {},
   "source": [
    "# Approach 2: roBERTa"
   ]
  },
  {
   "cell_type": "code",
   "execution_count": 172,
   "metadata": {},
   "outputs": [
    {
     "name": "stderr",
     "output_type": "stream",
     "text": [
      "Some weights of the model checkpoint at roberta-base were not used when initializing RobertaForSequenceClassification: ['lm_head.bias', 'lm_head.dense.weight', 'lm_head.dense.bias', 'lm_head.layer_norm.weight', 'lm_head.layer_norm.bias', 'lm_head.decoder.weight']\n",
      "- This IS expected if you are initializing RobertaForSequenceClassification from the checkpoint of a model trained on another task or with another architecture (e.g. initializing a BertForSequenceClassification model from a BertForPreTraining model).\n",
      "- This IS NOT expected if you are initializing RobertaForSequenceClassification from the checkpoint of a model that you expect to be exactly identical (initializing a BertForSequenceClassification model from a BertForSequenceClassification model).\n",
      "Some weights of RobertaForSequenceClassification were not initialized from the model checkpoint at roberta-base and are newly initialized: ['classifier.dense.weight', 'classifier.dense.bias', 'classifier.out_proj.weight', 'classifier.out_proj.bias']\n",
      "You should probably TRAIN this model on a down-stream task to be able to use it for predictions and inference.\n"
     ]
    }
   ],
   "source": [
    "from simpletransformers.classification import ClassificationModel\n",
    "# Create a ClassificationModel\n",
    "model = ClassificationModel('roberta', 'roberta-base', num_labels=3, use_cuda=False)"
   ]
  },
  {
   "cell_type": "code",
   "execution_count": 406,
   "metadata": {},
   "outputs": [],
   "source": [
    "# Setting up a custom helper function to remove hashes, mentions and links\n",
    "\n",
    "import re\n",
    "def remove_hashtag_mentions_links(x):\n",
    "    #Remove mentions\n",
    "    text = re.sub(\"(@[A-Za-z0–9]+)\",\"\",x)\n",
    "    #Remove links\n",
    "    text = re.sub(r\"http\\S+\", \"\", text)\n",
    "    #Remove hashtags\n",
    "    text = text.replace(\"#\", \"\")\n",
    "    return text"
   ]
  },
  {
   "cell_type": "code",
   "execution_count": 582,
   "metadata": {},
   "outputs": [],
   "source": [
    "bert_train = deepcopy(df_new)\n",
    "bert_train['text'] = bert_train['text'].apply(remove_hashtag_mentions_links)"
   ]
  },
  {
   "cell_type": "code",
   "execution_count": 583,
   "metadata": {},
   "outputs": [],
   "source": [
    "bert_test = deepcopy(df_test)\n",
    "bert_test['text'] = bert_test['text'].apply(remove_hashtag_mentions_links)"
   ]
  },
  {
   "cell_type": "code",
   "execution_count": 584,
   "metadata": {},
   "outputs": [],
   "source": [
    "bert_train = bert_train[['text', 'sentiment']]\n",
    "bert_test = bert_test[['text', 'sentiment']]"
   ]
  },
  {
   "cell_type": "code",
   "execution_count": 585,
   "metadata": {},
   "outputs": [
    {
     "data": {
      "text/plain": [
       "-1    7781\n",
       " 1    7781\n",
       " 0    7781\n",
       "Name: sentiment, dtype: int64"
      ]
     },
     "execution_count": 585,
     "metadata": {},
     "output_type": "execute_result"
    }
   ],
   "source": [
    "bert_train.sentiment.value_counts()"
   ]
  },
  {
   "cell_type": "code",
   "execution_count": 586,
   "metadata": {},
   "outputs": [
    {
     "data": {
      "text/plain": [
       " 0    1430\n",
       " 1    1103\n",
       "-1    1001\n",
       "Name: sentiment, dtype: int64"
      ]
     },
     "execution_count": 586,
     "metadata": {},
     "output_type": "execute_result"
    }
   ],
   "source": [
    "bert_test.sentiment.value_counts()"
   ]
  },
  {
   "cell_type": "code",
   "execution_count": 80,
   "metadata": {},
   "outputs": [],
   "source": [
    "# roBERTa model target values must be > 0\n",
    "bert_train['sentiment'] = bert_train['sentiment'].map({-1: 0, 0: 1, 1: 2})\n",
    "bert_test['sentiment'] = bert_test['sentiment'].map({-1: 0, 0: 1, 1: 2})"
   ]
  },
  {
   "cell_type": "markdown",
   "metadata": {},
   "source": [
    "### NOTE: Further training of roBERTa model and unsupervised labelling of dataset takes around 24 hours to run"
   ]
  },
  {
   "cell_type": "code",
   "execution_count": 200,
   "metadata": {},
   "outputs": [
    {
     "data": {
      "application/vnd.jupyter.widget-view+json": {
       "model_id": "db7930448b814df18aa24fb1e5fa6f00",
       "version_major": 2,
       "version_minor": 0
      },
      "text/plain": [
       "HBox(children=(FloatProgress(value=0.0, max=4.0), HTML(value='')))"
      ]
     },
     "metadata": {},
     "output_type": "display_data"
    },
    {
     "name": "stdout",
     "output_type": "stream",
     "text": [
      "\n"
     ]
    },
    {
     "data": {
      "application/vnd.jupyter.widget-view+json": {
       "model_id": "b26e2a07e1384967b2dd84c0d14b8354",
       "version_major": 2,
       "version_minor": 0
      },
      "text/plain": [
       "HBox(children=(FloatProgress(value=0.0, description='Epoch', max=1.0, style=ProgressStyle(description_width='i…"
      ]
     },
     "metadata": {},
     "output_type": "display_data"
    },
    {
     "data": {
      "application/vnd.jupyter.widget-view+json": {
       "model_id": "2b2905c921b243a79070cc374f4a2a18",
       "version_major": 2,
       "version_minor": 0
      },
      "text/plain": [
       "HBox(children=(FloatProgress(value=0.0, description='Running Epoch 0 of 1', max=3435.0, style=ProgressStyle(de…"
      ]
     },
     "metadata": {},
     "output_type": "display_data"
    },
    {
     "name": "stderr",
     "output_type": "stream",
     "text": [
      "/opt/anaconda3/lib/python3.7/site-packages/torch/optim/lr_scheduler.py:216: UserWarning: Please also save or load the state of the optimizer when saving or loading the scheduler.\n",
      "  warnings.warn(SAVE_STATE_WARNING, UserWarning)\n"
     ]
    },
    {
     "name": "stdout",
     "output_type": "stream",
     "text": [
      "\n",
      "\n"
     ]
    },
    {
     "data": {
      "text/plain": [
       "(3435, 0.640229480937557)"
      ]
     },
     "execution_count": 200,
     "metadata": {},
     "output_type": "execute_result"
    }
   ],
   "source": [
    "model.train_model(bert_train, output_dir='./data/bert_output')"
   ]
  },
  {
   "cell_type": "code",
   "execution_count": 201,
   "metadata": {},
   "outputs": [
    {
     "name": "stderr",
     "output_type": "stream",
     "text": [
      "/opt/anaconda3/lib/python3.7/site-packages/simpletransformers/classification/classification_model.py:1026: UserWarning: Dataframe headers not specified. Falling back to using column 0 as text and column 1 as labels.\n",
      "  \"Dataframe headers not specified. Falling back to using column 0 as text and column 1 as labels.\"\n"
     ]
    },
    {
     "data": {
      "application/vnd.jupyter.widget-view+json": {
       "model_id": "5178b171e5d5409cb1e1ce0b7c82e413",
       "version_major": 2,
       "version_minor": 0
      },
      "text/plain": [
       "HBox(children=(FloatProgress(value=0.0, description='Running Evaluation', max=3435.0, style=ProgressStyle(desc…"
      ]
     },
     "metadata": {},
     "output_type": "display_data"
    },
    {
     "name": "stdout",
     "output_type": "stream",
     "text": [
      "\n"
     ]
    },
    {
     "data": {
      "application/vnd.jupyter.widget-view+json": {
       "model_id": "15a6ecfe95494931bda84eb23199205f",
       "version_major": 2,
       "version_minor": 0
      },
      "text/plain": [
       "HBox(children=(FloatProgress(value=0.0, description='Running Evaluation', max=442.0, style=ProgressStyle(descr…"
      ]
     },
     "metadata": {},
     "output_type": "display_data"
    },
    {
     "name": "stdout",
     "output_type": "stream",
     "text": [
      "\n"
     ]
    }
   ],
   "source": [
    "training_result, training_model_outputs, training_wrong_predictions = model.eval_model(bert_train, acc=sklearn.metrics.accuracy_score)\n",
    "test_result, test_model_outputs, test_wrong_predictions = model.eval_model(bert_test, acc=sklearn.metrics.accuracy_score)\n"
   ]
  },
  {
   "cell_type": "code",
   "execution_count": 202,
   "metadata": {},
   "outputs": [
    {
     "name": "stdout",
     "output_type": "stream",
     "text": [
      "Training accuracy: 0.8343522561863174\n",
      "Test accuracy: 0.8022071307300509\n"
     ]
    }
   ],
   "source": [
    "#Training and test accuracies\n",
    "print(\"Training accuracy: \" + str(training_result['acc']))\n",
    "print(\"Test accuracy: \" + str(test_result['acc']))"
   ]
  },
  {
   "cell_type": "code",
   "execution_count": 222,
   "metadata": {},
   "outputs": [],
   "source": [
    "tweets_copy = deepcopy(tweets)\n",
    "tweets_copy['cleaned_content'] = tweets_copy.content.apply(remove_hashtag_mentions_links)"
   ]
  },
  {
   "cell_type": "code",
   "execution_count": 83,
   "metadata": {},
   "outputs": [],
   "source": [
    "tweets_list = tweets_copy.cleaned_content.tolist()"
   ]
  },
  {
   "cell_type": "code",
   "execution_count": 205,
   "metadata": {},
   "outputs": [
    {
     "data": {
      "application/vnd.jupyter.widget-view+json": {
       "model_id": "185c707f9a204c50ac882d6164988e0e",
       "version_major": 2,
       "version_minor": 0
      },
      "text/plain": [
       "HBox(children=(FloatProgress(value=0.0, max=7680.0), HTML(value='')))"
      ]
     },
     "metadata": {},
     "output_type": "display_data"
    },
    {
     "name": "stdout",
     "output_type": "stream",
     "text": [
      "\n"
     ]
    }
   ],
   "source": [
    "bert_predictions, _ = model.predict(tweets_list)"
   ]
  },
  {
   "cell_type": "code",
   "execution_count": 207,
   "metadata": {},
   "outputs": [],
   "source": [
    "tweets_copy['sentiment'] = bert_predictions"
   ]
  },
  {
   "cell_type": "code",
   "execution_count": 213,
   "metadata": {},
   "outputs": [],
   "source": [
    "# Map back to -1, 0 and 1\n",
    "tweets_copy['sentiment'] = tweets_copy['sentiment'].map({0: -1, 1: 0, 2: 1})"
   ]
  },
  {
   "cell_type": "code",
   "execution_count": 214,
   "metadata": {},
   "outputs": [],
   "source": [
    "# Drop cleaned content and output\n",
    "output = tweets_copy.drop(['cleaned_content'], axis=1)\n",
    "output.to_csv('./data/tweets_bert.csv', index=False)"
   ]
  },
  {
   "cell_type": "markdown",
   "metadata": {},
   "source": [
    "## Using SHAP for explainability of roBERTa model"
   ]
  },
  {
   "cell_type": "code",
   "execution_count": 121,
   "metadata": {},
   "outputs": [],
   "source": [
    "import transformers\n",
    "import shap\n",
    "import numpy as np\n",
    "from transformers import AutoTokenizer, AutoModelForSequenceClassification"
   ]
  },
  {
   "cell_type": "markdown",
   "metadata": {},
   "source": [
    "### Load data labelled by roBERTa"
   ]
  },
  {
   "cell_type": "code",
   "execution_count": 226,
   "metadata": {},
   "outputs": [
    {
     "data": {
      "text/html": [
       "<div>\n",
       "<style scoped>\n",
       "    .dataframe tbody tr th:only-of-type {\n",
       "        vertical-align: middle;\n",
       "    }\n",
       "\n",
       "    .dataframe tbody tr th {\n",
       "        vertical-align: top;\n",
       "    }\n",
       "\n",
       "    .dataframe thead th {\n",
       "        text-align: right;\n",
       "    }\n",
       "</style>\n",
       "<table border=\"1\" class=\"dataframe\">\n",
       "  <thead>\n",
       "    <tr style=\"text-align: right;\">\n",
       "      <th></th>\n",
       "      <th>Unnamed: 0</th>\n",
       "      <th>url</th>\n",
       "      <th>date</th>\n",
       "      <th>content</th>\n",
       "      <th>id</th>\n",
       "      <th>user</th>\n",
       "      <th>outlinks</th>\n",
       "      <th>tcooutlinks</th>\n",
       "      <th>replyCount</th>\n",
       "      <th>retweetCount</th>\n",
       "      <th>...</th>\n",
       "      <th>lang</th>\n",
       "      <th>source</th>\n",
       "      <th>sourceUrl</th>\n",
       "      <th>sourceLabel</th>\n",
       "      <th>media</th>\n",
       "      <th>retweetedTweet</th>\n",
       "      <th>quotedTweet</th>\n",
       "      <th>mentionedUsers</th>\n",
       "      <th>device</th>\n",
       "      <th>sentiment</th>\n",
       "    </tr>\n",
       "  </thead>\n",
       "  <tbody>\n",
       "    <tr>\n",
       "      <th>0</th>\n",
       "      <td>0</td>\n",
       "      <td>https://twitter.com/lundp/status/1547135712536...</td>\n",
       "      <td>2012-01-04 23:59:24+00:00</td>\n",
       "      <td>Trying new iSkin protector on MacBook Pro. And...</td>\n",
       "      <td>154713571253686272</td>\n",
       "      <td>https://twitter.com/lundp</td>\n",
       "      <td>[]</td>\n",
       "      <td>[]</td>\n",
       "      <td>0.0</td>\n",
       "      <td>0.0</td>\n",
       "      <td>...</td>\n",
       "      <td>en</td>\n",
       "      <td>&lt;a href=\"http://itunes.apple.com/us/app/twitte...</td>\n",
       "      <td>http://itunes.apple.com/us/app/twitter/id40978...</td>\n",
       "      <td>Twitter for Mac</td>\n",
       "      <td>NaN</td>\n",
       "      <td>NaN</td>\n",
       "      <td>NaN</td>\n",
       "      <td>NaN</td>\n",
       "      <td>mac</td>\n",
       "      <td>-1.0</td>\n",
       "    </tr>\n",
       "    <tr>\n",
       "      <th>1</th>\n",
       "      <td>1</td>\n",
       "      <td>https://twitter.com/JayDCooke/status/154713564...</td>\n",
       "      <td>2012-01-04 23:59:22+00:00</td>\n",
       "      <td>I'm ready to get on the #MacBook</td>\n",
       "      <td>154713564031090689</td>\n",
       "      <td>https://twitter.com/JayDCooke</td>\n",
       "      <td>[]</td>\n",
       "      <td>[]</td>\n",
       "      <td>0.0</td>\n",
       "      <td>0.0</td>\n",
       "      <td>...</td>\n",
       "      <td>en</td>\n",
       "      <td>&lt;a href=\"http://twitter.com/download/iphone\" r...</td>\n",
       "      <td>http://twitter.com/download/iphone</td>\n",
       "      <td>Twitter for iPhone</td>\n",
       "      <td>NaN</td>\n",
       "      <td>NaN</td>\n",
       "      <td>NaN</td>\n",
       "      <td>NaN</td>\n",
       "      <td>mac</td>\n",
       "      <td>0.0</td>\n",
       "    </tr>\n",
       "  </tbody>\n",
       "</table>\n",
       "<p>2 rows × 23 columns</p>\n",
       "</div>"
      ],
      "text/plain": [
       "  Unnamed: 0                                                url  \\\n",
       "0          0  https://twitter.com/lundp/status/1547135712536...   \n",
       "1          1  https://twitter.com/JayDCooke/status/154713564...   \n",
       "\n",
       "                        date  \\\n",
       "0  2012-01-04 23:59:24+00:00   \n",
       "1  2012-01-04 23:59:22+00:00   \n",
       "\n",
       "                                             content                  id  \\\n",
       "0  Trying new iSkin protector on MacBook Pro. And...  154713571253686272   \n",
       "1                   I'm ready to get on the #MacBook  154713564031090689   \n",
       "\n",
       "                            user outlinks tcooutlinks  replyCount  \\\n",
       "0      https://twitter.com/lundp       []          []         0.0   \n",
       "1  https://twitter.com/JayDCooke       []          []         0.0   \n",
       "\n",
       "   retweetCount  ... lang                                             source  \\\n",
       "0           0.0  ...   en  <a href=\"http://itunes.apple.com/us/app/twitte...   \n",
       "1           0.0  ...   en  <a href=\"http://twitter.com/download/iphone\" r...   \n",
       "\n",
       "                                           sourceUrl         sourceLabel  \\\n",
       "0  http://itunes.apple.com/us/app/twitter/id40978...     Twitter for Mac   \n",
       "1                 http://twitter.com/download/iphone  Twitter for iPhone   \n",
       "\n",
       "  media retweetedTweet quotedTweet mentionedUsers device  sentiment  \n",
       "0   NaN            NaN         NaN            NaN    mac       -1.0  \n",
       "1   NaN            NaN         NaN            NaN    mac        0.0  \n",
       "\n",
       "[2 rows x 23 columns]"
      ]
     },
     "execution_count": 226,
     "metadata": {},
     "output_type": "execute_result"
    }
   ],
   "source": [
    "output.head(2)"
   ]
  },
  {
   "cell_type": "code",
   "execution_count": 231,
   "metadata": {},
   "outputs": [],
   "source": [
    "output=output.dropna(subset=['id'])"
   ]
  },
  {
   "cell_type": "code",
   "execution_count": 232,
   "metadata": {},
   "outputs": [
    {
     "data": {
      "text/plain": [
       "(61440,)"
      ]
     },
     "execution_count": 232,
     "metadata": {},
     "output_type": "execute_result"
    }
   ],
   "source": [
    "roberta_tweets.sentiment.shape"
   ]
  },
  {
   "cell_type": "code",
   "execution_count": 233,
   "metadata": {},
   "outputs": [
    {
     "data": {
      "text/plain": [
       "(61440,)"
      ]
     },
     "execution_count": 233,
     "metadata": {},
     "output_type": "execute_result"
    }
   ],
   "source": [
    "tweets_copy.cleaned_content.shape"
   ]
  },
  {
   "cell_type": "code",
   "execution_count": 234,
   "metadata": {},
   "outputs": [],
   "source": [
    "# Create custom dataframe with text and sentiments\n",
    "new_df = tweets.cleaned_content.to_frame().join(output.sentiment)"
   ]
  },
  {
   "cell_type": "code",
   "execution_count": 588,
   "metadata": {},
   "outputs": [],
   "source": [
    "# negative observations\n",
    "negative_obs = new_df.loc[new_df['sentiment'] == -1]\n",
    "\n",
    "# positive observations\n",
    "positive_obs = new_df.loc[new_df['sentiment'] == 1]"
   ]
  },
  {
   "cell_type": "code",
   "execution_count": 589,
   "metadata": {},
   "outputs": [
    {
     "data": {
      "text/html": [
       "<div>\n",
       "<style scoped>\n",
       "    .dataframe tbody tr th:only-of-type {\n",
       "        vertical-align: middle;\n",
       "    }\n",
       "\n",
       "    .dataframe tbody tr th {\n",
       "        vertical-align: top;\n",
       "    }\n",
       "\n",
       "    .dataframe thead th {\n",
       "        text-align: right;\n",
       "    }\n",
       "</style>\n",
       "<table border=\"1\" class=\"dataframe\">\n",
       "  <thead>\n",
       "    <tr style=\"text-align: right;\">\n",
       "      <th></th>\n",
       "      <th>cleaned_content</th>\n",
       "      <th>sentiment</th>\n",
       "    </tr>\n",
       "  </thead>\n",
       "  <tbody>\n",
       "    <tr>\n",
       "      <th>0</th>\n",
       "      <td>Trying new iSkin protector on MacBook Pro. And...</td>\n",
       "      <td>-1.0</td>\n",
       "    </tr>\n",
       "    <tr>\n",
       "      <th>2</th>\n",
       "      <td>Syncing my entire life. All my personal &amp; DAWN...</td>\n",
       "      <td>-1.0</td>\n",
       "    </tr>\n",
       "    <tr>\n",
       "      <th>6</th>\n",
       "      <td>lmaoo oh my bad. u got that tucked under the ...</td>\n",
       "      <td>-1.0</td>\n",
       "    </tr>\n",
       "    <tr>\n",
       "      <th>7</th>\n",
       "      <td>_Zoo DON'T DO ANYTHING STUPID TO MY MACBOOK BE...</td>\n",
       "      <td>-1.0</td>\n",
       "    </tr>\n",
       "    <tr>\n",
       "      <th>10</th>\n",
       "      <td>Yo didn't I tell you? I broke my effing MacBook.</td>\n",
       "      <td>-1.0</td>\n",
       "    </tr>\n",
       "  </tbody>\n",
       "</table>\n",
       "</div>"
      ],
      "text/plain": [
       "                                      cleaned_content  sentiment\n",
       "0   Trying new iSkin protector on MacBook Pro. And...       -1.0\n",
       "2   Syncing my entire life. All my personal & DAWN...       -1.0\n",
       "6    lmaoo oh my bad. u got that tucked under the ...       -1.0\n",
       "7   _Zoo DON'T DO ANYTHING STUPID TO MY MACBOOK BE...       -1.0\n",
       "10   Yo didn't I tell you? I broke my effing MacBook.       -1.0"
      ]
     },
     "execution_count": 589,
     "metadata": {},
     "output_type": "execute_result"
    }
   ],
   "source": [
    "negative_obs.head(5)"
   ]
  },
  {
   "cell_type": "code",
   "execution_count": 590,
   "metadata": {},
   "outputs": [
    {
     "data": {
      "text/html": [
       "<div>\n",
       "<style scoped>\n",
       "    .dataframe tbody tr th:only-of-type {\n",
       "        vertical-align: middle;\n",
       "    }\n",
       "\n",
       "    .dataframe tbody tr th {\n",
       "        vertical-align: top;\n",
       "    }\n",
       "\n",
       "    .dataframe thead th {\n",
       "        text-align: right;\n",
       "    }\n",
       "</style>\n",
       "<table border=\"1\" class=\"dataframe\">\n",
       "  <thead>\n",
       "    <tr style=\"text-align: right;\">\n",
       "      <th></th>\n",
       "      <th>cleaned_content</th>\n",
       "      <th>sentiment</th>\n",
       "    </tr>\n",
       "  </thead>\n",
       "  <tbody>\n",
       "    <tr>\n",
       "      <th>15</th>\n",
       "      <td>I finally got my macbook. I'm so giddy! Can't ...</td>\n",
       "      <td>1.0</td>\n",
       "    </tr>\n",
       "    <tr>\n",
       "      <th>24</th>\n",
       "      <td>Got my new MacBook :D yay</td>\n",
       "      <td>1.0</td>\n",
       "    </tr>\n",
       "    <tr>\n",
       "      <th>29</th>\n",
       "      <td>I turned on my old MacBook and hit a gold mine...</td>\n",
       "      <td>1.0</td>\n",
       "    </tr>\n",
       "    <tr>\n",
       "      <th>35</th>\n",
       "      <td>aww we can do it soon, I'll go down with my ...</td>\n",
       "      <td>1.0</td>\n",
       "    </tr>\n",
       "    <tr>\n",
       "      <th>37</th>\n",
       "      <td>No prob RT : Thanks  for helping me out with m...</td>\n",
       "      <td>1.0</td>\n",
       "    </tr>\n",
       "  </tbody>\n",
       "</table>\n",
       "</div>"
      ],
      "text/plain": [
       "                                      cleaned_content  sentiment\n",
       "15  I finally got my macbook. I'm so giddy! Can't ...        1.0\n",
       "24                          Got my new MacBook :D yay        1.0\n",
       "29  I turned on my old MacBook and hit a gold mine...        1.0\n",
       "35    aww we can do it soon, I'll go down with my ...        1.0\n",
       "37  No prob RT : Thanks  for helping me out with m...        1.0"
      ]
     },
     "execution_count": 590,
     "metadata": {},
     "output_type": "execute_result"
    }
   ],
   "source": [
    "positive_obs.head(5)"
   ]
  },
  {
   "cell_type": "code",
   "execution_count": 244,
   "metadata": {},
   "outputs": [
    {
     "name": "stderr",
     "output_type": "stream",
     "text": [
      "Some weights of the model checkpoint at roberta-base were not used when initializing RobertaForSequenceClassification: ['lm_head.bias', 'lm_head.dense.weight', 'lm_head.dense.bias', 'lm_head.layer_norm.weight', 'lm_head.layer_norm.bias', 'lm_head.decoder.weight', 'roberta.pooler.dense.weight', 'roberta.pooler.dense.bias']\n",
      "- This IS expected if you are initializing RobertaForSequenceClassification from the checkpoint of a model trained on another task or with another architecture (e.g. initializing a BertForSequenceClassification model from a BertForPreTraining model).\n",
      "- This IS NOT expected if you are initializing RobertaForSequenceClassification from the checkpoint of a model that you expect to be exactly identical (initializing a BertForSequenceClassification model from a BertForSequenceClassification model).\n",
      "Some weights of RobertaForSequenceClassification were not initialized from the model checkpoint at roberta-base and are newly initialized: ['classifier.dense.weight', 'classifier.dense.bias', 'classifier.out_proj.weight', 'classifier.out_proj.bias']\n",
      "You should probably TRAIN this model on a down-stream task to be able to use it for predictions and inference.\n"
     ]
    }
   ],
   "source": [
    "tokenizer = AutoTokenizer.from_pretrained(\"roberta-base\",use_fast=True, num_labels=3)\n",
    "model = AutoModelForSequenceClassification.from_pretrained(\"roberta-base\", num_labels=3)"
   ]
  },
  {
   "cell_type": "code",
   "execution_count": 433,
   "metadata": {},
   "outputs": [
    {
     "data": {
      "text/plain": [
       "{0: 'LABEL_0', 1: 'LABEL_1', 2: 'LABEL_2'}"
      ]
     },
     "execution_count": 433,
     "metadata": {},
     "output_type": "execute_result"
    }
   ],
   "source": [
    "model.config.id2label"
   ]
  },
  {
   "cell_type": "code",
   "execution_count": 252,
   "metadata": {},
   "outputs": [],
   "source": [
    "# set mapping between label and id\n",
    "id2label = {-1: \"negative\", 0: \"neutral\", 1: \"positive\"}\n",
    "label2id = {\"negative\": -1, \"neutral\": 0, \"positive\": 1}\n",
    "labels = sorted(label2id, key=label2id.get)"
   ]
  },
  {
   "cell_type": "code",
   "execution_count": 253,
   "metadata": {},
   "outputs": [
    {
     "data": {
      "image/png": "[encoded data removed]",
      "text/plain": [
       "<Figure size 432x288 with 1 Axes>"
      ]
     },
     "metadata": {
      "needs_background": "light"
     },
     "output_type": "display_data"
    }
   ],
   "source": [
    "import matplotlib.pyplot as plt\n",
    "%matplotlib inline\n",
    "ax = new_df.sentiment.map(id2label).value_counts().plot.bar()"
   ]
  },
  {
   "cell_type": "code",
   "execution_count": 263,
   "metadata": {},
   "outputs": [],
   "source": [
    "import torch\n",
    "import scipy as sp\n",
    "def f(x):\n",
    "    tv = torch.tensor([tokenizer.encode(v, padding='max_length', max_length=128,truncation=True) for v in x])\n",
    "    attention_mask = (tv!=0).type(torch.int64)\n",
    "    outputs = model(tv,attention_mask=attention_mask)[0].detach().cpu().numpy()\n",
    "    scores = (np.exp(outputs).T / np.exp(outputs).sum(-1)).T\n",
    "    val = sp.special.logit(scores)\n",
    "    return val"
   ]
  },
  {
   "cell_type": "code",
   "execution_count": 269,
   "metadata": {},
   "outputs": [],
   "source": [
    "explainer = shap.Explainer(f,tokenizer,output_names=labels)"
   ]
  },
  {
   "cell_type": "markdown",
   "metadata": {},
   "source": [
    "### Negative example: \"My iPad auto correct sucks\"\n",
    "- Majority of tokens associated with negative class"
   ]
  },
  {
   "cell_type": "code",
   "execution_count": 456,
   "metadata": {},
   "outputs": [
    {
     "data": {
      "application/vnd.jupyter.widget-view+json": {
       "model_id": "7c89b774ecb04324a988c58def8762bf",
       "version_major": 2,
       "version_minor": 0
      },
      "text/plain": [
       "HBox(children=(FloatProgress(value=0.0, max=42.0), HTML(value='')))"
      ]
     },
     "metadata": {},
     "output_type": "display_data"
    },
    {
     "name": "stderr",
     "output_type": "stream",
     "text": [
      "\n",
      "\n",
      "Partition explainer: 2it [00:12,  6.06s/it]               \u001b[A\u001b[A\n"
     ]
    },
    {
     "data": {
      "text/html": [
       "<br/><b>0th instance:</b><br/>"
      ],
      "text/plain": [
       "<IPython.core.display.HTML object>"
      ]
     },
     "metadata": {},
     "output_type": "display_data"
    },
    {
     "data": {
      "text/html": [
       "\n",
       "    <script>\n",
       "        function selectVizType_aplovvomymjchpvwyquf(selectObject) {\n",
       "\n",
       "          /* Hide all viz */\n",
       "\n",
       "            var elements = document.getElementsByClassName(\"aplovvomymjchpvwyquf_viz_container\")\n",
       "          for (var i = 0; i < elements.length; i++){\n",
       "              elements[i].style.display = 'none';\n",
       "          }\n",
       "\n",
       "          var value = selectObject.value;\n",
       "          if ( value === \"saliency-plot\" ){\n",
       "              document.getElementById('aplovvomymjchpvwyquf_saliency_plot_container').style.display  = \"block\";\n",
       "          }\n",
       "          else if ( value === \"heatmap\" ) {\n",
       "              document.getElementById('aplovvomymjchpvwyquf_heatmap_container').style.display  = \"block\";\n",
       "          }\n",
       "        }\n",
       "    </script>\n",
       "    \n",
       "    <html>\n",
       "    <div id=\"aplovvomymjchpvwyquf_viz_container\">\n",
       "      <div id=\"aplovvomymjchpvwyquf_viz_header\" style=\"padding:15px;border-style:solid;margin:5px;font-family:sans-serif;font-weight:bold;\">\n",
       "        Visualization Type:\n",
       "        <select name=\"viz_type\" id=\"aplovvomymjchpvwyquf_viz_type\" onchange=\"selectVizType_aplovvomymjchpvwyquf(this)\">\n",
       "          <option value=\"heatmap\" selected=\"selected\">Input/Output - Heatmap</option>\n",
       "          <option value=\"saliency-plot\">Saliency Plot</option>\n",
       "        </select>\n",
       "      </div>\n",
       "      <div id=\"aplovvomymjchpvwyquf_content\" style=\"padding:15px;border-style:solid;margin:5px;\">\n",
       "          <div id = \"aplovvomymjchpvwyquf_saliency_plot_container\" class=\"aplovvomymjchpvwyquf_viz_container\" style=\"display:none\"> \n",
       "              \n",
       "        <div id=\"zkuxhpepyqeqcxrmpaht_saliency_plot\" class=\"zkuxhpepyqeqcxrmpaht_viz_content\">\n",
       "            <div style=\"margin:5px;font-family:sans-serif;font-weight:bold;\">\n",
       "                <span style=\"font-size: 20px;\"> Saliency Plot </span>\n",
       "                <br>\n",
       "                x-axis: Output Text\n",
       "                <br>\n",
       "                y-axis: Input Text\n",
       "            </div>\n",
       "            <table border = \"1\" cellpadding = \"5\" cellspacing = \"5\" style=\"overflow-x:scroll;display:block;\"><tr><th></th><th></th><th>My </th><th>iPad </th><th>auto </th><th>correct </th><th>sucks</th><th></th></tr><tr><th>negative</th><th style=\"background:rgba(230.2941176470614, 26.505882352939775, 102.59215686274348, 0.0)\">0.0</th><th style=\"background:rgba(30.0, 136.0, 229.0, 0.5112695583283818)\">-0.006</th><th style=\"background:rgba(30.0, 136.0, 229.0, 0.7162210338680927)\">-0.009</th><th style=\"background:rgba(255.0, 13.0, 87.0, 0.6058625470390177)\">0.008</th><th style=\"background:rgba(255.0, 13.0, 87.0, 0.9211725094078035)\">0.012</th><th style=\"background:rgba(255.0, 13.0, 87.0, 0.306318082788671)\">0.004</th><th style=\"background:rgba(54.70588235294111, 122.49411764705886, 213.40784313725496, 0.0)\">-0.0</th></tr><tr><th>neutral</th><th style=\"background:rgba(230.2941176470614, 26.505882352939775, 102.59215686274348, 0.0)\">0.0</th><th style=\"background:rgba(255.0, 13.0, 87.0, 1.0)\">0.013</th><th style=\"background:rgba(255.0, 13.0, 87.0, 0.3772628243216479)\">0.005</th><th style=\"background:rgba(255.0, 13.0, 87.0, 0.2747870865517925)\">0.004</th><th style=\"background:rgba(30.0, 136.0, 229.0, 0.27478708655179246)\">-0.004</th><th style=\"background:rgba(255.0, 13.0, 87.0, 0.2590215884333532)\">0.003</th><th style=\"background:rgba(230.2941176470614, 26.505882352939775, 102.59215686274348, 0.0)\">0.0</th></tr><tr><th>positive</th><th style=\"background:rgba(54.70588235294111, 122.49411764705886, 213.40784313725496, 0.0)\">-0.0</th><th style=\"background:rgba(30.0, 136.0, 229.0, 0.5033868092691621)\">-0.006</th><th style=\"background:rgba(255.0, 13.0, 87.0, 0.3851455733808676)\">0.005</th><th style=\"background:rgba(30.0, 136.0, 229.0, 0.9763517528223411)\">-0.012</th><th style=\"background:rgba(30.0, 136.0, 229.0, 0.731986531986532)\">-0.009</th><th style=\"background:rgba(30.0, 136.0, 229.0, 0.6373935432758963)\">-0.008</th><th style=\"background:rgba(54.70588235294111, 122.49411764705886, 213.40784313725496, 0.0)\">-0.0</th></tr></table>\n",
       "        </div>\n",
       "    \n",
       "          </div>\n",
       "          \n",
       "          <div id = \"aplovvomymjchpvwyquf_heatmap_container\" class=\"aplovvomymjchpvwyquf_viz_container\">\n",
       "              \n",
       "        <div id=\"glwdrffrdnirzoehzqzm_heatmap\" class=\"glwdrffrdnirzoehzqzm_viz_content\">\n",
       "          <div id=\"glwdrffrdnirzoehzqzm_heatmap_header\" style=\"padding:15px;margin:5px;font-family:sans-serif;font-weight:bold;\">\n",
       "            <div style=\"display:inline\">\n",
       "              <span style=\"font-size: 20px;\"> Input/Output - Heatmap </span>\n",
       "            </div>\n",
       "            <div style=\"display:inline;float:right\">\n",
       "              Layout :\n",
       "              <select name=\"alignment\" id=\"glwdrffrdnirzoehzqzm_alignment\" onchange=\"selectAlignment_glwdrffrdnirzoehzqzm(this)\">\n",
       "                <option value=\"left-right\" selected=\"selected\">Left/Right</option>\n",
       "                <option value=\"top-bottom\">Top/Bottom</option>\n",
       "              </select>\n",
       "            </div>\n",
       "          </div>\n",
       "          <div id=\"glwdrffrdnirzoehzqzm_heatmap_content\" style=\"display:flex;\">\n",
       "            <div id=\"glwdrffrdnirzoehzqzm_input_container\" style=\"padding:15px;border-style:solid;margin:5px;flex:1;\">\n",
       "              <div id=\"glwdrffrdnirzoehzqzm_input_header\" style=\"margin:5px;font-weight:bold;font-family:sans-serif;margin-bottom:10px\">\n",
       "                Input Text\n",
       "              </div>\n",
       "              <div id=\"glwdrffrdnirzoehzqzm_input_content\" style=\"margin:5px;font-family:sans-serif;\">\n",
       "                  <div id=\"glwdrffrdnirzoehzqzm_input_node_12_container\" style=\"display:inline;text-align:center\"><div id=\"glwdrffrdnirzoehzqzm_input_node_12_label\" style=\"display:none; padding-top: 0px; font-size:12px;\"></div><div id=\"glwdrffrdnirzoehzqzm_input_node_12_content\" style=\"display:inline;\"><div id=\"glwdrffrdnirzoehzqzm_input_node_11_container\" style=\"display:inline;text-align:center\"><div id=\"glwdrffrdnirzoehzqzm_input_node_11_label\" style=\"display:none; padding-top: 0px; font-size:12px;\"></div><div id=\"glwdrffrdnirzoehzqzm_input_node_11_content\" style=\"display:inline;\"><div id=\"glwdrffrdnirzoehzqzm_input_node_7_container\" style=\"display:inline;text-align:center\"><div id=\"glwdrffrdnirzoehzqzm_input_node_7_label\" style=\"display:none; padding-top: 0px; font-size:12px;\"></div><div id=\"glwdrffrdnirzoehzqzm_input_node_7_content\" style=\"display:inline;\"><div id=\"glwdrffrdnirzoehzqzm_input_node_0_container\" style=\"display:inline;text-align:center\"><div id=\"glwdrffrdnirzoehzqzm_input_node_0_label\" style=\"display:none; padding-top: 0px; font-size:12px;\"></div><div id=\"glwdrffrdnirzoehzqzm_input_node_0_content\"style='display: inline; background:transparent; border-radius: 3px; padding: 0px;cursor: default;cursor: pointer;'onmouseover=\"onMouseHoverFlat_glwdrffrdnirzoehzqzm(this.id)\" onmouseout=\"onMouseOutFlat_glwdrffrdnirzoehzqzm(this.id)\" onclick=\"onMouseClickFlat_glwdrffrdnirzoehzqzm(this.id)\" ></div></div><div id=\"glwdrffrdnirzoehzqzm_input_node_1_container\" style=\"display:inline;text-align:center\"><div id=\"glwdrffrdnirzoehzqzm_input_node_1_label\" style=\"display:none; padding-top: 0px; font-size:12px;\"></div><div id=\"glwdrffrdnirzoehzqzm_input_node_1_content\"style='display: inline; background:transparent; border-radius: 3px; padding: 0px;cursor: default;cursor: pointer;'onmouseover=\"onMouseHoverFlat_glwdrffrdnirzoehzqzm(this.id)\" onmouseout=\"onMouseOutFlat_glwdrffrdnirzoehzqzm(this.id)\" onclick=\"onMouseClickFlat_glwdrffrdnirzoehzqzm(this.id)\" >My </div></div></div></div><div id=\"glwdrffrdnirzoehzqzm_input_node_8_container\" style=\"display:inline;text-align:center\"><div id=\"glwdrffrdnirzoehzqzm_input_node_8_label\" style=\"display:none; padding-top: 0px; font-size:12px;\"></div><div id=\"glwdrffrdnirzoehzqzm_input_node_8_content\" style=\"display:inline;\"><div id=\"glwdrffrdnirzoehzqzm_input_node_2_container\" style=\"display:inline;text-align:center\"><div id=\"glwdrffrdnirzoehzqzm_input_node_2_label\" style=\"display:none; padding-top: 0px; font-size:12px;\"></div><div id=\"glwdrffrdnirzoehzqzm_input_node_2_content\"style='display: inline; background:transparent; border-radius: 3px; padding: 0px;cursor: default;cursor: pointer;'onmouseover=\"onMouseHoverFlat_glwdrffrdnirzoehzqzm(this.id)\" onmouseout=\"onMouseOutFlat_glwdrffrdnirzoehzqzm(this.id)\" onclick=\"onMouseClickFlat_glwdrffrdnirzoehzqzm(this.id)\" >iPad </div></div><div id=\"glwdrffrdnirzoehzqzm_input_node_3_container\" style=\"display:inline;text-align:center\"><div id=\"glwdrffrdnirzoehzqzm_input_node_3_label\" style=\"display:none; padding-top: 0px; font-size:12px;\"></div><div id=\"glwdrffrdnirzoehzqzm_input_node_3_content\"style='display: inline; background:transparent; border-radius: 3px; padding: 0px;cursor: default;cursor: pointer;'onmouseover=\"onMouseHoverFlat_glwdrffrdnirzoehzqzm(this.id)\" onmouseout=\"onMouseOutFlat_glwdrffrdnirzoehzqzm(this.id)\" onclick=\"onMouseClickFlat_glwdrffrdnirzoehzqzm(this.id)\" >auto </div></div></div></div></div></div><div id=\"glwdrffrdnirzoehzqzm_input_node_10_container\" style=\"display:inline;text-align:center\"><div id=\"glwdrffrdnirzoehzqzm_input_node_10_label\" style=\"display:none; padding-top: 0px; font-size:12px;\"></div><div id=\"glwdrffrdnirzoehzqzm_input_node_10_content\" style=\"display:inline;\"><div id=\"glwdrffrdnirzoehzqzm_input_node_9_container\" style=\"display:inline;text-align:center\"><div id=\"glwdrffrdnirzoehzqzm_input_node_9_label\" style=\"display:none; padding-top: 0px; font-size:12px;\"></div><div id=\"glwdrffrdnirzoehzqzm_input_node_9_content\" style=\"display:inline;\"><div id=\"glwdrffrdnirzoehzqzm_input_node_4_container\" style=\"display:inline;text-align:center\"><div id=\"glwdrffrdnirzoehzqzm_input_node_4_label\" style=\"display:none; padding-top: 0px; font-size:12px;\"></div><div id=\"glwdrffrdnirzoehzqzm_input_node_4_content\"style='display: inline; background:transparent; border-radius: 3px; padding: 0px;cursor: default;cursor: pointer;'onmouseover=\"onMouseHoverFlat_glwdrffrdnirzoehzqzm(this.id)\" onmouseout=\"onMouseOutFlat_glwdrffrdnirzoehzqzm(this.id)\" onclick=\"onMouseClickFlat_glwdrffrdnirzoehzqzm(this.id)\" >correct </div></div><div id=\"glwdrffrdnirzoehzqzm_input_node_5_container\" style=\"display:inline;text-align:center\"><div id=\"glwdrffrdnirzoehzqzm_input_node_5_label\" style=\"display:none; padding-top: 0px; font-size:12px;\"></div><div id=\"glwdrffrdnirzoehzqzm_input_node_5_content\"style='display: inline; background:transparent; border-radius: 3px; padding: 0px;cursor: default;cursor: pointer;'onmouseover=\"onMouseHoverFlat_glwdrffrdnirzoehzqzm(this.id)\" onmouseout=\"onMouseOutFlat_glwdrffrdnirzoehzqzm(this.id)\" onclick=\"onMouseClickFlat_glwdrffrdnirzoehzqzm(this.id)\" >sucks</div></div></div></div><div id=\"glwdrffrdnirzoehzqzm_input_node_6_container\" style=\"display:inline;text-align:center\"><div id=\"glwdrffrdnirzoehzqzm_input_node_6_label\" style=\"display:none; padding-top: 0px; font-size:12px;\"></div><div id=\"glwdrffrdnirzoehzqzm_input_node_6_content\"style='display: inline; background:transparent; border-radius: 3px; padding: 0px;cursor: default;cursor: pointer;'onmouseover=\"onMouseHoverFlat_glwdrffrdnirzoehzqzm(this.id)\" onmouseout=\"onMouseOutFlat_glwdrffrdnirzoehzqzm(this.id)\" onclick=\"onMouseClickFlat_glwdrffrdnirzoehzqzm(this.id)\" ></div></div></div></div></div></div>\n",
       "              </div>\n",
       "            </div>\n",
       "            <div id=\"glwdrffrdnirzoehzqzm_output_container\" style=\"padding:15px;border-style:solid;margin:5px;flex:1;\">\n",
       "              <div id=\"glwdrffrdnirzoehzqzm_output_header\" style=\"margin:5px;font-weight:bold;font-family:sans-serif;margin-bottom:10px\">\n",
       "                Output Text\n",
       "              </div>\n",
       "              <div id=\"glwdrffrdnirzoehzqzm_output_content\" style=\"margin:5px;font-family:sans-serif;\">\n",
       "                  <div style='display:inline; text-align:center;'><div id='glwdrffrdnirzoehzqzm_output_flat_value_label_0'style='display:none;color: #999; padding-top: 0px; font-size:12px;'></div><div id='glwdrffrdnirzoehzqzm_output_flat_token_0'style='display: inline; background:transparent; border-radius: 3px; padding: 0px;cursor: default;cursor: pointer;'onmouseover=\"onMouseHoverFlat_glwdrffrdnirzoehzqzm(this.id)\" onmouseout=\"onMouseOutFlat_glwdrffrdnirzoehzqzm(this.id)\" onclick=\"onMouseClickFlat_glwdrffrdnirzoehzqzm(this.id)\" >negative </div></div><div style='display:inline; text-align:center;'><div id='glwdrffrdnirzoehzqzm_output_flat_value_label_1'style='display:none;color: #999; padding-top: 0px; font-size:12px;'></div><div id='glwdrffrdnirzoehzqzm_output_flat_token_1'style='display: inline; background:transparent; border-radius: 3px; padding: 0px;cursor: default;cursor: pointer;'onmouseover=\"onMouseHoverFlat_glwdrffrdnirzoehzqzm(this.id)\" onmouseout=\"onMouseOutFlat_glwdrffrdnirzoehzqzm(this.id)\" onclick=\"onMouseClickFlat_glwdrffrdnirzoehzqzm(this.id)\" >neutral </div></div><div style='display:inline; text-align:center;'><div id='glwdrffrdnirzoehzqzm_output_flat_value_label_2'style='display:none;color: #999; padding-top: 0px; font-size:12px;'></div><div id='glwdrffrdnirzoehzqzm_output_flat_token_2'style='display: inline; background:transparent; border-radius: 3px; padding: 0px;cursor: default;cursor: pointer;'onmouseover=\"onMouseHoverFlat_glwdrffrdnirzoehzqzm(this.id)\" onmouseout=\"onMouseOutFlat_glwdrffrdnirzoehzqzm(this.id)\" onclick=\"onMouseClickFlat_glwdrffrdnirzoehzqzm(this.id)\" >positive </div></div>\n",
       "              </div>\n",
       "            </div>\n",
       "          </div>\n",
       "        </div>\n",
       "    \n",
       "        <script>\n",
       "            function selectAlignment_glwdrffrdnirzoehzqzm(selectObject) {\n",
       "                var value = selectObject.value;\n",
       "                if ( value === \"left-right\" ){\n",
       "                  document.getElementById('glwdrffrdnirzoehzqzm_heatmap_content').style.display  = \"flex\";\n",
       "                }\n",
       "                else if ( value === \"top-bottom\" ) {\n",
       "                  document.getElementById('glwdrffrdnirzoehzqzm_heatmap_content').style.display  = \"inline\";\n",
       "                }\n",
       "            }\n",
       "            \n",
       "            var glwdrffrdnirzoehzqzm_heatmap_flat_state = null;\n",
       "            \n",
       "            function onMouseHoverFlat_glwdrffrdnirzoehzqzm(id) {\n",
       "                if (glwdrffrdnirzoehzqzm_heatmap_flat_state === null) {\n",
       "                    setBackgroundColors_glwdrffrdnirzoehzqzm(id);\n",
       "                    document.getElementById(id).style.backgroundColor  = \"grey\";\n",
       "                }\n",
       "                \n",
       "                if (getIdSide_glwdrffrdnirzoehzqzm(id) === 'input' && getIdSide_glwdrffrdnirzoehzqzm(glwdrffrdnirzoehzqzm_heatmap_flat_state) === 'output'){\n",
       "                \n",
       "                    label_content_id = token_id_to_node_id_mapping_glwdrffrdnirzoehzqzm[glwdrffrdnirzoehzqzm_heatmap_flat_state][id];\n",
       "                    \n",
       "                    if (document.getElementById(label_content_id).previousElementSibling.style.display == 'none'){\n",
       "                        document.getElementById(label_content_id).style.textShadow = \"0px 0px 1px #000000\";\n",
       "                    }\n",
       "                    \n",
       "                }\n",
       "                \n",
       "            }\n",
       "            \n",
       "            function onMouseOutFlat_glwdrffrdnirzoehzqzm(id) {\n",
       "                if (glwdrffrdnirzoehzqzm_heatmap_flat_state === null) {\n",
       "                    cleanValuesAndColors_glwdrffrdnirzoehzqzm(id);\n",
       "                    document.getElementById(id).style.backgroundColor  = \"transparent\";\n",
       "                }\n",
       "                \n",
       "                if (getIdSide_glwdrffrdnirzoehzqzm(id) === 'input' && getIdSide_glwdrffrdnirzoehzqzm(glwdrffrdnirzoehzqzm_heatmap_flat_state) === 'output'){\n",
       "                \n",
       "                    label_content_id = token_id_to_node_id_mapping_glwdrffrdnirzoehzqzm[glwdrffrdnirzoehzqzm_heatmap_flat_state][id];\n",
       "                    \n",
       "                    if (document.getElementById(label_content_id).previousElementSibling.style.display == 'none'){\n",
       "                        document.getElementById(label_content_id).style.textShadow = \"inherit\";\n",
       "                    }\n",
       "                    \n",
       "                }\n",
       "                \n",
       "            }\n",
       "\n",
       "            function onMouseClickFlat_glwdrffrdnirzoehzqzm(id) {\n",
       "                if (glwdrffrdnirzoehzqzm_heatmap_flat_state === id) {\n",
       "                    \n",
       "                    // If the clicked token was already selected\n",
       "                    \n",
       "                    document.getElementById(id).style.backgroundColor  = \"transparent\";\n",
       "                    cleanValuesAndColors_glwdrffrdnirzoehzqzm(id);\n",
       "                    glwdrffrdnirzoehzqzm_heatmap_flat_state = null;\n",
       "                }\n",
       "                else {\n",
       "                    if (glwdrffrdnirzoehzqzm_heatmap_flat_state === null) {\n",
       "                    \n",
       "                        // No token previously selected, new token clicked on\n",
       "                    \n",
       "                        cleanValuesAndColors_glwdrffrdnirzoehzqzm(id)\n",
       "                        glwdrffrdnirzoehzqzm_heatmap_flat_state = id;\n",
       "                        document.getElementById(id).style.backgroundColor  = \"grey\";\n",
       "                        setLabelValues_glwdrffrdnirzoehzqzm(id);\n",
       "                        setBackgroundColors_glwdrffrdnirzoehzqzm(id);\n",
       "                    }\n",
       "                    else {\n",
       "                        if (getIdSide_glwdrffrdnirzoehzqzm(glwdrffrdnirzoehzqzm_heatmap_flat_state) === getIdSide_glwdrffrdnirzoehzqzm(id)) {\n",
       "                        \n",
       "                            // User clicked a token on the same side as the currently selected token\n",
       "                            \n",
       "                            cleanValuesAndColors_glwdrffrdnirzoehzqzm(glwdrffrdnirzoehzqzm_heatmap_flat_state)\n",
       "                            document.getElementById(glwdrffrdnirzoehzqzm_heatmap_flat_state).style.backgroundColor  = \"transparent\";\n",
       "                            glwdrffrdnirzoehzqzm_heatmap_flat_state = id;\n",
       "                            document.getElementById(id).style.backgroundColor  = \"grey\";\n",
       "                            setLabelValues_glwdrffrdnirzoehzqzm(id);\n",
       "                            setBackgroundColors_glwdrffrdnirzoehzqzm(id);\n",
       "                        }\n",
       "                        else{\n",
       "                            \n",
       "                            if (getIdSide_glwdrffrdnirzoehzqzm(id) === 'input') {\n",
       "                                label_content_id = token_id_to_node_id_mapping_glwdrffrdnirzoehzqzm[glwdrffrdnirzoehzqzm_heatmap_flat_state][id];\n",
       "                                \n",
       "                                if (document.getElementById(label_content_id).previousElementSibling.style.display == 'none') {\n",
       "                                    document.getElementById(label_content_id).previousElementSibling.style.display = 'block';\n",
       "                                    document.getElementById(label_content_id).parentNode.style.display = 'inline-block';\n",
       "                                    document.getElementById(label_content_id).style.textShadow = \"0px 0px 1px #000000\";\n",
       "                                  }\n",
       "                                else {\n",
       "                                    document.getElementById(label_content_id).previousElementSibling.style.display = 'none';\n",
       "                                    document.getElementById(label_content_id).parentNode.style.display = 'inline';\n",
       "                                    document.getElementById(label_content_id).style.textShadow  = \"inherit\"; \n",
       "                                  }\n",
       "                                \n",
       "                            }\n",
       "                            else {\n",
       "                                if (document.getElementById(id).previousElementSibling.style.display == 'none') {\n",
       "                                    document.getElementById(id).previousElementSibling.style.display = 'block';\n",
       "                                    document.getElementById(id).parentNode.style.display = 'inline-block';\n",
       "                                  }\n",
       "                                else {\n",
       "                                    document.getElementById(id).previousElementSibling.style.display = 'none';\n",
       "                                    document.getElementById(id).parentNode.style.display = 'inline';\n",
       "                                  }\n",
       "                            }\n",
       "                        \n",
       "                        }\n",
       "                    }\n",
       "                \n",
       "                }\n",
       "            }\n",
       "\n",
       "            function setLabelValues_glwdrffrdnirzoehzqzm(id) {\n",
       "                for(const token in shap_values_glwdrffrdnirzoehzqzm[id]){\n",
       "                    document.getElementById(token).innerHTML = shap_values_glwdrffrdnirzoehzqzm[id][token];\n",
       "                    document.getElementById(token).nextElementSibling.title = 'SHAP Value : ' + shap_values_glwdrffrdnirzoehzqzm[id][token];\n",
       "                }\n",
       "            }\n",
       "\n",
       "            function setBackgroundColors_glwdrffrdnirzoehzqzm(id) {\n",
       "                for(const token in colors_glwdrffrdnirzoehzqzm[id]){\n",
       "                    document.getElementById(token).style.backgroundColor  = colors_glwdrffrdnirzoehzqzm[id][token];\n",
       "                }\n",
       "            }\n",
       "\n",
       "            function cleanValuesAndColors_glwdrffrdnirzoehzqzm(id) {\n",
       "                for(const token in shap_values_glwdrffrdnirzoehzqzm[id]){\n",
       "                    document.getElementById(token).innerHTML = \"\";\n",
       "                    document.getElementById(token).nextElementSibling.title = \"\";\n",
       "                }\n",
       "                 for(const token in colors_glwdrffrdnirzoehzqzm[id]){\n",
       "                    document.getElementById(token).style.backgroundColor  = \"transparent\";\n",
       "                    document.getElementById(token).previousElementSibling.style.display = 'none';\n",
       "                    document.getElementById(token).parentNode.style.display = 'inline';\n",
       "                    document.getElementById(token).style.textShadow  = \"inherit\"; \n",
       "                }\n",
       "            }\n",
       "            \n",
       "            function getIdSide_glwdrffrdnirzoehzqzm(id) {\n",
       "                if (id === null) {\n",
       "                    return 'null'\n",
       "                }\n",
       "                return id.split(\"_\")[1];\n",
       "            }\n",
       "        </script>\n",
       "    <script> colors_glwdrffrdnirzoehzqzm = {\"glwdrffrdnirzoehzqzm_input_node_0_content\": {\"glwdrffrdnirzoehzqzm_output_flat_token_0\": \"rgba(230.2941176470614, 26.505882352939775, 102.59215686274348, 0.0)\", \"glwdrffrdnirzoehzqzm_output_flat_token_1\": \"rgba(230.2941176470614, 26.505882352939775, 102.59215686274348, 0.0)\", \"glwdrffrdnirzoehzqzm_output_flat_token_2\": \"rgba(54.70588235294111, 122.49411764705886, 213.40784313725496, 0.0)\"}, \"glwdrffrdnirzoehzqzm_input_node_1_content\": {\"glwdrffrdnirzoehzqzm_output_flat_token_0\": \"rgba(30.0, 136.0, 229.0, 0.5112695583283818)\", \"glwdrffrdnirzoehzqzm_output_flat_token_1\": \"rgba(255.0, 13.0, 87.0, 1.0)\", \"glwdrffrdnirzoehzqzm_output_flat_token_2\": \"rgba(30.0, 136.0, 229.0, 0.5033868092691621)\"}, \"glwdrffrdnirzoehzqzm_input_node_2_content\": {\"glwdrffrdnirzoehzqzm_output_flat_token_0\": \"rgba(30.0, 136.0, 229.0, 0.7162210338680927)\", \"glwdrffrdnirzoehzqzm_output_flat_token_1\": \"rgba(255.0, 13.0, 87.0, 0.3772628243216479)\", \"glwdrffrdnirzoehzqzm_output_flat_token_2\": \"rgba(255.0, 13.0, 87.0, 0.3851455733808676)\"}, \"glwdrffrdnirzoehzqzm_input_node_3_content\": {\"glwdrffrdnirzoehzqzm_output_flat_token_0\": \"rgba(255.0, 13.0, 87.0, 0.6058625470390177)\", \"glwdrffrdnirzoehzqzm_output_flat_token_1\": \"rgba(255.0, 13.0, 87.0, 0.2747870865517925)\", \"glwdrffrdnirzoehzqzm_output_flat_token_2\": \"rgba(30.0, 136.0, 229.0, 0.9763517528223411)\"}, \"glwdrffrdnirzoehzqzm_input_node_4_content\": {\"glwdrffrdnirzoehzqzm_output_flat_token_0\": \"rgba(255.0, 13.0, 87.0, 0.9211725094078035)\", \"glwdrffrdnirzoehzqzm_output_flat_token_1\": \"rgba(30.0, 136.0, 229.0, 0.27478708655179246)\", \"glwdrffrdnirzoehzqzm_output_flat_token_2\": \"rgba(30.0, 136.0, 229.0, 0.731986531986532)\"}, \"glwdrffrdnirzoehzqzm_input_node_5_content\": {\"glwdrffrdnirzoehzqzm_output_flat_token_0\": \"rgba(255.0, 13.0, 87.0, 0.306318082788671)\", \"glwdrffrdnirzoehzqzm_output_flat_token_1\": \"rgba(255.0, 13.0, 87.0, 0.2590215884333532)\", \"glwdrffrdnirzoehzqzm_output_flat_token_2\": \"rgba(30.0, 136.0, 229.0, 0.6373935432758963)\"}, \"glwdrffrdnirzoehzqzm_input_node_6_content\": {\"glwdrffrdnirzoehzqzm_output_flat_token_0\": \"rgba(54.70588235294111, 122.49411764705886, 213.40784313725496, 0.0)\", \"glwdrffrdnirzoehzqzm_output_flat_token_1\": \"rgba(230.2941176470614, 26.505882352939775, 102.59215686274348, 0.0)\", \"glwdrffrdnirzoehzqzm_output_flat_token_2\": \"rgba(54.70588235294111, 122.49411764705886, 213.40784313725496, 0.0)\"}, \"glwdrffrdnirzoehzqzm_output_flat_token_0\": {\"glwdrffrdnirzoehzqzm_input_node_0_content\": \"rgba(230.2941176470614, 26.505882352939775, 102.59215686274348, 0.0)\", \"glwdrffrdnirzoehzqzm_input_node_1_content\": \"rgba(30.0, 136.0, 229.0, 0.5112695583283818)\", \"glwdrffrdnirzoehzqzm_input_node_2_content\": \"rgba(30.0, 136.0, 229.0, 0.7162210338680927)\", \"glwdrffrdnirzoehzqzm_input_node_3_content\": \"rgba(255.0, 13.0, 87.0, 0.6058625470390177)\", \"glwdrffrdnirzoehzqzm_input_node_4_content\": \"rgba(255.0, 13.0, 87.0, 0.9211725094078035)\", \"glwdrffrdnirzoehzqzm_input_node_5_content\": \"rgba(255.0, 13.0, 87.0, 0.306318082788671)\", \"glwdrffrdnirzoehzqzm_input_node_6_content\": \"rgba(54.70588235294111, 122.49411764705886, 213.40784313725496, 0.0)\"}, \"glwdrffrdnirzoehzqzm_output_flat_token_1\": {\"glwdrffrdnirzoehzqzm_input_node_0_content\": \"rgba(230.2941176470614, 26.505882352939775, 102.59215686274348, 0.0)\", \"glwdrffrdnirzoehzqzm_input_node_1_content\": \"rgba(255.0, 13.0, 87.0, 1.0)\", \"glwdrffrdnirzoehzqzm_input_node_2_content\": \"rgba(255.0, 13.0, 87.0, 0.3772628243216479)\", \"glwdrffrdnirzoehzqzm_input_node_3_content\": \"rgba(255.0, 13.0, 87.0, 0.2747870865517925)\", \"glwdrffrdnirzoehzqzm_input_node_4_content\": \"rgba(30.0, 136.0, 229.0, 0.27478708655179246)\", \"glwdrffrdnirzoehzqzm_input_node_5_content\": \"rgba(255.0, 13.0, 87.0, 0.2590215884333532)\", \"glwdrffrdnirzoehzqzm_input_node_6_content\": \"rgba(230.2941176470614, 26.505882352939775, 102.59215686274348, 0.0)\"}, \"glwdrffrdnirzoehzqzm_output_flat_token_2\": {\"glwdrffrdnirzoehzqzm_input_node_0_content\": \"rgba(54.70588235294111, 122.49411764705886, 213.40784313725496, 0.0)\", \"glwdrffrdnirzoehzqzm_input_node_1_content\": \"rgba(30.0, 136.0, 229.0, 0.5033868092691621)\", \"glwdrffrdnirzoehzqzm_input_node_2_content\": \"rgba(255.0, 13.0, 87.0, 0.3851455733808676)\", \"glwdrffrdnirzoehzqzm_input_node_3_content\": \"rgba(30.0, 136.0, 229.0, 0.9763517528223411)\", \"glwdrffrdnirzoehzqzm_input_node_4_content\": \"rgba(30.0, 136.0, 229.0, 0.731986531986532)\", \"glwdrffrdnirzoehzqzm_input_node_5_content\": \"rgba(30.0, 136.0, 229.0, 0.6373935432758963)\", \"glwdrffrdnirzoehzqzm_input_node_6_content\": \"rgba(54.70588235294111, 122.49411764705886, 213.40784313725496, 0.0)\"}}\n",
       " shap_values_glwdrffrdnirzoehzqzm = {\"glwdrffrdnirzoehzqzm_input_node_0_content\": {\"glwdrffrdnirzoehzqzm_output_flat_value_label_0\": 0.0, \"glwdrffrdnirzoehzqzm_output_flat_value_label_1\": 0.0, \"glwdrffrdnirzoehzqzm_output_flat_value_label_2\": -0.0}, \"glwdrffrdnirzoehzqzm_input_node_1_content\": {\"glwdrffrdnirzoehzqzm_output_flat_value_label_0\": -0.006, \"glwdrffrdnirzoehzqzm_output_flat_value_label_1\": 0.013, \"glwdrffrdnirzoehzqzm_output_flat_value_label_2\": -0.006}, \"glwdrffrdnirzoehzqzm_input_node_2_content\": {\"glwdrffrdnirzoehzqzm_output_flat_value_label_0\": -0.009, \"glwdrffrdnirzoehzqzm_output_flat_value_label_1\": 0.005, \"glwdrffrdnirzoehzqzm_output_flat_value_label_2\": 0.005}, \"glwdrffrdnirzoehzqzm_input_node_3_content\": {\"glwdrffrdnirzoehzqzm_output_flat_value_label_0\": 0.008, \"glwdrffrdnirzoehzqzm_output_flat_value_label_1\": 0.004, \"glwdrffrdnirzoehzqzm_output_flat_value_label_2\": -0.012}, \"glwdrffrdnirzoehzqzm_input_node_4_content\": {\"glwdrffrdnirzoehzqzm_output_flat_value_label_0\": 0.012, \"glwdrffrdnirzoehzqzm_output_flat_value_label_1\": -0.004, \"glwdrffrdnirzoehzqzm_output_flat_value_label_2\": -0.009}, \"glwdrffrdnirzoehzqzm_input_node_5_content\": {\"glwdrffrdnirzoehzqzm_output_flat_value_label_0\": 0.004, \"glwdrffrdnirzoehzqzm_output_flat_value_label_1\": 0.003, \"glwdrffrdnirzoehzqzm_output_flat_value_label_2\": -0.008}, \"glwdrffrdnirzoehzqzm_input_node_6_content\": {\"glwdrffrdnirzoehzqzm_output_flat_value_label_0\": -0.0, \"glwdrffrdnirzoehzqzm_output_flat_value_label_1\": 0.0, \"glwdrffrdnirzoehzqzm_output_flat_value_label_2\": -0.0}, \"glwdrffrdnirzoehzqzm_output_flat_token_0\": {\"glwdrffrdnirzoehzqzm_input_node_0_label\": \"0.0\", \"glwdrffrdnirzoehzqzm_input_node_1_label\": \"-0.006\", \"glwdrffrdnirzoehzqzm_input_node_2_label\": \"-0.009\", \"glwdrffrdnirzoehzqzm_input_node_3_label\": \"0.008\", \"glwdrffrdnirzoehzqzm_input_node_4_label\": \"0.012\", \"glwdrffrdnirzoehzqzm_input_node_5_label\": \"0.004\", \"glwdrffrdnirzoehzqzm_input_node_6_label\": \"-0.0\"}, \"glwdrffrdnirzoehzqzm_output_flat_token_1\": {\"glwdrffrdnirzoehzqzm_input_node_0_label\": \"0.0\", \"glwdrffrdnirzoehzqzm_input_node_1_label\": \"0.013\", \"glwdrffrdnirzoehzqzm_input_node_2_label\": \"0.005\", \"glwdrffrdnirzoehzqzm_input_node_3_label\": \"0.004\", \"glwdrffrdnirzoehzqzm_input_node_4_label\": \"-0.004\", \"glwdrffrdnirzoehzqzm_input_node_5_label\": \"0.003\", \"glwdrffrdnirzoehzqzm_input_node_6_label\": \"0.0\"}, \"glwdrffrdnirzoehzqzm_output_flat_token_2\": {\"glwdrffrdnirzoehzqzm_input_node_0_label\": \"-0.0\", \"glwdrffrdnirzoehzqzm_input_node_1_label\": \"-0.006\", \"glwdrffrdnirzoehzqzm_input_node_2_label\": \"0.005\", \"glwdrffrdnirzoehzqzm_input_node_3_label\": \"-0.012\", \"glwdrffrdnirzoehzqzm_input_node_4_label\": \"-0.009\", \"glwdrffrdnirzoehzqzm_input_node_5_label\": \"-0.008\", \"glwdrffrdnirzoehzqzm_input_node_6_label\": \"-0.0\"}}\n",
       " token_id_to_node_id_mapping_glwdrffrdnirzoehzqzm = {\"glwdrffrdnirzoehzqzm_output_flat_token_0\": {\"glwdrffrdnirzoehzqzm_input_node_0_content\": \"glwdrffrdnirzoehzqzm_input_node_0_content\", \"glwdrffrdnirzoehzqzm_input_node_1_content\": \"glwdrffrdnirzoehzqzm_input_node_1_content\", \"glwdrffrdnirzoehzqzm_input_node_2_content\": \"glwdrffrdnirzoehzqzm_input_node_2_content\", \"glwdrffrdnirzoehzqzm_input_node_3_content\": \"glwdrffrdnirzoehzqzm_input_node_3_content\", \"glwdrffrdnirzoehzqzm_input_node_4_content\": \"glwdrffrdnirzoehzqzm_input_node_4_content\", \"glwdrffrdnirzoehzqzm_input_node_5_content\": \"glwdrffrdnirzoehzqzm_input_node_5_content\", \"glwdrffrdnirzoehzqzm_input_node_6_content\": \"glwdrffrdnirzoehzqzm_input_node_6_content\"}, \"glwdrffrdnirzoehzqzm_output_flat_token_1\": {\"glwdrffrdnirzoehzqzm_input_node_0_content\": \"glwdrffrdnirzoehzqzm_input_node_0_content\", \"glwdrffrdnirzoehzqzm_input_node_1_content\": \"glwdrffrdnirzoehzqzm_input_node_1_content\", \"glwdrffrdnirzoehzqzm_input_node_2_content\": \"glwdrffrdnirzoehzqzm_input_node_2_content\", \"glwdrffrdnirzoehzqzm_input_node_3_content\": \"glwdrffrdnirzoehzqzm_input_node_3_content\", \"glwdrffrdnirzoehzqzm_input_node_4_content\": \"glwdrffrdnirzoehzqzm_input_node_4_content\", \"glwdrffrdnirzoehzqzm_input_node_5_content\": \"glwdrffrdnirzoehzqzm_input_node_5_content\", \"glwdrffrdnirzoehzqzm_input_node_6_content\": \"glwdrffrdnirzoehzqzm_input_node_6_content\"}, \"glwdrffrdnirzoehzqzm_output_flat_token_2\": {\"glwdrffrdnirzoehzqzm_input_node_0_content\": \"glwdrffrdnirzoehzqzm_input_node_0_content\", \"glwdrffrdnirzoehzqzm_input_node_1_content\": \"glwdrffrdnirzoehzqzm_input_node_1_content\", \"glwdrffrdnirzoehzqzm_input_node_2_content\": \"glwdrffrdnirzoehzqzm_input_node_2_content\", \"glwdrffrdnirzoehzqzm_input_node_3_content\": \"glwdrffrdnirzoehzqzm_input_node_3_content\", \"glwdrffrdnirzoehzqzm_input_node_4_content\": \"glwdrffrdnirzoehzqzm_input_node_4_content\", \"glwdrffrdnirzoehzqzm_input_node_5_content\": \"glwdrffrdnirzoehzqzm_input_node_5_content\", \"glwdrffrdnirzoehzqzm_input_node_6_content\": \"glwdrffrdnirzoehzqzm_input_node_6_content\"}}\n",
       "</script> \n",
       " \n",
       "          </div>\n",
       "      </div>\n",
       "    </div>\n",
       "    </html>\n",
       "    "
      ],
      "text/plain": [
       "<IPython.core.display.HTML object>"
      ]
     },
     "metadata": {},
     "output_type": "display_data"
    }
   ],
   "source": [
    "# My iPad auto correct sucks\n",
    "shap_values_negative = explainer(pd.Series(negative_obs.loc[28603].cleaned_content))\n",
    "shap.plots.text(shap_values_negative)"
   ]
  },
  {
   "cell_type": "markdown",
   "metadata": {},
   "source": [
    "### Positive example: \"Loves my iPad :D\"\n",
    "- Majority of tokens associated with positive class"
   ]
  },
  {
   "cell_type": "code",
   "execution_count": 462,
   "metadata": {},
   "outputs": [
    {
     "data": {
      "application/vnd.jupyter.widget-view+json": {
       "model_id": "",
       "version_major": 2,
       "version_minor": 0
      },
      "text/plain": [
       "HBox(children=(FloatProgress(value=0.0, max=48.0), HTML(value='')))"
      ]
     },
     "metadata": {},
     "output_type": "display_data"
    },
    {
     "name": "stderr",
     "output_type": "stream",
     "text": [
      "\n",
      "\n",
      "Partition explainer: 2it [00:15,  7.98s/it]               \u001b[A\u001b[A\n"
     ]
    },
    {
     "data": {
      "text/html": [
       "<br/><b>0th instance:</b><br/>"
      ],
      "text/plain": [
       "<IPython.core.display.HTML object>"
      ]
     },
     "metadata": {},
     "output_type": "display_data"
    },
    {
     "data": {
      "text/html": [
       "\n",
       "    <script>\n",
       "        function selectVizType_yodnwvlikgvgeotharzh(selectObject) {\n",
       "\n",
       "          /* Hide all viz */\n",
       "\n",
       "            var elements = document.getElementsByClassName(\"yodnwvlikgvgeotharzh_viz_container\")\n",
       "          for (var i = 0; i < elements.length; i++){\n",
       "              elements[i].style.display = 'none';\n",
       "          }\n",
       "\n",
       "          var value = selectObject.value;\n",
       "          if ( value === \"saliency-plot\" ){\n",
       "              document.getElementById('yodnwvlikgvgeotharzh_saliency_plot_container').style.display  = \"block\";\n",
       "          }\n",
       "          else if ( value === \"heatmap\" ) {\n",
       "              document.getElementById('yodnwvlikgvgeotharzh_heatmap_container').style.display  = \"block\";\n",
       "          }\n",
       "        }\n",
       "    </script>\n",
       "    \n",
       "    <html>\n",
       "    <div id=\"yodnwvlikgvgeotharzh_viz_container\">\n",
       "      <div id=\"yodnwvlikgvgeotharzh_viz_header\" style=\"padding:15px;border-style:solid;margin:5px;font-family:sans-serif;font-weight:bold;\">\n",
       "        Visualization Type:\n",
       "        <select name=\"viz_type\" id=\"yodnwvlikgvgeotharzh_viz_type\" onchange=\"selectVizType_yodnwvlikgvgeotharzh(this)\">\n",
       "          <option value=\"heatmap\" selected=\"selected\">Input/Output - Heatmap</option>\n",
       "          <option value=\"saliency-plot\">Saliency Plot</option>\n",
       "        </select>\n",
       "      </div>\n",
       "      <div id=\"yodnwvlikgvgeotharzh_content\" style=\"padding:15px;border-style:solid;margin:5px;\">\n",
       "          <div id = \"yodnwvlikgvgeotharzh_saliency_plot_container\" class=\"yodnwvlikgvgeotharzh_viz_container\" style=\"display:none\"> \n",
       "              \n",
       "        <div id=\"omxoaismeuqsgmgjzeuw_saliency_plot\" class=\"omxoaismeuqsgmgjzeuw_viz_content\">\n",
       "            <div style=\"margin:5px;font-family:sans-serif;font-weight:bold;\">\n",
       "                <span style=\"font-size: 20px;\"> Saliency Plot </span>\n",
       "                <br>\n",
       "                x-axis: Output Text\n",
       "                <br>\n",
       "                y-axis: Input Text\n",
       "            </div>\n",
       "            <table border = \"1\" cellpadding = \"5\" cellspacing = \"5\" style=\"overflow-x:scroll;display:block;\"><tr><th></th><th></th><th>L</th><th>oves </th><th>my </th><th>ip</th><th>ad </th><th>:</th><th>D</th><th></th></tr><tr><th>negative</th><th style=\"background:rgba(230.2941176470614, 26.505882352939775, 102.59215686274348, 0.0)\">0.0</th><th style=\"background:rgba(255.0, 13.0, 87.0, 0.4087938205585263)\">0.005</th><th style=\"background:rgba(30.0, 136.0, 229.0, 0.3220835809071103)\">-0.004</th><th style=\"background:rgba(30.0, 136.0, 229.0, 0.9369380075262429)\">-0.012</th><th style=\"background:rgba(30.0, 136.0, 229.0, 0.5112695583283818)\">-0.007</th><th style=\"background:rgba(255.0, 13.0, 87.0, 0.43244206773618543)\">0.006</th><th style=\"background:rgba(30.0, 136.0, 229.0, 0.09348385818974048)\">-0.001</th><th style=\"background:rgba(54.70588235294111, 122.49411764705886, 213.40784313725496, 0.0)\">-0.0</th><th style=\"background:rgba(255.0, 13.0, 87.0, 0.014656367597544035)\">0.0</th></tr><tr><th>neutral</th><th style=\"background:rgba(230.2941176470614, 26.505882352939775, 102.59215686274348, 0.0)\">0.0</th><th style=\"background:rgba(30.0, 136.0, 229.0, 1.0)\">-0.013</th><th style=\"background:rgba(255.0, 13.0, 87.0, 0.04618736383442265)\">0.001</th><th style=\"background:rgba(255.0, 13.0, 87.0, 0.6452762923351159)\">0.008</th><th style=\"background:rgba(255.0, 13.0, 87.0, 0.16442859972271742)\">0.002</th><th style=\"background:rgba(30.0, 136.0, 229.0, 0.006773618538324436)\">-0.0</th><th style=\"background:rgba(30.0, 136.0, 229.0, 0.39302832244008723)\">-0.005</th><th style=\"background:rgba(30.0, 136.0, 229.0, 0.9290552584670232)\">-0.012</th><th style=\"background:rgba(30.0, 136.0, 229.0, 0.022539116656763607)\">-0.0</th></tr><tr><th>positive</th><th style=\"background:rgba(54.70588235294111, 122.49411764705886, 213.40784313725496, 0.0)\">-0.0</th><th style=\"background:rgba(255.0, 13.0, 87.0, 0.621628045157457)\">0.008</th><th style=\"background:rgba(255.0, 13.0, 87.0, 0.306318082788671)\">0.004</th><th style=\"background:rgba(255.0, 13.0, 87.0, 0.3457318280847692)\">0.005</th><th style=\"background:rgba(255.0, 13.0, 87.0, 0.39302832244008706)\">0.005</th><th style=\"background:rgba(30.0, 136.0, 229.0, 0.46397306397306387)\">-0.006</th><th style=\"background:rgba(255.0, 13.0, 87.0, 0.5349178055060405)\">0.007</th><th style=\"background:rgba(255.0, 13.0, 87.0, 1.0)\">0.013</th><th style=\"background:rgba(255.0, 13.0, 87.0, 0.00677361853832443)\">0.0</th></tr></table>\n",
       "        </div>\n",
       "    \n",
       "          </div>\n",
       "          \n",
       "          <div id = \"yodnwvlikgvgeotharzh_heatmap_container\" class=\"yodnwvlikgvgeotharzh_viz_container\">\n",
       "              \n",
       "        <div id=\"aasweswzudeepfmewron_heatmap\" class=\"aasweswzudeepfmewron_viz_content\">\n",
       "          <div id=\"aasweswzudeepfmewron_heatmap_header\" style=\"padding:15px;margin:5px;font-family:sans-serif;font-weight:bold;\">\n",
       "            <div style=\"display:inline\">\n",
       "              <span style=\"font-size: 20px;\"> Input/Output - Heatmap </span>\n",
       "            </div>\n",
       "            <div style=\"display:inline;float:right\">\n",
       "              Layout :\n",
       "              <select name=\"alignment\" id=\"aasweswzudeepfmewron_alignment\" onchange=\"selectAlignment_aasweswzudeepfmewron(this)\">\n",
       "                <option value=\"left-right\" selected=\"selected\">Left/Right</option>\n",
       "                <option value=\"top-bottom\">Top/Bottom</option>\n",
       "              </select>\n",
       "            </div>\n",
       "          </div>\n",
       "          <div id=\"aasweswzudeepfmewron_heatmap_content\" style=\"display:flex;\">\n",
       "            <div id=\"aasweswzudeepfmewron_input_container\" style=\"padding:15px;border-style:solid;margin:5px;flex:1;\">\n",
       "              <div id=\"aasweswzudeepfmewron_input_header\" style=\"margin:5px;font-weight:bold;font-family:sans-serif;margin-bottom:10px\">\n",
       "                Input Text\n",
       "              </div>\n",
       "              <div id=\"aasweswzudeepfmewron_input_content\" style=\"margin:5px;font-family:sans-serif;\">\n",
       "                  <div id=\"aasweswzudeepfmewron_input_node_16_container\" style=\"display:inline;text-align:center\"><div id=\"aasweswzudeepfmewron_input_node_16_label\" style=\"display:none; padding-top: 0px; font-size:12px;\"></div><div id=\"aasweswzudeepfmewron_input_node_16_content\" style=\"display:inline;\"><div id=\"aasweswzudeepfmewron_input_node_14_container\" style=\"display:inline;text-align:center\"><div id=\"aasweswzudeepfmewron_input_node_14_label\" style=\"display:none; padding-top: 0px; font-size:12px;\"></div><div id=\"aasweswzudeepfmewron_input_node_14_content\" style=\"display:inline;\"><div id=\"aasweswzudeepfmewron_input_node_9_container\" style=\"display:inline;text-align:center\"><div id=\"aasweswzudeepfmewron_input_node_9_label\" style=\"display:none; padding-top: 0px; font-size:12px;\"></div><div id=\"aasweswzudeepfmewron_input_node_9_content\" style=\"display:inline;\"><div id=\"aasweswzudeepfmewron_input_node_0_container\" style=\"display:inline;text-align:center\"><div id=\"aasweswzudeepfmewron_input_node_0_label\" style=\"display:none; padding-top: 0px; font-size:12px;\"></div><div id=\"aasweswzudeepfmewron_input_node_0_content\"style='display: inline; background:transparent; border-radius: 3px; padding: 0px;cursor: default;cursor: pointer;'onmouseover=\"onMouseHoverFlat_aasweswzudeepfmewron(this.id)\" onmouseout=\"onMouseOutFlat_aasweswzudeepfmewron(this.id)\" onclick=\"onMouseClickFlat_aasweswzudeepfmewron(this.id)\" ></div></div><div id=\"aasweswzudeepfmewron_input_node_1_container\" style=\"display:inline;text-align:center\"><div id=\"aasweswzudeepfmewron_input_node_1_label\" style=\"display:none; padding-top: 0px; font-size:12px;\"></div><div id=\"aasweswzudeepfmewron_input_node_1_content\"style='display: inline; background:transparent; border-radius: 3px; padding: 0px;cursor: default;cursor: pointer;'onmouseover=\"onMouseHoverFlat_aasweswzudeepfmewron(this.id)\" onmouseout=\"onMouseOutFlat_aasweswzudeepfmewron(this.id)\" onclick=\"onMouseClickFlat_aasweswzudeepfmewron(this.id)\" >L</div></div></div></div><div id=\"aasweswzudeepfmewron_input_node_10_container\" style=\"display:inline;text-align:center\"><div id=\"aasweswzudeepfmewron_input_node_10_label\" style=\"display:none; padding-top: 0px; font-size:12px;\"></div><div id=\"aasweswzudeepfmewron_input_node_10_content\" style=\"display:inline;\"><div id=\"aasweswzudeepfmewron_input_node_2_container\" style=\"display:inline;text-align:center\"><div id=\"aasweswzudeepfmewron_input_node_2_label\" style=\"display:none; padding-top: 0px; font-size:12px;\"></div><div id=\"aasweswzudeepfmewron_input_node_2_content\"style='display: inline; background:transparent; border-radius: 3px; padding: 0px;cursor: default;cursor: pointer;'onmouseover=\"onMouseHoverFlat_aasweswzudeepfmewron(this.id)\" onmouseout=\"onMouseOutFlat_aasweswzudeepfmewron(this.id)\" onclick=\"onMouseClickFlat_aasweswzudeepfmewron(this.id)\" >oves </div></div><div id=\"aasweswzudeepfmewron_input_node_3_container\" style=\"display:inline;text-align:center\"><div id=\"aasweswzudeepfmewron_input_node_3_label\" style=\"display:none; padding-top: 0px; font-size:12px;\"></div><div id=\"aasweswzudeepfmewron_input_node_3_content\"style='display: inline; background:transparent; border-radius: 3px; padding: 0px;cursor: default;cursor: pointer;'onmouseover=\"onMouseHoverFlat_aasweswzudeepfmewron(this.id)\" onmouseout=\"onMouseOutFlat_aasweswzudeepfmewron(this.id)\" onclick=\"onMouseClickFlat_aasweswzudeepfmewron(this.id)\" >my </div></div></div></div></div></div><div id=\"aasweswzudeepfmewron_input_node_15_container\" style=\"display:inline;text-align:center\"><div id=\"aasweswzudeepfmewron_input_node_15_label\" style=\"display:none; padding-top: 0px; font-size:12px;\"></div><div id=\"aasweswzudeepfmewron_input_node_15_content\" style=\"display:inline;\"><div id=\"aasweswzudeepfmewron_input_node_11_container\" style=\"display:inline;text-align:center\"><div id=\"aasweswzudeepfmewron_input_node_11_label\" style=\"display:none; padding-top: 0px; font-size:12px;\"></div><div id=\"aasweswzudeepfmewron_input_node_11_content\" style=\"display:inline;\"><div id=\"aasweswzudeepfmewron_input_node_4_container\" style=\"display:inline;text-align:center\"><div id=\"aasweswzudeepfmewron_input_node_4_label\" style=\"display:none; padding-top: 0px; font-size:12px;\"></div><div id=\"aasweswzudeepfmewron_input_node_4_content\"style='display: inline; background:transparent; border-radius: 3px; padding: 0px;cursor: default;cursor: pointer;'onmouseover=\"onMouseHoverFlat_aasweswzudeepfmewron(this.id)\" onmouseout=\"onMouseOutFlat_aasweswzudeepfmewron(this.id)\" onclick=\"onMouseClickFlat_aasweswzudeepfmewron(this.id)\" >ip</div></div><div id=\"aasweswzudeepfmewron_input_node_5_container\" style=\"display:inline;text-align:center\"><div id=\"aasweswzudeepfmewron_input_node_5_label\" style=\"display:none; padding-top: 0px; font-size:12px;\"></div><div id=\"aasweswzudeepfmewron_input_node_5_content\"style='display: inline; background:transparent; border-radius: 3px; padding: 0px;cursor: default;cursor: pointer;'onmouseover=\"onMouseHoverFlat_aasweswzudeepfmewron(this.id)\" onmouseout=\"onMouseOutFlat_aasweswzudeepfmewron(this.id)\" onclick=\"onMouseClickFlat_aasweswzudeepfmewron(this.id)\" >ad </div></div></div></div><div id=\"aasweswzudeepfmewron_input_node_13_container\" style=\"display:inline;text-align:center\"><div id=\"aasweswzudeepfmewron_input_node_13_label\" style=\"display:none; padding-top: 0px; font-size:12px;\"></div><div id=\"aasweswzudeepfmewron_input_node_13_content\" style=\"display:inline;\"><div id=\"aasweswzudeepfmewron_input_node_12_container\" style=\"display:inline;text-align:center\"><div id=\"aasweswzudeepfmewron_input_node_12_label\" style=\"display:none; padding-top: 0px; font-size:12px;\"></div><div id=\"aasweswzudeepfmewron_input_node_12_content\" style=\"display:inline;\"><div id=\"aasweswzudeepfmewron_input_node_6_container\" style=\"display:inline;text-align:center\"><div id=\"aasweswzudeepfmewron_input_node_6_label\" style=\"display:none; padding-top: 0px; font-size:12px;\"></div><div id=\"aasweswzudeepfmewron_input_node_6_content\"style='display: inline; background:transparent; border-radius: 3px; padding: 0px;cursor: default;cursor: pointer;'onmouseover=\"onMouseHoverFlat_aasweswzudeepfmewron(this.id)\" onmouseout=\"onMouseOutFlat_aasweswzudeepfmewron(this.id)\" onclick=\"onMouseClickFlat_aasweswzudeepfmewron(this.id)\" >:</div></div><div id=\"aasweswzudeepfmewron_input_node_7_container\" style=\"display:inline;text-align:center\"><div id=\"aasweswzudeepfmewron_input_node_7_label\" style=\"display:none; padding-top: 0px; font-size:12px;\"></div><div id=\"aasweswzudeepfmewron_input_node_7_content\"style='display: inline; background:transparent; border-radius: 3px; padding: 0px;cursor: default;cursor: pointer;'onmouseover=\"onMouseHoverFlat_aasweswzudeepfmewron(this.id)\" onmouseout=\"onMouseOutFlat_aasweswzudeepfmewron(this.id)\" onclick=\"onMouseClickFlat_aasweswzudeepfmewron(this.id)\" >D</div></div></div></div><div id=\"aasweswzudeepfmewron_input_node_8_container\" style=\"display:inline;text-align:center\"><div id=\"aasweswzudeepfmewron_input_node_8_label\" style=\"display:none; padding-top: 0px; font-size:12px;\"></div><div id=\"aasweswzudeepfmewron_input_node_8_content\"style='display: inline; background:transparent; border-radius: 3px; padding: 0px;cursor: default;cursor: pointer;'onmouseover=\"onMouseHoverFlat_aasweswzudeepfmewron(this.id)\" onmouseout=\"onMouseOutFlat_aasweswzudeepfmewron(this.id)\" onclick=\"onMouseClickFlat_aasweswzudeepfmewron(this.id)\" ></div></div></div></div></div></div></div></div>\n",
       "              </div>\n",
       "            </div>\n",
       "            <div id=\"aasweswzudeepfmewron_output_container\" style=\"padding:15px;border-style:solid;margin:5px;flex:1;\">\n",
       "              <div id=\"aasweswzudeepfmewron_output_header\" style=\"margin:5px;font-weight:bold;font-family:sans-serif;margin-bottom:10px\">\n",
       "                Output Text\n",
       "              </div>\n",
       "              <div id=\"aasweswzudeepfmewron_output_content\" style=\"margin:5px;font-family:sans-serif;\">\n",
       "                  <div style='display:inline; text-align:center;'><div id='aasweswzudeepfmewron_output_flat_value_label_0'style='display:none;color: #999; padding-top: 0px; font-size:12px;'></div><div id='aasweswzudeepfmewron_output_flat_token_0'style='display: inline; background:transparent; border-radius: 3px; padding: 0px;cursor: default;cursor: pointer;'onmouseover=\"onMouseHoverFlat_aasweswzudeepfmewron(this.id)\" onmouseout=\"onMouseOutFlat_aasweswzudeepfmewron(this.id)\" onclick=\"onMouseClickFlat_aasweswzudeepfmewron(this.id)\" >negative </div></div><div style='display:inline; text-align:center;'><div id='aasweswzudeepfmewron_output_flat_value_label_1'style='display:none;color: #999; padding-top: 0px; font-size:12px;'></div><div id='aasweswzudeepfmewron_output_flat_token_1'style='display: inline; background:transparent; border-radius: 3px; padding: 0px;cursor: default;cursor: pointer;'onmouseover=\"onMouseHoverFlat_aasweswzudeepfmewron(this.id)\" onmouseout=\"onMouseOutFlat_aasweswzudeepfmewron(this.id)\" onclick=\"onMouseClickFlat_aasweswzudeepfmewron(this.id)\" >neutral </div></div><div style='display:inline; text-align:center;'><div id='aasweswzudeepfmewron_output_flat_value_label_2'style='display:none;color: #999; padding-top: 0px; font-size:12px;'></div><div id='aasweswzudeepfmewron_output_flat_token_2'style='display: inline; background:transparent; border-radius: 3px; padding: 0px;cursor: default;cursor: pointer;'onmouseover=\"onMouseHoverFlat_aasweswzudeepfmewron(this.id)\" onmouseout=\"onMouseOutFlat_aasweswzudeepfmewron(this.id)\" onclick=\"onMouseClickFlat_aasweswzudeepfmewron(this.id)\" >positive </div></div>\n",
       "              </div>\n",
       "            </div>\n",
       "          </div>\n",
       "        </div>\n",
       "    \n",
       "        <script>\n",
       "            function selectAlignment_aasweswzudeepfmewron(selectObject) {\n",
       "                var value = selectObject.value;\n",
       "                if ( value === \"left-right\" ){\n",
       "                  document.getElementById('aasweswzudeepfmewron_heatmap_content').style.display  = \"flex\";\n",
       "                }\n",
       "                else if ( value === \"top-bottom\" ) {\n",
       "                  document.getElementById('aasweswzudeepfmewron_heatmap_content').style.display  = \"inline\";\n",
       "                }\n",
       "            }\n",
       "            \n",
       "            var aasweswzudeepfmewron_heatmap_flat_state = null;\n",
       "            \n",
       "            function onMouseHoverFlat_aasweswzudeepfmewron(id) {\n",
       "                if (aasweswzudeepfmewron_heatmap_flat_state === null) {\n",
       "                    setBackgroundColors_aasweswzudeepfmewron(id);\n",
       "                    document.getElementById(id).style.backgroundColor  = \"grey\";\n",
       "                }\n",
       "                \n",
       "                if (getIdSide_aasweswzudeepfmewron(id) === 'input' && getIdSide_aasweswzudeepfmewron(aasweswzudeepfmewron_heatmap_flat_state) === 'output'){\n",
       "                \n",
       "                    label_content_id = token_id_to_node_id_mapping_aasweswzudeepfmewron[aasweswzudeepfmewron_heatmap_flat_state][id];\n",
       "                    \n",
       "                    if (document.getElementById(label_content_id).previousElementSibling.style.display == 'none'){\n",
       "                        document.getElementById(label_content_id).style.textShadow = \"0px 0px 1px #000000\";\n",
       "                    }\n",
       "                    \n",
       "                }\n",
       "                \n",
       "            }\n",
       "            \n",
       "            function onMouseOutFlat_aasweswzudeepfmewron(id) {\n",
       "                if (aasweswzudeepfmewron_heatmap_flat_state === null) {\n",
       "                    cleanValuesAndColors_aasweswzudeepfmewron(id);\n",
       "                    document.getElementById(id).style.backgroundColor  = \"transparent\";\n",
       "                }\n",
       "                \n",
       "                if (getIdSide_aasweswzudeepfmewron(id) === 'input' && getIdSide_aasweswzudeepfmewron(aasweswzudeepfmewron_heatmap_flat_state) === 'output'){\n",
       "                \n",
       "                    label_content_id = token_id_to_node_id_mapping_aasweswzudeepfmewron[aasweswzudeepfmewron_heatmap_flat_state][id];\n",
       "                    \n",
       "                    if (document.getElementById(label_content_id).previousElementSibling.style.display == 'none'){\n",
       "                        document.getElementById(label_content_id).style.textShadow = \"inherit\";\n",
       "                    }\n",
       "                    \n",
       "                }\n",
       "                \n",
       "            }\n",
       "\n",
       "            function onMouseClickFlat_aasweswzudeepfmewron(id) {\n",
       "                if (aasweswzudeepfmewron_heatmap_flat_state === id) {\n",
       "                    \n",
       "                    // If the clicked token was already selected\n",
       "                    \n",
       "                    document.getElementById(id).style.backgroundColor  = \"transparent\";\n",
       "                    cleanValuesAndColors_aasweswzudeepfmewron(id);\n",
       "                    aasweswzudeepfmewron_heatmap_flat_state = null;\n",
       "                }\n",
       "                else {\n",
       "                    if (aasweswzudeepfmewron_heatmap_flat_state === null) {\n",
       "                    \n",
       "                        // No token previously selected, new token clicked on\n",
       "                    \n",
       "                        cleanValuesAndColors_aasweswzudeepfmewron(id)\n",
       "                        aasweswzudeepfmewron_heatmap_flat_state = id;\n",
       "                        document.getElementById(id).style.backgroundColor  = \"grey\";\n",
       "                        setLabelValues_aasweswzudeepfmewron(id);\n",
       "                        setBackgroundColors_aasweswzudeepfmewron(id);\n",
       "                    }\n",
       "                    else {\n",
       "                        if (getIdSide_aasweswzudeepfmewron(aasweswzudeepfmewron_heatmap_flat_state) === getIdSide_aasweswzudeepfmewron(id)) {\n",
       "                        \n",
       "                            // User clicked a token on the same side as the currently selected token\n",
       "                            \n",
       "                            cleanValuesAndColors_aasweswzudeepfmewron(aasweswzudeepfmewron_heatmap_flat_state)\n",
       "                            document.getElementById(aasweswzudeepfmewron_heatmap_flat_state).style.backgroundColor  = \"transparent\";\n",
       "                            aasweswzudeepfmewron_heatmap_flat_state = id;\n",
       "                            document.getElementById(id).style.backgroundColor  = \"grey\";\n",
       "                            setLabelValues_aasweswzudeepfmewron(id);\n",
       "                            setBackgroundColors_aasweswzudeepfmewron(id);\n",
       "                        }\n",
       "                        else{\n",
       "                            \n",
       "                            if (getIdSide_aasweswzudeepfmewron(id) === 'input') {\n",
       "                                label_content_id = token_id_to_node_id_mapping_aasweswzudeepfmewron[aasweswzudeepfmewron_heatmap_flat_state][id];\n",
       "                                \n",
       "                                if (document.getElementById(label_content_id).previousElementSibling.style.display == 'none') {\n",
       "                                    document.getElementById(label_content_id).previousElementSibling.style.display = 'block';\n",
       "                                    document.getElementById(label_content_id).parentNode.style.display = 'inline-block';\n",
       "                                    document.getElementById(label_content_id).style.textShadow = \"0px 0px 1px #000000\";\n",
       "                                  }\n",
       "                                else {\n",
       "                                    document.getElementById(label_content_id).previousElementSibling.style.display = 'none';\n",
       "                                    document.getElementById(label_content_id).parentNode.style.display = 'inline';\n",
       "                                    document.getElementById(label_content_id).style.textShadow  = \"inherit\"; \n",
       "                                  }\n",
       "                                \n",
       "                            }\n",
       "                            else {\n",
       "                                if (document.getElementById(id).previousElementSibling.style.display == 'none') {\n",
       "                                    document.getElementById(id).previousElementSibling.style.display = 'block';\n",
       "                                    document.getElementById(id).parentNode.style.display = 'inline-block';\n",
       "                                  }\n",
       "                                else {\n",
       "                                    document.getElementById(id).previousElementSibling.style.display = 'none';\n",
       "                                    document.getElementById(id).parentNode.style.display = 'inline';\n",
       "                                  }\n",
       "                            }\n",
       "                        \n",
       "                        }\n",
       "                    }\n",
       "                \n",
       "                }\n",
       "            }\n",
       "\n",
       "            function setLabelValues_aasweswzudeepfmewron(id) {\n",
       "                for(const token in shap_values_aasweswzudeepfmewron[id]){\n",
       "                    document.getElementById(token).innerHTML = shap_values_aasweswzudeepfmewron[id][token];\n",
       "                    document.getElementById(token).nextElementSibling.title = 'SHAP Value : ' + shap_values_aasweswzudeepfmewron[id][token];\n",
       "                }\n",
       "            }\n",
       "\n",
       "            function setBackgroundColors_aasweswzudeepfmewron(id) {\n",
       "                for(const token in colors_aasweswzudeepfmewron[id]){\n",
       "                    document.getElementById(token).style.backgroundColor  = colors_aasweswzudeepfmewron[id][token];\n",
       "                }\n",
       "            }\n",
       "\n",
       "            function cleanValuesAndColors_aasweswzudeepfmewron(id) {\n",
       "                for(const token in shap_values_aasweswzudeepfmewron[id]){\n",
       "                    document.getElementById(token).innerHTML = \"\";\n",
       "                    document.getElementById(token).nextElementSibling.title = \"\";\n",
       "                }\n",
       "                 for(const token in colors_aasweswzudeepfmewron[id]){\n",
       "                    document.getElementById(token).style.backgroundColor  = \"transparent\";\n",
       "                    document.getElementById(token).previousElementSibling.style.display = 'none';\n",
       "                    document.getElementById(token).parentNode.style.display = 'inline';\n",
       "                    document.getElementById(token).style.textShadow  = \"inherit\"; \n",
       "                }\n",
       "            }\n",
       "            \n",
       "            function getIdSide_aasweswzudeepfmewron(id) {\n",
       "                if (id === null) {\n",
       "                    return 'null'\n",
       "                }\n",
       "                return id.split(\"_\")[1];\n",
       "            }\n",
       "        </script>\n",
       "    <script> colors_aasweswzudeepfmewron = {\"aasweswzudeepfmewron_input_node_0_content\": {\"aasweswzudeepfmewron_output_flat_token_0\": \"rgba(230.2941176470614, 26.505882352939775, 102.59215686274348, 0.0)\", \"aasweswzudeepfmewron_output_flat_token_1\": \"rgba(230.2941176470614, 26.505882352939775, 102.59215686274348, 0.0)\", \"aasweswzudeepfmewron_output_flat_token_2\": \"rgba(54.70588235294111, 122.49411764705886, 213.40784313725496, 0.0)\"}, \"aasweswzudeepfmewron_input_node_1_content\": {\"aasweswzudeepfmewron_output_flat_token_0\": \"rgba(255.0, 13.0, 87.0, 0.4087938205585263)\", \"aasweswzudeepfmewron_output_flat_token_1\": \"rgba(30.0, 136.0, 229.0, 1.0)\", \"aasweswzudeepfmewron_output_flat_token_2\": \"rgba(255.0, 13.0, 87.0, 0.621628045157457)\"}, \"aasweswzudeepfmewron_input_node_2_content\": {\"aasweswzudeepfmewron_output_flat_token_0\": \"rgba(30.0, 136.0, 229.0, 0.3220835809071103)\", \"aasweswzudeepfmewron_output_flat_token_1\": \"rgba(255.0, 13.0, 87.0, 0.04618736383442265)\", \"aasweswzudeepfmewron_output_flat_token_2\": \"rgba(255.0, 13.0, 87.0, 0.306318082788671)\"}, \"aasweswzudeepfmewron_input_node_3_content\": {\"aasweswzudeepfmewron_output_flat_token_0\": \"rgba(30.0, 136.0, 229.0, 0.9369380075262429)\", \"aasweswzudeepfmewron_output_flat_token_1\": \"rgba(255.0, 13.0, 87.0, 0.6452762923351159)\", \"aasweswzudeepfmewron_output_flat_token_2\": \"rgba(255.0, 13.0, 87.0, 0.3457318280847692)\"}, \"aasweswzudeepfmewron_input_node_4_content\": {\"aasweswzudeepfmewron_output_flat_token_0\": \"rgba(30.0, 136.0, 229.0, 0.5112695583283818)\", \"aasweswzudeepfmewron_output_flat_token_1\": \"rgba(255.0, 13.0, 87.0, 0.16442859972271742)\", \"aasweswzudeepfmewron_output_flat_token_2\": \"rgba(255.0, 13.0, 87.0, 0.39302832244008706)\"}, \"aasweswzudeepfmewron_input_node_5_content\": {\"aasweswzudeepfmewron_output_flat_token_0\": \"rgba(255.0, 13.0, 87.0, 0.43244206773618543)\", \"aasweswzudeepfmewron_output_flat_token_1\": \"rgba(30.0, 136.0, 229.0, 0.006773618538324436)\", \"aasweswzudeepfmewron_output_flat_token_2\": \"rgba(30.0, 136.0, 229.0, 0.46397306397306387)\"}, \"aasweswzudeepfmewron_input_node_6_content\": {\"aasweswzudeepfmewron_output_flat_token_0\": \"rgba(30.0, 136.0, 229.0, 0.09348385818974048)\", \"aasweswzudeepfmewron_output_flat_token_1\": \"rgba(30.0, 136.0, 229.0, 0.39302832244008723)\", \"aasweswzudeepfmewron_output_flat_token_2\": \"rgba(255.0, 13.0, 87.0, 0.5349178055060405)\"}, \"aasweswzudeepfmewron_input_node_7_content\": {\"aasweswzudeepfmewron_output_flat_token_0\": \"rgba(54.70588235294111, 122.49411764705886, 213.40784313725496, 0.0)\", \"aasweswzudeepfmewron_output_flat_token_1\": \"rgba(30.0, 136.0, 229.0, 0.9290552584670232)\", \"aasweswzudeepfmewron_output_flat_token_2\": \"rgba(255.0, 13.0, 87.0, 1.0)\"}, \"aasweswzudeepfmewron_input_node_8_content\": {\"aasweswzudeepfmewron_output_flat_token_0\": \"rgba(255.0, 13.0, 87.0, 0.014656367597544035)\", \"aasweswzudeepfmewron_output_flat_token_1\": \"rgba(30.0, 136.0, 229.0, 0.022539116656763607)\", \"aasweswzudeepfmewron_output_flat_token_2\": \"rgba(255.0, 13.0, 87.0, 0.00677361853832443)\"}, \"aasweswzudeepfmewron_output_flat_token_0\": {\"aasweswzudeepfmewron_input_node_0_content\": \"rgba(230.2941176470614, 26.505882352939775, 102.59215686274348, 0.0)\", \"aasweswzudeepfmewron_input_node_1_content\": \"rgba(255.0, 13.0, 87.0, 0.4087938205585263)\", \"aasweswzudeepfmewron_input_node_2_content\": \"rgba(30.0, 136.0, 229.0, 0.3220835809071103)\", \"aasweswzudeepfmewron_input_node_3_content\": \"rgba(30.0, 136.0, 229.0, 0.9369380075262429)\", \"aasweswzudeepfmewron_input_node_4_content\": \"rgba(30.0, 136.0, 229.0, 0.5112695583283818)\", \"aasweswzudeepfmewron_input_node_5_content\": \"rgba(255.0, 13.0, 87.0, 0.43244206773618543)\", \"aasweswzudeepfmewron_input_node_6_content\": \"rgba(30.0, 136.0, 229.0, 0.10136660724896014)\", \"aasweswzudeepfmewron_input_node_7_content\": \"rgba(54.70588235294111, 122.49411764705886, 213.40784313725496, 0.0)\", \"aasweswzudeepfmewron_input_node_8_content\": \"rgba(255.0, 13.0, 87.0, 0.02253911665676371)\"}, \"aasweswzudeepfmewron_output_flat_token_1\": {\"aasweswzudeepfmewron_input_node_0_content\": \"rgba(230.2941176470614, 26.505882352939775, 102.59215686274348, 0.0)\", \"aasweswzudeepfmewron_input_node_1_content\": \"rgba(30.0, 136.0, 229.0, 1.0)\", \"aasweswzudeepfmewron_input_node_2_content\": \"rgba(255.0, 13.0, 87.0, 0.04618736383442265)\", \"aasweswzudeepfmewron_input_node_3_content\": \"rgba(255.0, 13.0, 87.0, 0.6452762923351159)\", \"aasweswzudeepfmewron_input_node_4_content\": \"rgba(255.0, 13.0, 87.0, 0.16442859972271742)\", \"aasweswzudeepfmewron_input_node_5_content\": \"rgba(30.0, 136.0, 229.0, 0.006773618538324436)\", \"aasweswzudeepfmewron_input_node_6_content\": \"rgba(30.0, 136.0, 229.0, 0.3851455733808674)\", \"aasweswzudeepfmewron_input_node_7_content\": \"rgba(30.0, 136.0, 229.0, 0.9211725094078036)\", \"aasweswzudeepfmewron_input_node_8_content\": \"rgba(30.0, 136.0, 229.0, 0.03042186571598325)\"}, \"aasweswzudeepfmewron_output_flat_token_2\": {\"aasweswzudeepfmewron_input_node_0_content\": \"rgba(54.70588235294111, 122.49411764705886, 213.40784313725496, 0.0)\", \"aasweswzudeepfmewron_input_node_1_content\": \"rgba(255.0, 13.0, 87.0, 0.621628045157457)\", \"aasweswzudeepfmewron_input_node_2_content\": \"rgba(255.0, 13.0, 87.0, 0.306318082788671)\", \"aasweswzudeepfmewron_input_node_3_content\": \"rgba(255.0, 13.0, 87.0, 0.3457318280847692)\", \"aasweswzudeepfmewron_input_node_4_content\": \"rgba(255.0, 13.0, 87.0, 0.39302832244008706)\", \"aasweswzudeepfmewron_input_node_5_content\": \"rgba(30.0, 136.0, 229.0, 0.46397306397306387)\", \"aasweswzudeepfmewron_input_node_6_content\": \"rgba(255.0, 13.0, 87.0, 0.5349178055060405)\", \"aasweswzudeepfmewron_input_node_7_content\": \"rgba(255.0, 13.0, 87.0, 1.0)\", \"aasweswzudeepfmewron_input_node_8_content\": \"rgba(255.0, 13.0, 87.0, 0.00677361853832443)\"}}\n",
       " shap_values_aasweswzudeepfmewron = {\"aasweswzudeepfmewron_input_node_0_content\": {\"aasweswzudeepfmewron_output_flat_value_label_0\": 0.0, \"aasweswzudeepfmewron_output_flat_value_label_1\": 0.0, \"aasweswzudeepfmewron_output_flat_value_label_2\": -0.0}, \"aasweswzudeepfmewron_input_node_1_content\": {\"aasweswzudeepfmewron_output_flat_value_label_0\": 0.005, \"aasweswzudeepfmewron_output_flat_value_label_1\": -0.013, \"aasweswzudeepfmewron_output_flat_value_label_2\": 0.008}, \"aasweswzudeepfmewron_input_node_2_content\": {\"aasweswzudeepfmewron_output_flat_value_label_0\": -0.004, \"aasweswzudeepfmewron_output_flat_value_label_1\": 0.001, \"aasweswzudeepfmewron_output_flat_value_label_2\": 0.004}, \"aasweswzudeepfmewron_input_node_3_content\": {\"aasweswzudeepfmewron_output_flat_value_label_0\": -0.012, \"aasweswzudeepfmewron_output_flat_value_label_1\": 0.008, \"aasweswzudeepfmewron_output_flat_value_label_2\": 0.005}, \"aasweswzudeepfmewron_input_node_4_content\": {\"aasweswzudeepfmewron_output_flat_value_label_0\": -0.007, \"aasweswzudeepfmewron_output_flat_value_label_1\": 0.002, \"aasweswzudeepfmewron_output_flat_value_label_2\": 0.005}, \"aasweswzudeepfmewron_input_node_5_content\": {\"aasweswzudeepfmewron_output_flat_value_label_0\": 0.006, \"aasweswzudeepfmewron_output_flat_value_label_1\": -0.0, \"aasweswzudeepfmewron_output_flat_value_label_2\": -0.006}, \"aasweswzudeepfmewron_input_node_6_content\": {\"aasweswzudeepfmewron_output_flat_value_label_0\": -0.001, \"aasweswzudeepfmewron_output_flat_value_label_1\": -0.005, \"aasweswzudeepfmewron_output_flat_value_label_2\": 0.007}, \"aasweswzudeepfmewron_input_node_7_content\": {\"aasweswzudeepfmewron_output_flat_value_label_0\": -0.0, \"aasweswzudeepfmewron_output_flat_value_label_1\": -0.012, \"aasweswzudeepfmewron_output_flat_value_label_2\": 0.013}, \"aasweswzudeepfmewron_input_node_8_content\": {\"aasweswzudeepfmewron_output_flat_value_label_0\": 0.0, \"aasweswzudeepfmewron_output_flat_value_label_1\": -0.0, \"aasweswzudeepfmewron_output_flat_value_label_2\": 0.0}, \"aasweswzudeepfmewron_output_flat_token_0\": {\"aasweswzudeepfmewron_input_node_0_label\": \"0.0\", \"aasweswzudeepfmewron_input_node_1_label\": \"0.005\", \"aasweswzudeepfmewron_input_node_2_label\": \"-0.004\", \"aasweswzudeepfmewron_input_node_3_label\": \"-0.012\", \"aasweswzudeepfmewron_input_node_4_label\": \"-0.007\", \"aasweswzudeepfmewron_input_node_5_label\": \"0.006\", \"aasweswzudeepfmewron_input_node_6_label\": \"-0.001\", \"aasweswzudeepfmewron_input_node_7_label\": \"-0.0\", \"aasweswzudeepfmewron_input_node_8_label\": \"0.0\"}, \"aasweswzudeepfmewron_output_flat_token_1\": {\"aasweswzudeepfmewron_input_node_0_label\": \"0.0\", \"aasweswzudeepfmewron_input_node_1_label\": \"-0.013\", \"aasweswzudeepfmewron_input_node_2_label\": \"0.001\", \"aasweswzudeepfmewron_input_node_3_label\": \"0.008\", \"aasweswzudeepfmewron_input_node_4_label\": \"0.002\", \"aasweswzudeepfmewron_input_node_5_label\": \"-0.0\", \"aasweswzudeepfmewron_input_node_6_label\": \"-0.005\", \"aasweswzudeepfmewron_input_node_7_label\": \"-0.012\", \"aasweswzudeepfmewron_input_node_8_label\": \"-0.001\"}, \"aasweswzudeepfmewron_output_flat_token_2\": {\"aasweswzudeepfmewron_input_node_0_label\": \"-0.0\", \"aasweswzudeepfmewron_input_node_1_label\": \"0.008\", \"aasweswzudeepfmewron_input_node_2_label\": \"0.004\", \"aasweswzudeepfmewron_input_node_3_label\": \"0.005\", \"aasweswzudeepfmewron_input_node_4_label\": \"0.005\", \"aasweswzudeepfmewron_input_node_5_label\": \"-0.006\", \"aasweswzudeepfmewron_input_node_6_label\": \"0.007\", \"aasweswzudeepfmewron_input_node_7_label\": \"0.013\", \"aasweswzudeepfmewron_input_node_8_label\": \"0.0\"}}\n",
       " token_id_to_node_id_mapping_aasweswzudeepfmewron = {\"aasweswzudeepfmewron_output_flat_token_0\": {\"aasweswzudeepfmewron_input_node_0_content\": \"aasweswzudeepfmewron_input_node_0_content\", \"aasweswzudeepfmewron_input_node_1_content\": \"aasweswzudeepfmewron_input_node_1_content\", \"aasweswzudeepfmewron_input_node_2_content\": \"aasweswzudeepfmewron_input_node_2_content\", \"aasweswzudeepfmewron_input_node_3_content\": \"aasweswzudeepfmewron_input_node_3_content\", \"aasweswzudeepfmewron_input_node_4_content\": \"aasweswzudeepfmewron_input_node_4_content\", \"aasweswzudeepfmewron_input_node_5_content\": \"aasweswzudeepfmewron_input_node_5_content\", \"aasweswzudeepfmewron_input_node_6_content\": \"aasweswzudeepfmewron_input_node_6_content\", \"aasweswzudeepfmewron_input_node_7_content\": \"aasweswzudeepfmewron_input_node_7_content\", \"aasweswzudeepfmewron_input_node_8_content\": \"aasweswzudeepfmewron_input_node_8_content\"}, \"aasweswzudeepfmewron_output_flat_token_1\": {\"aasweswzudeepfmewron_input_node_0_content\": \"aasweswzudeepfmewron_input_node_0_content\", \"aasweswzudeepfmewron_input_node_1_content\": \"aasweswzudeepfmewron_input_node_1_content\", \"aasweswzudeepfmewron_input_node_2_content\": \"aasweswzudeepfmewron_input_node_2_content\", \"aasweswzudeepfmewron_input_node_3_content\": \"aasweswzudeepfmewron_input_node_3_content\", \"aasweswzudeepfmewron_input_node_4_content\": \"aasweswzudeepfmewron_input_node_4_content\", \"aasweswzudeepfmewron_input_node_5_content\": \"aasweswzudeepfmewron_input_node_5_content\", \"aasweswzudeepfmewron_input_node_6_content\": \"aasweswzudeepfmewron_input_node_6_content\", \"aasweswzudeepfmewron_input_node_7_content\": \"aasweswzudeepfmewron_input_node_7_content\", \"aasweswzudeepfmewron_input_node_8_content\": \"aasweswzudeepfmewron_input_node_8_content\"}, \"aasweswzudeepfmewron_output_flat_token_2\": {\"aasweswzudeepfmewron_input_node_0_content\": \"aasweswzudeepfmewron_input_node_0_content\", \"aasweswzudeepfmewron_input_node_1_content\": \"aasweswzudeepfmewron_input_node_1_content\", \"aasweswzudeepfmewron_input_node_2_content\": \"aasweswzudeepfmewron_input_node_2_content\", \"aasweswzudeepfmewron_input_node_3_content\": \"aasweswzudeepfmewron_input_node_3_content\", \"aasweswzudeepfmewron_input_node_4_content\": \"aasweswzudeepfmewron_input_node_4_content\", \"aasweswzudeepfmewron_input_node_5_content\": \"aasweswzudeepfmewron_input_node_5_content\", \"aasweswzudeepfmewron_input_node_6_content\": \"aasweswzudeepfmewron_input_node_6_content\", \"aasweswzudeepfmewron_input_node_7_content\": \"aasweswzudeepfmewron_input_node_7_content\", \"aasweswzudeepfmewron_input_node_8_content\": \"aasweswzudeepfmewron_input_node_8_content\"}}\n",
       "</script> \n",
       " \n",
       "          </div>\n",
       "      </div>\n",
       "    </div>\n",
       "    </html>\n",
       "    "
      ],
      "text/plain": [
       "<IPython.core.display.HTML object>"
      ]
     },
     "metadata": {},
     "output_type": "display_data"
    }
   ],
   "source": [
    "# Loves my ipad :D\n",
    "shap_values_positive = explainer(pd.Series(positive_obs.loc[22073].cleaned_content))\n",
    "shap.plots.text(shap_values_positive)"
   ]
  },
  {
   "cell_type": "code",
   "execution_count": null,
   "metadata": {},
   "outputs": [],
   "source": []
  }
 ],
 "metadata": {
  "colab": {
   "collapsed_sections": [],
   "name": "Untitled4.ipynb",
   "provenance": []
  },
  "kernelspec": {
   "display_name": "Python 3",
   "language": "python",
   "name": "python3"
  },
  "language_info": {
   "codemirror_mode": {
    "name": "ipython",
    "version": 3
   },
   "file_extension": ".py",
   "mimetype": "text/x-python",
   "name": "python",
   "nbconvert_exporter": "python",
   "pygments_lexer": "ipython3",
   "version": "3.7.4"
  },
  "nteract": {
   "version": "0.28.0"
  }
 },
 "nbformat": 4,
 "nbformat_minor": 1
}
