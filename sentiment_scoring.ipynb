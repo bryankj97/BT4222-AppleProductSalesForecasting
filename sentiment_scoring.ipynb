{
 "cells": [
  {
   "cell_type": "code",
   "execution_count": 1,
   "metadata": {
    "colab": {
     "base_uri": "https://localhost:8080/"
    },
    "id": "zywmH0u2v9ZW",
    "outputId": "c40f96ef-a2df-4b89-b071-c782bda29d7a"
   },
   "outputs": [],
   "source": [
    "#from google.colab import drive\n",
    "import pandas as pd\n",
    "import numpy as np\n",
    "#load data to Google Drive\n",
    "#drive.mount('/content/gdrive')"
   ]
  },
  {
   "cell_type": "code",
   "execution_count": 2,
   "metadata": {
    "id": "IAKLkAkRwVTi"
   },
   "outputs": [],
   "source": [
    "#path = 'gdrive/My Drive/BT4222/data/twitter_train.csv'\n",
    "df = pd.read_csv('./twitter_train.csv')"
   ]
  },
  {
   "cell_type": "code",
   "execution_count": 3,
   "metadata": {
    "colab": {
     "base_uri": "https://localhost:8080/",
     "height": 142
    },
    "id": "knFXsh68wisk",
    "outputId": "6f0ea9a0-d80f-456e-e7a1-de2012585db4"
   },
   "outputs": [
    {
     "data": {
      "text/html": [
       "<div>\n",
       "<style scoped>\n",
       "    .dataframe tbody tr th:only-of-type {\n",
       "        vertical-align: middle;\n",
       "    }\n",
       "\n",
       "    .dataframe tbody tr th {\n",
       "        vertical-align: top;\n",
       "    }\n",
       "\n",
       "    .dataframe thead th {\n",
       "        text-align: right;\n",
       "    }\n",
       "</style>\n",
       "<table border=\"1\" class=\"dataframe\">\n",
       "  <thead>\n",
       "    <tr style=\"text-align: right;\">\n",
       "      <th></th>\n",
       "      <th>textID</th>\n",
       "      <th>text</th>\n",
       "      <th>selected_text</th>\n",
       "      <th>sentiment</th>\n",
       "    </tr>\n",
       "  </thead>\n",
       "  <tbody>\n",
       "    <tr>\n",
       "      <th>0</th>\n",
       "      <td>cb774db0d1</td>\n",
       "      <td>I`d have responded, if I were going</td>\n",
       "      <td>I`d have responded, if I were going</td>\n",
       "      <td>neutral</td>\n",
       "    </tr>\n",
       "    <tr>\n",
       "      <th>1</th>\n",
       "      <td>549e992a42</td>\n",
       "      <td>Sooo SAD I will miss you here in San Diego!!!</td>\n",
       "      <td>Sooo SAD</td>\n",
       "      <td>negative</td>\n",
       "    </tr>\n",
       "    <tr>\n",
       "      <th>2</th>\n",
       "      <td>088c60f138</td>\n",
       "      <td>my boss is bullying me...</td>\n",
       "      <td>bullying me</td>\n",
       "      <td>negative</td>\n",
       "    </tr>\n",
       "    <tr>\n",
       "      <th>3</th>\n",
       "      <td>9642c003ef</td>\n",
       "      <td>what interview! leave me alone</td>\n",
       "      <td>leave me alone</td>\n",
       "      <td>negative</td>\n",
       "    </tr>\n",
       "    <tr>\n",
       "      <th>4</th>\n",
       "      <td>358bd9e861</td>\n",
       "      <td>Sons of ****, why couldn`t they put them on t...</td>\n",
       "      <td>Sons of ****,</td>\n",
       "      <td>negative</td>\n",
       "    </tr>\n",
       "    <tr>\n",
       "      <th>5</th>\n",
       "      <td>28b57f3990</td>\n",
       "      <td>http://www.dothebouncy.com/smf - some shameles...</td>\n",
       "      <td>http://www.dothebouncy.com/smf - some shameles...</td>\n",
       "      <td>neutral</td>\n",
       "    </tr>\n",
       "    <tr>\n",
       "      <th>6</th>\n",
       "      <td>6e0c6d75b1</td>\n",
       "      <td>2am feedings for the baby are fun when he is a...</td>\n",
       "      <td>fun</td>\n",
       "      <td>positive</td>\n",
       "    </tr>\n",
       "    <tr>\n",
       "      <th>7</th>\n",
       "      <td>50e14c0bb8</td>\n",
       "      <td>Soooo high</td>\n",
       "      <td>Soooo high</td>\n",
       "      <td>neutral</td>\n",
       "    </tr>\n",
       "    <tr>\n",
       "      <th>8</th>\n",
       "      <td>e050245fbd</td>\n",
       "      <td>Both of you</td>\n",
       "      <td>Both of you</td>\n",
       "      <td>neutral</td>\n",
       "    </tr>\n",
       "    <tr>\n",
       "      <th>9</th>\n",
       "      <td>fc2cbefa9d</td>\n",
       "      <td>Journey!? Wow... u just became cooler.  hehe....</td>\n",
       "      <td>Wow... u just became cooler.</td>\n",
       "      <td>positive</td>\n",
       "    </tr>\n",
       "    <tr>\n",
       "      <th>10</th>\n",
       "      <td>2339a9b08b</td>\n",
       "      <td>as much as i love to be hopeful, i reckon the...</td>\n",
       "      <td>as much as i love to be hopeful, i reckon the ...</td>\n",
       "      <td>neutral</td>\n",
       "    </tr>\n",
       "    <tr>\n",
       "      <th>11</th>\n",
       "      <td>16fab9f95b</td>\n",
       "      <td>I really really like the song Love Story by Ta...</td>\n",
       "      <td>like</td>\n",
       "      <td>positive</td>\n",
       "    </tr>\n",
       "    <tr>\n",
       "      <th>12</th>\n",
       "      <td>74a76f6e0a</td>\n",
       "      <td>My Sharpie is running DANGERously low on ink</td>\n",
       "      <td>DANGERously</td>\n",
       "      <td>negative</td>\n",
       "    </tr>\n",
       "    <tr>\n",
       "      <th>13</th>\n",
       "      <td>04dd1d2e34</td>\n",
       "      <td>i want to go to music tonight but i lost my vo...</td>\n",
       "      <td>lost</td>\n",
       "      <td>negative</td>\n",
       "    </tr>\n",
       "    <tr>\n",
       "      <th>14</th>\n",
       "      <td>bbe3cbf620</td>\n",
       "      <td>test test from the LG enV2</td>\n",
       "      <td>test test from the LG enV2</td>\n",
       "      <td>neutral</td>\n",
       "    </tr>\n",
       "    <tr>\n",
       "      <th>15</th>\n",
       "      <td>8a939bfb59</td>\n",
       "      <td>Uh oh, I am sunburned</td>\n",
       "      <td>Uh oh, I am sunburned</td>\n",
       "      <td>negative</td>\n",
       "    </tr>\n",
       "    <tr>\n",
       "      <th>16</th>\n",
       "      <td>3440297f8b</td>\n",
       "      <td>S`ok, trying to plot alternatives as we speak...</td>\n",
       "      <td>*sigh*</td>\n",
       "      <td>negative</td>\n",
       "    </tr>\n",
       "    <tr>\n",
       "      <th>17</th>\n",
       "      <td>919fa93391</td>\n",
       "      <td>i`ve been sick for the past few days  and thus...</td>\n",
       "      <td>sick</td>\n",
       "      <td>negative</td>\n",
       "    </tr>\n",
       "    <tr>\n",
       "      <th>18</th>\n",
       "      <td>af3fed7fc3</td>\n",
       "      <td>is back home now      gonna miss every one</td>\n",
       "      <td>onna</td>\n",
       "      <td>negative</td>\n",
       "    </tr>\n",
       "    <tr>\n",
       "      <th>19</th>\n",
       "      <td>40e7becabf</td>\n",
       "      <td>Hes just not that into you</td>\n",
       "      <td>Hes just not that into you</td>\n",
       "      <td>neutral</td>\n",
       "    </tr>\n",
       "    <tr>\n",
       "      <th>20</th>\n",
       "      <td>04d17ef61e</td>\n",
       "      <td>oh Marly, I`m so sorry!!  I hope you find her...</td>\n",
       "      <td>oh Marly, I`m so sorry!!  I hope you find her ...</td>\n",
       "      <td>neutral</td>\n",
       "    </tr>\n",
       "    <tr>\n",
       "      <th>21</th>\n",
       "      <td>e48b0b8a23</td>\n",
       "      <td>Playing Ghost Online is really interesting. Th...</td>\n",
       "      <td>interesting.</td>\n",
       "      <td>positive</td>\n",
       "    </tr>\n",
       "    <tr>\n",
       "      <th>22</th>\n",
       "      <td>7de057cf40</td>\n",
       "      <td>is cleaning the house for her family who is co...</td>\n",
       "      <td>is cleaning the house for her family who is co...</td>\n",
       "      <td>neutral</td>\n",
       "    </tr>\n",
       "    <tr>\n",
       "      <th>23</th>\n",
       "      <td>9ce5570064</td>\n",
       "      <td>gotta restart my computer .. I thought Win7 wa...</td>\n",
       "      <td>gotta restart my computer .. I thought Win7 wa...</td>\n",
       "      <td>neutral</td>\n",
       "    </tr>\n",
       "    <tr>\n",
       "      <th>24</th>\n",
       "      <td>0c8cc71c46</td>\n",
       "      <td>SEe waT I Mean bOuT FoLL0w fRiiDaYs... It`S cA...</td>\n",
       "      <td>SEe waT I Mean bOuT FoLL0w fRiiDaYs... It`S cA...</td>\n",
       "      <td>neutral</td>\n",
       "    </tr>\n",
       "    <tr>\n",
       "      <th>25</th>\n",
       "      <td>e00c6ef376</td>\n",
       "      <td>the free fillin` app on my ipod is fun, im add...</td>\n",
       "      <td>the free fillin` app on my ipod is fun, im add...</td>\n",
       "      <td>positive</td>\n",
       "    </tr>\n",
       "    <tr>\n",
       "      <th>26</th>\n",
       "      <td>852edc3769</td>\n",
       "      <td>I`m sorry.</td>\n",
       "      <td>I`m sorry.</td>\n",
       "      <td>negative</td>\n",
       "    </tr>\n",
       "    <tr>\n",
       "      <th>27</th>\n",
       "      <td>bdc32ea43c</td>\n",
       "      <td>On the way to Malaysia...no internet access to...</td>\n",
       "      <td>.no internet</td>\n",
       "      <td>negative</td>\n",
       "    </tr>\n",
       "    <tr>\n",
       "      <th>28</th>\n",
       "      <td>6ce4a4954b</td>\n",
       "      <td>juss came backk from Berkeleyy ; omg its madd ...</td>\n",
       "      <td>fun</td>\n",
       "      <td>positive</td>\n",
       "    </tr>\n",
       "    <tr>\n",
       "      <th>29</th>\n",
       "      <td>d22e6d40a7</td>\n",
       "      <td>Went to sleep and there is a power cut in Noid...</td>\n",
       "      <td>Power back up not working too</td>\n",
       "      <td>negative</td>\n",
       "    </tr>\n",
       "    <tr>\n",
       "      <th>...</th>\n",
       "      <td>...</td>\n",
       "      <td>...</td>\n",
       "      <td>...</td>\n",
       "      <td>...</td>\n",
       "    </tr>\n",
       "    <tr>\n",
       "      <th>27451</th>\n",
       "      <td>16947b5a23</td>\n",
       "      <td>happy all my studying and all nighters payed off</td>\n",
       "      <td>happy all</td>\n",
       "      <td>positive</td>\n",
       "    </tr>\n",
       "    <tr>\n",
       "      <th>27452</th>\n",
       "      <td>af9f223e1f</td>\n",
       "      <td>so much for a day off- I`ve been on my feet, a...</td>\n",
       "      <td>so much for a day off- I`ve been on my feet, a...</td>\n",
       "      <td>neutral</td>\n",
       "    </tr>\n",
       "    <tr>\n",
       "      <th>27453</th>\n",
       "      <td>a01e5d1ddf</td>\n",
       "      <td>it`s beeen onee year</td>\n",
       "      <td>it`s beeen onee year</td>\n",
       "      <td>neutral</td>\n",
       "    </tr>\n",
       "    <tr>\n",
       "      <th>27454</th>\n",
       "      <td>465b9edc97</td>\n",
       "      <td>_mayer I`d like to see a picture of you, Carl ...</td>\n",
       "      <td>you`re proud of and you love eachother</td>\n",
       "      <td>positive</td>\n",
       "    </tr>\n",
       "    <tr>\n",
       "      <th>27455</th>\n",
       "      <td>768e382964</td>\n",
       "      <td>simple greetings from unexpected people can ac...</td>\n",
       "      <td>simple greetings from unexpected people can ac...</td>\n",
       "      <td>positive</td>\n",
       "    </tr>\n",
       "    <tr>\n",
       "      <th>27456</th>\n",
       "      <td>d32efe060f</td>\n",
       "      <td>i wanna leave work already! Not feelin it 2day</td>\n",
       "      <td>wanna leave work al</td>\n",
       "      <td>negative</td>\n",
       "    </tr>\n",
       "    <tr>\n",
       "      <th>27457</th>\n",
       "      <td>58804bf427</td>\n",
       "      <td>My camera is brokennn</td>\n",
       "      <td>My camera is brokennn</td>\n",
       "      <td>neutral</td>\n",
       "    </tr>\n",
       "    <tr>\n",
       "      <th>27458</th>\n",
       "      <td>ea8072c6a6</td>\n",
       "      <td>I really wish someone would make a groupchat t...</td>\n",
       "      <td>really wish</td>\n",
       "      <td>positive</td>\n",
       "    </tr>\n",
       "    <tr>\n",
       "      <th>27459</th>\n",
       "      <td>13e1519ce3</td>\n",
       "      <td>good as, cya in melbourne</td>\n",
       "      <td>good</td>\n",
       "      <td>positive</td>\n",
       "    </tr>\n",
       "    <tr>\n",
       "      <th>27460</th>\n",
       "      <td>17c8c317f0</td>\n",
       "      <td>Scream just played on my iPod. First thing tha...</td>\n",
       "      <td>Scream just played on my iPod. First thing tha...</td>\n",
       "      <td>neutral</td>\n",
       "    </tr>\n",
       "    <tr>\n",
       "      <th>27461</th>\n",
       "      <td>c37b979e7e</td>\n",
       "      <td>again thanks to my dear neighboor who also ga...</td>\n",
       "      <td>thanks</td>\n",
       "      <td>positive</td>\n",
       "    </tr>\n",
       "    <tr>\n",
       "      <th>27462</th>\n",
       "      <td>3f9912ec7a</td>\n",
       "      <td>Just back from bingo w/family -- I won over $1...</td>\n",
       "      <td>Fun</td>\n",
       "      <td>positive</td>\n",
       "    </tr>\n",
       "    <tr>\n",
       "      <th>27463</th>\n",
       "      <td>a38bf809b0</td>\n",
       "      <td>LIKE DREW SAID 'GIVE TC A CHANCE' WE WILL MIS...</td>\n",
       "      <td>MISS</td>\n",
       "      <td>negative</td>\n",
       "    </tr>\n",
       "    <tr>\n",
       "      <th>27464</th>\n",
       "      <td>e7eecffdc8</td>\n",
       "      <td>rec game....trying not to cry...the pain is to...</td>\n",
       "      <td>breakingg</td>\n",
       "      <td>negative</td>\n",
       "    </tr>\n",
       "    <tr>\n",
       "      <th>27465</th>\n",
       "      <td>c14a543497</td>\n",
       "      <td>Sure. I`ll try n keep that up! =P You enjoy s...</td>\n",
       "      <td>enjoy</td>\n",
       "      <td>positive</td>\n",
       "    </tr>\n",
       "    <tr>\n",
       "      <th>27466</th>\n",
       "      <td>7e8b34de71</td>\n",
       "      <td>Naw.. it was pretty tame. Only 1 guy in costu...</td>\n",
       "      <td>Naw.. it was pretty tame. Only 1 guy in costum...</td>\n",
       "      <td>neutral</td>\n",
       "    </tr>\n",
       "    <tr>\n",
       "      <th>27467</th>\n",
       "      <td>432e6de6c9</td>\n",
       "      <td>morning twit-friends! welcome to my new followers</td>\n",
       "      <td>welcome</td>\n",
       "      <td>positive</td>\n",
       "    </tr>\n",
       "    <tr>\n",
       "      <th>27468</th>\n",
       "      <td>a753a93e45</td>\n",
       "      <td>few grilled mushrooms and olives, feta cheese ...</td>\n",
       "      <td>few grilled mushrooms and olives, feta cheese ...</td>\n",
       "      <td>neutral</td>\n",
       "    </tr>\n",
       "    <tr>\n",
       "      <th>27469</th>\n",
       "      <td>ac92790d8b</td>\n",
       "      <td>94 more days till BH comes back to LA</td>\n",
       "      <td>94 more days till BH comes back to LA</td>\n",
       "      <td>neutral</td>\n",
       "    </tr>\n",
       "    <tr>\n",
       "      <th>27470</th>\n",
       "      <td>778184dff1</td>\n",
       "      <td>lol i know  and haha..did you fall asleep?? o...</td>\n",
       "      <td>t bored</td>\n",
       "      <td>negative</td>\n",
       "    </tr>\n",
       "    <tr>\n",
       "      <th>27471</th>\n",
       "      <td>15bb120f57</td>\n",
       "      <td>i`m defying gravity. and nobody in alll of oz,...</td>\n",
       "      <td>i`m defying gravity. and nobody in alll of oz,...</td>\n",
       "      <td>neutral</td>\n",
       "    </tr>\n",
       "    <tr>\n",
       "      <th>27472</th>\n",
       "      <td>8f5adc47ec</td>\n",
       "      <td>http://twitpic.com/663vr - Wanted to visit the...</td>\n",
       "      <td>were too late</td>\n",
       "      <td>negative</td>\n",
       "    </tr>\n",
       "    <tr>\n",
       "      <th>27473</th>\n",
       "      <td>a208770a32</td>\n",
       "      <td>in spoke to you yesterday and u didnt respond...</td>\n",
       "      <td>in spoke to you yesterday and u didnt respond ...</td>\n",
       "      <td>neutral</td>\n",
       "    </tr>\n",
       "    <tr>\n",
       "      <th>27474</th>\n",
       "      <td>8f14bb2715</td>\n",
       "      <td>So I get up early and I feel good about the da...</td>\n",
       "      <td>I feel good ab</td>\n",
       "      <td>positive</td>\n",
       "    </tr>\n",
       "    <tr>\n",
       "      <th>27475</th>\n",
       "      <td>b78ec00df5</td>\n",
       "      <td>enjoy ur night</td>\n",
       "      <td>enjoy</td>\n",
       "      <td>positive</td>\n",
       "    </tr>\n",
       "    <tr>\n",
       "      <th>27476</th>\n",
       "      <td>4eac33d1c0</td>\n",
       "      <td>wish we could come see u on Denver  husband l...</td>\n",
       "      <td>d lost</td>\n",
       "      <td>negative</td>\n",
       "    </tr>\n",
       "    <tr>\n",
       "      <th>27477</th>\n",
       "      <td>4f4c4fc327</td>\n",
       "      <td>I`ve wondered about rake to.  The client has ...</td>\n",
       "      <td>, don`t force</td>\n",
       "      <td>negative</td>\n",
       "    </tr>\n",
       "    <tr>\n",
       "      <th>27478</th>\n",
       "      <td>f67aae2310</td>\n",
       "      <td>Yay good for both of you. Enjoy the break - y...</td>\n",
       "      <td>Yay good for both of you.</td>\n",
       "      <td>positive</td>\n",
       "    </tr>\n",
       "    <tr>\n",
       "      <th>27479</th>\n",
       "      <td>ed167662a5</td>\n",
       "      <td>But it was worth it  ****.</td>\n",
       "      <td>But it was worth it  ****.</td>\n",
       "      <td>positive</td>\n",
       "    </tr>\n",
       "    <tr>\n",
       "      <th>27480</th>\n",
       "      <td>6f7127d9d7</td>\n",
       "      <td>All this flirting going on - The ATG smiles...</td>\n",
       "      <td>All this flirting going on - The ATG smiles. Y...</td>\n",
       "      <td>neutral</td>\n",
       "    </tr>\n",
       "  </tbody>\n",
       "</table>\n",
       "<p>27481 rows × 4 columns</p>\n",
       "</div>"
      ],
      "text/plain": [
       "           textID                                               text  \\\n",
       "0      cb774db0d1                I`d have responded, if I were going   \n",
       "1      549e992a42      Sooo SAD I will miss you here in San Diego!!!   \n",
       "2      088c60f138                          my boss is bullying me...   \n",
       "3      9642c003ef                     what interview! leave me alone   \n",
       "4      358bd9e861   Sons of ****, why couldn`t they put them on t...   \n",
       "5      28b57f3990  http://www.dothebouncy.com/smf - some shameles...   \n",
       "6      6e0c6d75b1  2am feedings for the baby are fun when he is a...   \n",
       "7      50e14c0bb8                                         Soooo high   \n",
       "8      e050245fbd                                        Both of you   \n",
       "9      fc2cbefa9d   Journey!? Wow... u just became cooler.  hehe....   \n",
       "10     2339a9b08b   as much as i love to be hopeful, i reckon the...   \n",
       "11     16fab9f95b  I really really like the song Love Story by Ta...   \n",
       "12     74a76f6e0a       My Sharpie is running DANGERously low on ink   \n",
       "13     04dd1d2e34  i want to go to music tonight but i lost my vo...   \n",
       "14     bbe3cbf620                         test test from the LG enV2   \n",
       "15     8a939bfb59                              Uh oh, I am sunburned   \n",
       "16     3440297f8b   S`ok, trying to plot alternatives as we speak...   \n",
       "17     919fa93391  i`ve been sick for the past few days  and thus...   \n",
       "18     af3fed7fc3         is back home now      gonna miss every one   \n",
       "19     40e7becabf                         Hes just not that into you   \n",
       "20     04d17ef61e   oh Marly, I`m so sorry!!  I hope you find her...   \n",
       "21     e48b0b8a23  Playing Ghost Online is really interesting. Th...   \n",
       "22     7de057cf40  is cleaning the house for her family who is co...   \n",
       "23     9ce5570064  gotta restart my computer .. I thought Win7 wa...   \n",
       "24     0c8cc71c46  SEe waT I Mean bOuT FoLL0w fRiiDaYs... It`S cA...   \n",
       "25     e00c6ef376  the free fillin` app on my ipod is fun, im add...   \n",
       "26     852edc3769                                         I`m sorry.   \n",
       "27     bdc32ea43c  On the way to Malaysia...no internet access to...   \n",
       "28     6ce4a4954b  juss came backk from Berkeleyy ; omg its madd ...   \n",
       "29     d22e6d40a7  Went to sleep and there is a power cut in Noid...   \n",
       "...           ...                                                ...   \n",
       "27451  16947b5a23   happy all my studying and all nighters payed off   \n",
       "27452  af9f223e1f  so much for a day off- I`ve been on my feet, a...   \n",
       "27453  a01e5d1ddf                               it`s beeen onee year   \n",
       "27454  465b9edc97  _mayer I`d like to see a picture of you, Carl ...   \n",
       "27455  768e382964  simple greetings from unexpected people can ac...   \n",
       "27456  d32efe060f     i wanna leave work already! Not feelin it 2day   \n",
       "27457  58804bf427                              My camera is brokennn   \n",
       "27458  ea8072c6a6  I really wish someone would make a groupchat t...   \n",
       "27459  13e1519ce3                          good as, cya in melbourne   \n",
       "27460  17c8c317f0  Scream just played on my iPod. First thing tha...   \n",
       "27461  c37b979e7e   again thanks to my dear neighboor who also ga...   \n",
       "27462  3f9912ec7a  Just back from bingo w/family -- I won over $1...   \n",
       "27463  a38bf809b0   LIKE DREW SAID 'GIVE TC A CHANCE' WE WILL MIS...   \n",
       "27464  e7eecffdc8  rec game....trying not to cry...the pain is to...   \n",
       "27465  c14a543497   Sure. I`ll try n keep that up! =P You enjoy s...   \n",
       "27466  7e8b34de71   Naw.. it was pretty tame. Only 1 guy in costu...   \n",
       "27467  432e6de6c9  morning twit-friends! welcome to my new followers   \n",
       "27468  a753a93e45  few grilled mushrooms and olives, feta cheese ...   \n",
       "27469  ac92790d8b              94 more days till BH comes back to LA   \n",
       "27470  778184dff1   lol i know  and haha..did you fall asleep?? o...   \n",
       "27471  15bb120f57  i`m defying gravity. and nobody in alll of oz,...   \n",
       "27472  8f5adc47ec  http://twitpic.com/663vr - Wanted to visit the...   \n",
       "27473  a208770a32   in spoke to you yesterday and u didnt respond...   \n",
       "27474  8f14bb2715  So I get up early and I feel good about the da...   \n",
       "27475  b78ec00df5                                     enjoy ur night   \n",
       "27476  4eac33d1c0   wish we could come see u on Denver  husband l...   \n",
       "27477  4f4c4fc327   I`ve wondered about rake to.  The client has ...   \n",
       "27478  f67aae2310   Yay good for both of you. Enjoy the break - y...   \n",
       "27479  ed167662a5                         But it was worth it  ****.   \n",
       "27480  6f7127d9d7     All this flirting going on - The ATG smiles...   \n",
       "\n",
       "                                           selected_text sentiment  \n",
       "0                    I`d have responded, if I were going   neutral  \n",
       "1                                               Sooo SAD  negative  \n",
       "2                                            bullying me  negative  \n",
       "3                                         leave me alone  negative  \n",
       "4                                          Sons of ****,  negative  \n",
       "5      http://www.dothebouncy.com/smf - some shameles...   neutral  \n",
       "6                                                    fun  positive  \n",
       "7                                             Soooo high   neutral  \n",
       "8                                            Both of you   neutral  \n",
       "9                           Wow... u just became cooler.  positive  \n",
       "10     as much as i love to be hopeful, i reckon the ...   neutral  \n",
       "11                                                  like  positive  \n",
       "12                                           DANGERously  negative  \n",
       "13                                                  lost  negative  \n",
       "14                            test test from the LG enV2   neutral  \n",
       "15                                 Uh oh, I am sunburned  negative  \n",
       "16                                                *sigh*  negative  \n",
       "17                                                  sick  negative  \n",
       "18                                                  onna  negative  \n",
       "19                            Hes just not that into you   neutral  \n",
       "20     oh Marly, I`m so sorry!!  I hope you find her ...   neutral  \n",
       "21                                          interesting.  positive  \n",
       "22     is cleaning the house for her family who is co...   neutral  \n",
       "23     gotta restart my computer .. I thought Win7 wa...   neutral  \n",
       "24     SEe waT I Mean bOuT FoLL0w fRiiDaYs... It`S cA...   neutral  \n",
       "25     the free fillin` app on my ipod is fun, im add...  positive  \n",
       "26                                            I`m sorry.  negative  \n",
       "27                                          .no internet  negative  \n",
       "28                                                   fun  positive  \n",
       "29                         Power back up not working too  negative  \n",
       "...                                                  ...       ...  \n",
       "27451                                          happy all  positive  \n",
       "27452  so much for a day off- I`ve been on my feet, a...   neutral  \n",
       "27453                               it`s beeen onee year   neutral  \n",
       "27454             you`re proud of and you love eachother  positive  \n",
       "27455  simple greetings from unexpected people can ac...  positive  \n",
       "27456                                wanna leave work al  negative  \n",
       "27457                              My camera is brokennn   neutral  \n",
       "27458                                        really wish  positive  \n",
       "27459                                               good  positive  \n",
       "27460  Scream just played on my iPod. First thing tha...   neutral  \n",
       "27461                                             thanks  positive  \n",
       "27462                                                Fun  positive  \n",
       "27463                                               MISS  negative  \n",
       "27464                                          breakingg  negative  \n",
       "27465                                              enjoy  positive  \n",
       "27466  Naw.. it was pretty tame. Only 1 guy in costum...   neutral  \n",
       "27467                                            welcome  positive  \n",
       "27468  few grilled mushrooms and olives, feta cheese ...   neutral  \n",
       "27469              94 more days till BH comes back to LA   neutral  \n",
       "27470                                            t bored  negative  \n",
       "27471  i`m defying gravity. and nobody in alll of oz,...   neutral  \n",
       "27472                                      were too late  negative  \n",
       "27473  in spoke to you yesterday and u didnt respond ...   neutral  \n",
       "27474                                     I feel good ab  positive  \n",
       "27475                                              enjoy  positive  \n",
       "27476                                             d lost  negative  \n",
       "27477                                      , don`t force  negative  \n",
       "27478                          Yay good for both of you.  positive  \n",
       "27479                         But it was worth it  ****.  positive  \n",
       "27480  All this flirting going on - The ATG smiles. Y...   neutral  \n",
       "\n",
       "[27481 rows x 4 columns]"
      ]
     },
     "execution_count": 3,
     "metadata": {},
     "output_type": "execute_result"
    }
   ],
   "source": [
    "df"
   ]
  },
  {
   "cell_type": "code",
   "execution_count": 4,
   "metadata": {
    "colab": {
     "base_uri": "https://localhost:8080/",
     "height": 164
    },
    "id": "XfLb-S2_xw_A",
    "outputId": "aee33d47-580e-4d7a-a0ae-9d04dd90cbc3"
   },
   "outputs": [
    {
     "data": {
      "text/plain": [
       "(27481, 4)"
      ]
     },
     "execution_count": 4,
     "metadata": {},
     "output_type": "execute_result"
    }
   ],
   "source": [
    "df.shape"
   ]
  },
  {
   "cell_type": "code",
   "execution_count": 5,
   "metadata": {
    "colab": {
     "base_uri": "https://localhost:8080/",
     "height": 80
    },
    "id": "Uem9353Uxzov",
    "outputId": "2000ecce-0844-48ac-f729-9f343b47d668"
   },
   "outputs": [
    {
     "data": {
      "text/html": [
       "<div>\n",
       "<style scoped>\n",
       "    .dataframe tbody tr th:only-of-type {\n",
       "        vertical-align: middle;\n",
       "    }\n",
       "\n",
       "    .dataframe tbody tr th {\n",
       "        vertical-align: top;\n",
       "    }\n",
       "\n",
       "    .dataframe thead th {\n",
       "        text-align: right;\n",
       "    }\n",
       "</style>\n",
       "<table border=\"1\" class=\"dataframe\">\n",
       "  <thead>\n",
       "    <tr style=\"text-align: right;\">\n",
       "      <th></th>\n",
       "      <th>textID</th>\n",
       "      <th>text</th>\n",
       "      <th>selected_text</th>\n",
       "      <th>sentiment</th>\n",
       "    </tr>\n",
       "  </thead>\n",
       "  <tbody>\n",
       "    <tr>\n",
       "      <th>314</th>\n",
       "      <td>fdb77c3752</td>\n",
       "      <td>NaN</td>\n",
       "      <td>NaN</td>\n",
       "      <td>neutral</td>\n",
       "    </tr>\n",
       "  </tbody>\n",
       "</table>\n",
       "</div>"
      ],
      "text/plain": [
       "         textID text selected_text sentiment\n",
       "314  fdb77c3752  NaN           NaN   neutral"
      ]
     },
     "execution_count": 5,
     "metadata": {},
     "output_type": "execute_result"
    }
   ],
   "source": [
    "df[df.isnull().any(axis=1)]"
   ]
  },
  {
   "cell_type": "code",
   "execution_count": 6,
   "metadata": {
    "id": "JR-QGQ9ix1Cs"
   },
   "outputs": [],
   "source": [
    "df = df.dropna(subset=['text'])"
   ]
  },
  {
   "cell_type": "code",
   "execution_count": 7,
   "metadata": {
    "colab": {
     "base_uri": "https://localhost:8080/"
    },
    "id": "LU2vYT48yE9p",
    "outputId": "5297ac2b-7c41-4d18-960c-16c279397703"
   },
   "outputs": [
    {
     "data": {
      "text/plain": [
       "(27480, 4)"
      ]
     },
     "execution_count": 7,
     "metadata": {},
     "output_type": "execute_result"
    }
   ],
   "source": [
    "# Drop the only NaN row\n",
    "df.shape"
   ]
  },
  {
   "cell_type": "code",
   "execution_count": 8,
   "metadata": {
    "colab": {
     "base_uri": "https://localhost:8080/"
    },
    "id": "s077hBm2yNtc",
    "outputId": "0289b9eb-c766-463e-a2bc-5f332bed09e8"
   },
   "outputs": [
    {
     "data": {
      "text/plain": [
       "True"
      ]
     },
     "execution_count": 8,
     "metadata": {},
     "output_type": "execute_result"
    }
   ],
   "source": [
    "#Check if all rows are non-null\n",
    "len(df[df.isnull().any(axis=1)]) == 0"
   ]
  },
  {
   "cell_type": "code",
   "execution_count": 9,
   "metadata": {
    "colab": {
     "base_uri": "https://localhost:8080/"
    },
    "id": "bJHW1X9ayQEX",
    "outputId": "5fd3cab5-c6dc-49fb-bf68-a633c5292712"
   },
   "outputs": [
    {
     "data": {
      "text/plain": [
       "neutral     11117\n",
       "positive     8582\n",
       "negative     7781\n",
       "Name: sentiment, dtype: int64"
      ]
     },
     "execution_count": 9,
     "metadata": {},
     "output_type": "execute_result"
    }
   ],
   "source": [
    "df['sentiment'].value_counts()"
   ]
  },
  {
   "cell_type": "code",
   "execution_count": 10,
   "metadata": {
    "id": "-E5RlwdbyU6o"
   },
   "outputs": [],
   "source": [
    "# Encode snetiment with numerics\n",
    "def encode_sentiment(x):\n",
    "  if x == 'positive':\n",
    "    return 1\n",
    "  elif x == 'negative':\n",
    "    return -1\n",
    "  else:\n",
    "    return 0"
   ]
  },
  {
   "cell_type": "code",
   "execution_count": 11,
   "metadata": {
    "id": "HRRHiPBMydyU"
   },
   "outputs": [
    {
     "name": "stderr",
     "output_type": "stream",
     "text": [
      "/opt/anaconda3/lib/python3.7/site-packages/ipykernel_launcher.py:1: SettingWithCopyWarning: \n",
      "A value is trying to be set on a copy of a slice from a DataFrame.\n",
      "Try using .loc[row_indexer,col_indexer] = value instead\n",
      "\n",
      "See the caveats in the documentation: http://pandas.pydata.org/pandas-docs/stable/indexing.html#indexing-view-versus-copy\n",
      "  \"\"\"Entry point for launching an IPython kernel.\n"
     ]
    }
   ],
   "source": [
    "df['sentiment'] = df['sentiment'].apply(encode_sentiment)"
   ]
  },
  {
   "cell_type": "code",
   "execution_count": 124,
   "metadata": {
    "colab": {
     "base_uri": "https://localhost:8080/",
     "height": 142
    },
    "id": "ykqGHd_FyimR",
    "outputId": "3a3ec7ea-664a-4089-8a7f-85b942c5c214"
   },
   "outputs": [
    {
     "data": {
      "text/html": [
       "<div>\n",
       "<style scoped>\n",
       "    .dataframe tbody tr th:only-of-type {\n",
       "        vertical-align: middle;\n",
       "    }\n",
       "\n",
       "    .dataframe tbody tr th {\n",
       "        vertical-align: top;\n",
       "    }\n",
       "\n",
       "    .dataframe thead th {\n",
       "        text-align: right;\n",
       "    }\n",
       "</style>\n",
       "<table border=\"1\" class=\"dataframe\">\n",
       "  <thead>\n",
       "    <tr style=\"text-align: right;\">\n",
       "      <th></th>\n",
       "      <th>textID</th>\n",
       "      <th>text</th>\n",
       "      <th>selected_text</th>\n",
       "      <th>sentiment</th>\n",
       "    </tr>\n",
       "  </thead>\n",
       "  <tbody>\n",
       "    <tr>\n",
       "      <th>0</th>\n",
       "      <td>cb774db0d1</td>\n",
       "      <td>I`d have responded, if I were going</td>\n",
       "      <td>I`d have responded, if I were going</td>\n",
       "      <td>0</td>\n",
       "    </tr>\n",
       "    <tr>\n",
       "      <th>1</th>\n",
       "      <td>549e992a42</td>\n",
       "      <td>Sooo SAD I will miss you here in San Diego!!!</td>\n",
       "      <td>Sooo SAD</td>\n",
       "      <td>-1</td>\n",
       "    </tr>\n",
       "    <tr>\n",
       "      <th>2</th>\n",
       "      <td>088c60f138</td>\n",
       "      <td>my boss is bullying me...</td>\n",
       "      <td>bullying me</td>\n",
       "      <td>-1</td>\n",
       "    </tr>\n",
       "  </tbody>\n",
       "</table>\n",
       "</div>"
      ],
      "text/plain": [
       "       textID                                            text  \\\n",
       "0  cb774db0d1             I`d have responded, if I were going   \n",
       "1  549e992a42   Sooo SAD I will miss you here in San Diego!!!   \n",
       "2  088c60f138                       my boss is bullying me...   \n",
       "\n",
       "                         selected_text  sentiment  \n",
       "0  I`d have responded, if I were going          0  \n",
       "1                             Sooo SAD         -1  \n",
       "2                          bullying me         -1  "
      ]
     },
     "execution_count": 124,
     "metadata": {},
     "output_type": "execute_result"
    }
   ],
   "source": [
    "df.head(3)"
   ]
  },
  {
   "cell_type": "code",
   "execution_count": 13,
   "metadata": {
    "id": "kUyJh1nnzlDy"
   },
   "outputs": [],
   "source": [
    "obs_num = min(df['sentiment'].value_counts())\n",
    "\n",
    "df_class_positive = df[df['sentiment'] == 1]\n",
    "df_class_neutral = df[df['sentiment'] == 0]\n",
    "df_class_negative = df[df['sentiment'] == -1]\n",
    "\n",
    "sample_positive = df_class_positive.sample(obs_num)\n",
    "sample_neutral = df_class_neutral.sample(obs_num)\n",
    "sample_negative = df_class_negative.sample(obs_num)\n",
    "\n",
    "#Concat and shuffle\n",
    "df_new = pd.concat([sample_positive, sample_neutral, sample_negative], axis=0).sample(frac=1)"
   ]
  },
  {
   "cell_type": "code",
   "execution_count": 14,
   "metadata": {
    "colab": {
     "base_uri": "https://localhost:8080/"
    },
    "id": "WlP95Wbuz9q9",
    "outputId": "cd0c99ec-6c13-4da3-e835-aeb972f1c7c8"
   },
   "outputs": [
    {
     "data": {
      "text/plain": [
       "-1    7781\n",
       " 1    7781\n",
       " 0    7781\n",
       "Name: sentiment, dtype: int64"
      ]
     },
     "execution_count": 14,
     "metadata": {},
     "output_type": "execute_result"
    }
   ],
   "source": [
    "df_new.sentiment.value_counts()"
   ]
  },
  {
   "cell_type": "code",
   "execution_count": 15,
   "metadata": {
    "id": "fKfNln2h0HIk"
   },
   "outputs": [],
   "source": [
    "X_train = df_new.text\n",
    "y_train = df_new.sentiment"
   ]
  },
  {
   "cell_type": "code",
   "execution_count": 16,
   "metadata": {
    "id": "gCsKuBmq0S_I"
   },
   "outputs": [],
   "source": [
    "#path_test = 'gdrive/My Drive/BT4222/data/twitter_test.csv'\n",
    "df_test = pd.read_csv('./twitter_test.csv')"
   ]
  },
  {
   "cell_type": "code",
   "execution_count": 17,
   "metadata": {
    "id": "3Svtg8uo0Xxu"
   },
   "outputs": [],
   "source": [
    "df_test['sentiment'] = df_test['sentiment'].apply(encode_sentiment)"
   ]
  },
  {
   "cell_type": "code",
   "execution_count": 18,
   "metadata": {
    "id": "QYGJyypG0keg"
   },
   "outputs": [],
   "source": [
    "X_test = df_test.text\n",
    "y_test = df_test.sentiment"
   ]
  },
  {
   "cell_type": "code",
   "execution_count": 125,
   "metadata": {
    "colab": {
     "base_uri": "https://localhost:8080/"
    },
    "id": "Yno1dSOi0q6x",
    "outputId": "30933b1e-3d88-4c59-98ca-d585d92ea1e8"
   },
   "outputs": [
    {
     "name": "stdout",
     "output_type": "stream",
     "text": [
      "(23343,)\n",
      "(3534,)\n",
      "(23343,)\n",
      "(3534,)\n"
     ]
    }
   ],
   "source": [
    "print(X_train.shape)\n",
    "print(X_test.shape)\n",
    "print(y_train.shape)\n",
    "print(y_test.shape)"
   ]
  },
  {
   "cell_type": "markdown",
   "metadata": {
    "id": "rVYcq7gu1GXE"
   },
   "source": [
    "Initialising text classification models"
   ]
  },
  {
   "cell_type": "code",
   "execution_count": 77,
   "metadata": {
    "colab": {
     "base_uri": "https://localhost:8080/"
    },
    "id": "cEtNUpxf00JG",
    "outputId": "d445543c-46d6-4d88-f5aa-462a5abb00cd"
   },
   "outputs": [
    {
     "name": "stderr",
     "output_type": "stream",
     "text": [
      "[nltk_data] Downloading package words to /Users/bryankoh/nltk_data...\n",
      "[nltk_data]   Package words is already up-to-date!\n"
     ]
    },
    {
     "data": {
      "text/plain": [
       "True"
      ]
     },
     "execution_count": 77,
     "metadata": {},
     "output_type": "execute_result"
    }
   ],
   "source": [
    "# Initialise spacy \n",
    "import string\n",
    "import spacy\n",
    "from spacy.lang.en.stop_words import STOP_WORDS\n",
    "from spacy.lang.en import English\n",
    "\n",
    "# Get nltk set of english words\n",
    "import nltk\n",
    "nltk.download('words')"
   ]
  },
  {
   "cell_type": "code",
   "execution_count": 76,
   "metadata": {
    "id": "zRJ5V4oT1BTK"
   },
   "outputs": [],
   "source": [
    "# Create our list of punctuation marks\n",
    "punctuations = string.punctuation\n",
    "\n",
    "# Create our list of stopwords\n",
    "nlp = spacy.load(\"en_core_web_sm\")\n",
    "stop_words = spacy.lang.en.stop_words.STOP_WORDS\n",
    "\n",
    "# Set nltk vocab\n",
    "vocab = set(nltk.corpus.words.words())\n",
    "\n",
    "# Creating our tokenizer function\n",
    "def spacy_tokenizer(sentence):\n",
    "    # Creating our token object, which is used to create documents with linguistic annotations.\n",
    "    mytokens = nlp(sentence)\n",
    "\n",
    "    # Lemmatizing each token\n",
    "    mytokens = [ token.lemma_ for token in mytokens if token.lemma_ in vocab]\n",
    "\n",
    "    # Removing stop words\n",
    "    mytokens = [ token for token in mytokens if token not in stop_words ]\n",
    "\n",
    "    # return preprocessed list of tokens\n",
    "    return mytokens"
   ]
  },
  {
   "cell_type": "markdown",
   "metadata": {
    "id": "zHgGTDsa1Y0N"
   },
   "source": [
    "Helper functions to test various machine learning models"
   ]
  },
  {
   "cell_type": "code",
   "execution_count": 22,
   "metadata": {
    "id": "TQ61e4Pi1Tf1"
   },
   "outputs": [],
   "source": [
    "from sklearn import metrics\n",
    "from sklearn.naive_bayes import MultinomialNB  \n",
    "from sklearn.linear_model import LogisticRegression\n",
    "\n",
    "#Insert document-term matrices, y-values and model\n",
    "def test_nb_model(X_train_dtm, y_train, X_test_dtm, y_test, return_model = False):\n",
    "    nb = MultinomialNB()\n",
    "    nb.fit(X_train_dtm, y_train)\n",
    "    y_pred = nb.predict(X_test_dtm)\n",
    "    train_acc = metrics.accuracy_score(y_train, nb.predict(X_train_dtm))\n",
    "    test_acc = metrics.accuracy_score(y_test, y_pred)\n",
    "    print('Training accuracy: ', train_acc)\n",
    "    print('Test accuracy: ', test_acc)\n",
    "    if return_model:\n",
    "      return train_acc, test_acc, nb\n",
    "    else:\n",
    "      return train_acc, test_acc\n",
    "  \n",
    "def test_lr_model(X_train_dtm, y_train, X_test_dtm, y_test, return_model = False):\n",
    "    lr = LogisticRegression(random_state = 0)\n",
    "    lr.fit(X_train_dtm, y_train)\n",
    "    y_pred = lr.predict(X_test_dtm)\n",
    "    train_acc = metrics.accuracy_score(y_train, lr.predict(X_train_dtm))\n",
    "    test_acc = metrics.accuracy_score(y_test, y_pred)\n",
    "    print('Training accuracy: ', train_acc)\n",
    "    print('Test accuracy: ', test_acc)\n",
    "    if return_model:\n",
    "      return train_acc, test_acc, lr\n",
    "    else:\n",
    "      return train_acc, test_acc\n",
    "    \n"
   ]
  },
  {
   "cell_type": "markdown",
   "metadata": {
    "id": "eGC5R0NRalYX"
   },
   "source": [
    "# Approach 1: CountVectorizer/TFIDFVectorizer"
   ]
  },
  {
   "cell_type": "markdown",
   "metadata": {
    "id": "f2FAsEPz11vc"
   },
   "source": [
    "Parameter tuning for **CountVectorizer**\n",
    "\n"
   ]
  },
  {
   "cell_type": "code",
   "execution_count": 23,
   "metadata": {
    "id": "2unVfs5H7oMk"
   },
   "outputs": [],
   "source": [
    "n_grams = [(1,1)]\n",
    "max_df = [0.6, 0.8, 1.0]\n",
    "max_features = ['default', 500, 750, 1000]"
   ]
  },
  {
   "cell_type": "code",
   "execution_count": 32,
   "metadata": {
    "id": "AkKaDo5H9iqv"
   },
   "outputs": [],
   "source": [
    "scores = {}"
   ]
  },
  {
   "cell_type": "code",
   "execution_count": 43,
   "metadata": {
    "id": "Ln-gUNoy81kj"
   },
   "outputs": [],
   "source": [
    "from sklearn.feature_extraction.text import CountVectorizer\n",
    "def search_cv_best_params():\n",
    "  iteration = 1\n",
    "  for i in n_grams:\n",
    "    for j in max_df:\n",
    "      for k in max_features:\n",
    "        print(\"Iteration \" + str(iteration))\n",
    "        print(\"n_grams: \" + str(i))\n",
    "        print(\"max_df: \" + str(j))\n",
    "        print(\"max_features: \" + str(k))\n",
    "        if k == 'default':\n",
    "          cv = CountVectorizer(tokenizer = spacy_tokenizer, ngram_range=i, max_df = j)\n",
    "        else:\n",
    "          cv = CountVectorizer(tokenizer = spacy_tokenizer, ngram_range=i, max_df = j, max_features = k)\n",
    "\n",
    "        train_dtm = cv.fit_transform(X_train)\n",
    "        X_train_dtm = pd.DataFrame(train_dtm.toarray(), columns=cv.get_feature_names())\n",
    "\n",
    "        test_dtm = cv.transform(X_test)\n",
    "        X_test_dtm = pd.DataFrame(test_dtm.toarray(), columns=cv.get_feature_names())\n",
    "\n",
    "        print('\\n')\n",
    "        nb_train, nb_test = test_nb_model(X_train_dtm, y_train, X_test_dtm, y_test)\n",
    "\n",
    "        hash = str(i) + ', ' + str(j) + ', ' + str(k)\n",
    "        scores[hash] = [nb_train, nb_test]\n",
    "        print(\"--------------------\\n\")\n",
    "        iteration += 1\n",
    "\n"
   ]
  },
  {
   "cell_type": "code",
   "execution_count": null,
   "metadata": {
    "colab": {
     "base_uri": "https://localhost:8080/"
    },
    "id": "Grom3r0eYoFF",
    "outputId": "151235a2-304a-4fd6-b929-c17e602b0473"
   },
   "outputs": [
    {
     "name": "stdout",
     "output_type": "stream",
     "text": [
      "Iteration 1\n",
      "n_grams: (1, 1)\n",
      "max_df: 0.6\n",
      "max_features: default\n",
      "\n",
      "\n",
      "Training accuracy:  0.7446343657627554\n",
      "Test accuracy:  0.631578947368421\n",
      "--------------------\n",
      "\n",
      "Iteration 2\n",
      "n_grams: (1, 1)\n",
      "max_df: 0.6\n",
      "max_features: 500\n",
      "\n",
      "\n",
      "Training accuracy:  0.6413914235530994\n",
      "Test accuracy:  0.6247877758913413\n",
      "--------------------\n",
      "\n",
      "Iteration 3\n",
      "n_grams: (1, 1)\n",
      "max_df: 0.6\n",
      "max_features: 750\n",
      "\n",
      "\n",
      "Training accuracy:  0.6575847149038255\n",
      "Test accuracy:  0.634974533106961\n",
      "--------------------\n",
      "\n",
      "Iteration 4\n",
      "n_grams: (1, 1)\n",
      "max_df: 0.6\n",
      "max_features: 1000\n",
      "\n",
      "\n",
      "Training accuracy:  0.6668380242470976\n",
      "Test accuracy:  0.6361063950198076\n",
      "--------------------\n",
      "\n",
      "Iteration 5\n",
      "n_grams: (1, 1)\n",
      "max_df: 0.8\n",
      "max_features: default\n",
      "\n",
      "\n",
      "Training accuracy:  0.7446343657627554\n",
      "Test accuracy:  0.631578947368421\n",
      "--------------------\n",
      "\n",
      "Iteration 6\n",
      "n_grams: (1, 1)\n",
      "max_df: 0.8\n",
      "max_features: 500\n",
      "\n",
      "\n",
      "Training accuracy:  0.6413914235530994\n",
      "Test accuracy:  0.6247877758913413\n",
      "--------------------\n",
      "\n",
      "Iteration 7\n",
      "n_grams: (1, 1)\n",
      "max_df: 0.8\n",
      "max_features: 750\n",
      "\n",
      "\n",
      "Training accuracy:  0.6575847149038255\n",
      "Test accuracy:  0.634974533106961\n",
      "--------------------\n",
      "\n",
      "Iteration 8\n",
      "n_grams: (1, 1)\n",
      "max_df: 0.8\n",
      "max_features: 1000\n",
      "\n",
      "\n",
      "Training accuracy:  0.6668380242470976\n",
      "Test accuracy:  0.6361063950198076\n",
      "--------------------\n",
      "\n",
      "Iteration 9\n",
      "n_grams: (1, 1)\n",
      "max_df: 1.0\n",
      "max_features: default\n",
      "\n",
      "\n",
      "Training accuracy:  0.7446343657627554\n",
      "Test accuracy:  0.631578947368421\n",
      "--------------------\n",
      "\n",
      "Iteration 10\n",
      "n_grams: (1, 1)\n",
      "max_df: 1.0\n",
      "max_features: 500\n",
      "\n",
      "\n",
      "Training accuracy:  0.6413914235530994\n",
      "Test accuracy:  0.6247877758913413\n",
      "--------------------\n",
      "\n",
      "Iteration 11\n",
      "n_grams: (1, 1)\n",
      "max_df: 1.0\n",
      "max_features: 750\n",
      "\n",
      "\n",
      "Training accuracy:  0.6575847149038255\n",
      "Test accuracy:  0.634974533106961\n",
      "--------------------\n",
      "\n",
      "Iteration 12\n",
      "n_grams: (1, 1)\n",
      "max_df: 1.0\n",
      "max_features: 1000\n",
      "\n",
      "\n",
      "Training accuracy:  0.6668380242470976\n",
      "Test accuracy:  0.6361063950198076\n",
      "--------------------\n",
      "\n",
      "Iteration 13\n",
      "n_grams: (1, 2)\n",
      "max_df: 0.6\n",
      "max_features: default\n"
     ]
    }
   ],
   "source": [
    "search_best_params()"
   ]
  },
  {
   "cell_type": "markdown",
   "metadata": {
    "id": "GSFPpRdNy8W6"
   },
   "source": [
    "Generally default parameters for all, max_df = 0.6"
   ]
  },
  {
   "cell_type": "markdown",
   "metadata": {
    "id": "kblw7a6G3Dkf"
   },
   "source": [
    "Parameter tuning for **TfidfVectorizer**"
   ]
  },
  {
   "cell_type": "code",
   "execution_count": 24,
   "metadata": {
    "id": "Hx-S-f_M3bM1"
   },
   "outputs": [],
   "source": [
    "tfidf = {}"
   ]
  },
  {
   "cell_type": "code",
   "execution_count": 25,
   "metadata": {
    "id": "x7dmPCgL3FoQ"
   },
   "outputs": [],
   "source": [
    "from sklearn.feature_extraction.text import TfidfVectorizer\n",
    "def search_tfidf_best_params():\n",
    "  iteration = 1\n",
    "  for i in n_grams:\n",
    "    for j in max_df:\n",
    "      for k in max_features:\n",
    "        print(\"Iteration \" + str(iteration))\n",
    "        print(\"max_df: \" + str(j))\n",
    "        print(\"max_features: \" + str(k))\n",
    "        if k == 'default':\n",
    "          cv = TfidfVectorizer(tokenizer = spacy_tokenizer, max_df = j)\n",
    "        else:\n",
    "          cv = TfidfVectorizer(tokenizer = spacy_tokenizer, max_df = j, max_features = k)\n",
    "\n",
    "        train_dtm = cv.fit_transform(X_train)\n",
    "        X_train_dtm = pd.DataFrame(train_dtm.toarray(), columns=cv.get_feature_names())\n",
    "\n",
    "        test_dtm = cv.transform(X_test)\n",
    "        X_test_dtm = pd.DataFrame(test_dtm.toarray(), columns=cv.get_feature_names())\n",
    "\n",
    "        print('\\n')\n",
    "        nb_train, nb_test = test_nb_model(X_train_dtm, y_train, X_test_dtm, y_test)\n",
    "\n",
    "        hash = str(i) + ', ' + str(j) + ', ' + str(k)\n",
    "        tfidf[hash] = [nb_train, nb_test]\n",
    "        print(\"--------------------\\n\")\n",
    "        iteration += 1"
   ]
  },
  {
   "cell_type": "code",
   "execution_count": 26,
   "metadata": {
    "colab": {
     "base_uri": "https://localhost:8080/"
    },
    "id": "sOfWwDx83_H6",
    "outputId": "96992590-f1b2-4ba6-de8f-31d8d2510c65"
   },
   "outputs": [
    {
     "name": "stdout",
     "output_type": "stream",
     "text": [
      "Iteration 1\n",
      "max_df: 0.6\n",
      "max_features: default\n",
      "\n",
      "\n",
      "Training accuracy:  0.7478044810007283\n",
      "Test accuracy:  0.6327108092812677\n",
      "--------------------\n",
      "\n",
      "Iteration 2\n",
      "max_df: 0.6\n",
      "max_features: 500\n",
      "\n",
      "\n",
      "Training accuracy:  0.642119693269931\n",
      "Test accuracy:  0.6267685342388228\n",
      "--------------------\n",
      "\n",
      "Iteration 3\n",
      "max_df: 0.6\n",
      "max_features: 750\n",
      "\n",
      "\n",
      "Training accuracy:  0.6582273058304416\n",
      "Test accuracy:  0.6329937747594794\n",
      "--------------------\n",
      "\n",
      "Iteration 4\n",
      "max_df: 0.6\n",
      "max_features: 1000\n",
      "\n",
      "\n",
      "Training accuracy:  0.6683374030758685\n",
      "Test accuracy:  0.6346915676287493\n",
      "--------------------\n",
      "\n",
      "Iteration 5\n",
      "max_df: 0.8\n",
      "max_features: default\n",
      "\n",
      "\n",
      "Training accuracy:  0.7478044810007283\n",
      "Test accuracy:  0.6327108092812677\n",
      "--------------------\n",
      "\n",
      "Iteration 6\n",
      "max_df: 0.8\n",
      "max_features: 500\n",
      "\n",
      "\n",
      "Training accuracy:  0.642119693269931\n",
      "Test accuracy:  0.6267685342388228\n",
      "--------------------\n",
      "\n",
      "Iteration 7\n",
      "max_df: 0.8\n",
      "max_features: 750\n",
      "\n",
      "\n",
      "Training accuracy:  0.6582273058304416\n",
      "Test accuracy:  0.6329937747594794\n",
      "--------------------\n",
      "\n",
      "Iteration 8\n",
      "max_df: 0.8\n",
      "max_features: 1000\n",
      "\n",
      "\n",
      "Training accuracy:  0.6683374030758685\n",
      "Test accuracy:  0.6346915676287493\n",
      "--------------------\n",
      "\n",
      "Iteration 9\n",
      "max_df: 1.0\n",
      "max_features: default\n",
      "\n",
      "\n",
      "Training accuracy:  0.7478044810007283\n",
      "Test accuracy:  0.6327108092812677\n",
      "--------------------\n",
      "\n",
      "Iteration 10\n",
      "max_df: 1.0\n",
      "max_features: 500\n",
      "\n",
      "\n",
      "Training accuracy:  0.642119693269931\n",
      "Test accuracy:  0.6267685342388228\n",
      "--------------------\n",
      "\n",
      "Iteration 11\n",
      "max_df: 1.0\n",
      "max_features: 750\n",
      "\n",
      "\n",
      "Training accuracy:  0.6582273058304416\n",
      "Test accuracy:  0.6329937747594794\n",
      "--------------------\n",
      "\n",
      "Iteration 12\n",
      "max_df: 1.0\n",
      "max_features: 1000\n",
      "\n",
      "\n",
      "Training accuracy:  0.6683374030758685\n",
      "Test accuracy:  0.6346915676287493\n",
      "--------------------\n",
      "\n"
     ]
    }
   ],
   "source": [
    "search_tfidf_best_params()"
   ]
  },
  {
   "cell_type": "markdown",
   "metadata": {
    "id": "BIIgTGr5Kmg7"
   },
   "source": [
    "Best is also max_df = 0.6, with default measures. TFIDF is slightly better than CountVectorizer"
   ]
  },
  {
   "cell_type": "markdown",
   "metadata": {
    "id": "7LQDbI_2NUD0"
   },
   "source": [
    "# Final sentiment model: TFIDF(tokenizer = spacy_tokenizer, max_df = 0.6) using logistic regression"
   ]
  },
  {
   "cell_type": "code",
   "execution_count": 101,
   "metadata": {
    "colab": {
     "base_uri": "https://localhost:8080/"
    },
    "id": "5ztlMCYcLYYS",
    "outputId": "d7290467-221b-4f32-df6c-b3d6f13565a3"
   },
   "outputs": [
    {
     "name": "stderr",
     "output_type": "stream",
     "text": [
      "/opt/anaconda3/lib/python3.7/site-packages/sklearn/linear_model/_logistic.py:764: ConvergenceWarning: lbfgs failed to converge (status=1):\n",
      "STOP: TOTAL NO. of ITERATIONS REACHED LIMIT.\n",
      "\n",
      "Increase the number of iterations (max_iter) or scale the data as shown in:\n",
      "    https://scikit-learn.org/stable/modules/preprocessing.html\n",
      "Please also refer to the documentation for alternative solver options:\n",
      "    https://scikit-learn.org/stable/modules/linear_model.html#logistic-regression\n",
      "  extra_warning_msg=_LOGISTIC_SOLVER_CONVERGENCE_MSG)\n"
     ]
    },
    {
     "name": "stdout",
     "output_type": "stream",
     "text": [
      "Training accuracy:  0.7782632909223322\n",
      "Test accuracy:  0.7031692133559706\n"
     ]
    }
   ],
   "source": [
    "from sklearn.feature_extraction.text import TfidfVectorizer\n",
    "tfidf = TfidfVectorizer(tokenizer = spacy_tokenizer, max_df = 0.6)\n",
    "\n",
    "train_dtm = tfidf.fit_transform(X_train)\n",
    "X_train_dtm = pd.DataFrame(train_dtm.toarray(), columns=tfidf.get_feature_names())\n",
    "\n",
    "test_dtm = tfidf.transform(X_test)\n",
    "X_test_dtm = pd.DataFrame(test_dtm.toarray(), columns=tfidf.get_feature_names())\n",
    "\n",
    "nb_train, nb_test, lr = test_lr_model(X_train_dtm, y_train, X_test_dtm, y_test, return_model=True)"
   ]
  },
  {
   "cell_type": "code",
   "execution_count": 167,
   "metadata": {
    "colab": {
     "base_uri": "https://localhost:8080/",
     "height": 383
    },
    "id": "-6oqQivUNj5f",
    "outputId": "80e220f1-bdcc-45b8-cec2-b5533cb739e6"
   },
   "outputs": [
    {
     "data": {
      "text/html": [
       "<div>\n",
       "<style scoped>\n",
       "    .dataframe tbody tr th:only-of-type {\n",
       "        vertical-align: middle;\n",
       "    }\n",
       "\n",
       "    .dataframe tbody tr th {\n",
       "        vertical-align: top;\n",
       "    }\n",
       "\n",
       "    .dataframe thead th {\n",
       "        text-align: right;\n",
       "    }\n",
       "</style>\n",
       "<table border=\"1\" class=\"dataframe\">\n",
       "  <thead>\n",
       "    <tr style=\"text-align: right;\">\n",
       "      <th></th>\n",
       "      <th>Unnamed: 0</th>\n",
       "      <th>url</th>\n",
       "      <th>date</th>\n",
       "      <th>content</th>\n",
       "      <th>id</th>\n",
       "      <th>user</th>\n",
       "      <th>outlinks</th>\n",
       "      <th>tcooutlinks</th>\n",
       "      <th>replyCount</th>\n",
       "      <th>retweetCount</th>\n",
       "      <th>...</th>\n",
       "      <th>conversationId</th>\n",
       "      <th>lang</th>\n",
       "      <th>source</th>\n",
       "      <th>sourceUrl</th>\n",
       "      <th>sourceLabel</th>\n",
       "      <th>media</th>\n",
       "      <th>retweetedTweet</th>\n",
       "      <th>quotedTweet</th>\n",
       "      <th>mentionedUsers</th>\n",
       "      <th>device</th>\n",
       "    </tr>\n",
       "  </thead>\n",
       "  <tbody>\n",
       "    <tr>\n",
       "      <th>0</th>\n",
       "      <td>0</td>\n",
       "      <td>https://twitter.com/lundp/status/1547135712536...</td>\n",
       "      <td>2012-01-04 23:59:24+00:00</td>\n",
       "      <td>Trying new iSkin protector on MacBook Pro. And...</td>\n",
       "      <td>154713571253686272</td>\n",
       "      <td>https://twitter.com/lundp</td>\n",
       "      <td>[]</td>\n",
       "      <td>[]</td>\n",
       "      <td>0</td>\n",
       "      <td>0</td>\n",
       "      <td>...</td>\n",
       "      <td>154713571253686272</td>\n",
       "      <td>en</td>\n",
       "      <td>&lt;a href=\"http://itunes.apple.com/us/app/twitte...</td>\n",
       "      <td>http://itunes.apple.com/us/app/twitter/id40978...</td>\n",
       "      <td>Twitter for Mac</td>\n",
       "      <td>NaN</td>\n",
       "      <td>NaN</td>\n",
       "      <td>NaN</td>\n",
       "      <td>NaN</td>\n",
       "      <td>mac</td>\n",
       "    </tr>\n",
       "    <tr>\n",
       "      <th>1</th>\n",
       "      <td>1</td>\n",
       "      <td>https://twitter.com/JayDCooke/status/154713564...</td>\n",
       "      <td>2012-01-04 23:59:22+00:00</td>\n",
       "      <td>I'm ready to get on the #MacBook</td>\n",
       "      <td>154713564031090689</td>\n",
       "      <td>https://twitter.com/JayDCooke</td>\n",
       "      <td>[]</td>\n",
       "      <td>[]</td>\n",
       "      <td>0</td>\n",
       "      <td>0</td>\n",
       "      <td>...</td>\n",
       "      <td>154713564031090689</td>\n",
       "      <td>en</td>\n",
       "      <td>&lt;a href=\"http://twitter.com/download/iphone\" r...</td>\n",
       "      <td>http://twitter.com/download/iphone</td>\n",
       "      <td>Twitter for iPhone</td>\n",
       "      <td>NaN</td>\n",
       "      <td>NaN</td>\n",
       "      <td>NaN</td>\n",
       "      <td>NaN</td>\n",
       "      <td>mac</td>\n",
       "    </tr>\n",
       "    <tr>\n",
       "      <th>2</th>\n",
       "      <td>2</td>\n",
       "      <td>https://twitter.com/Semhar/status/154713498935...</td>\n",
       "      <td>2012-01-04 23:59:07+00:00</td>\n",
       "      <td>Syncing my entire life. All my personal &amp; DAWN...</td>\n",
       "      <td>154713498935496704</td>\n",
       "      <td>https://twitter.com/Semhar</td>\n",
       "      <td>[]</td>\n",
       "      <td>[]</td>\n",
       "      <td>0</td>\n",
       "      <td>0</td>\n",
       "      <td>...</td>\n",
       "      <td>154713498935496704</td>\n",
       "      <td>en</td>\n",
       "      <td>&lt;a href=\"http://twitter.com\" rel=\"nofollow\"&gt;Tw...</td>\n",
       "      <td>http://twitter.com</td>\n",
       "      <td>Twitter Web Client</td>\n",
       "      <td>NaN</td>\n",
       "      <td>NaN</td>\n",
       "      <td>NaN</td>\n",
       "      <td>NaN</td>\n",
       "      <td>mac</td>\n",
       "    </tr>\n",
       "  </tbody>\n",
       "</table>\n",
       "<p>3 rows × 22 columns</p>\n",
       "</div>"
      ],
      "text/plain": [
       "   Unnamed: 0                                                url  \\\n",
       "0           0  https://twitter.com/lundp/status/1547135712536...   \n",
       "1           1  https://twitter.com/JayDCooke/status/154713564...   \n",
       "2           2  https://twitter.com/Semhar/status/154713498935...   \n",
       "\n",
       "                        date  \\\n",
       "0  2012-01-04 23:59:24+00:00   \n",
       "1  2012-01-04 23:59:22+00:00   \n",
       "2  2012-01-04 23:59:07+00:00   \n",
       "\n",
       "                                             content                  id  \\\n",
       "0  Trying new iSkin protector on MacBook Pro. And...  154713571253686272   \n",
       "1                   I'm ready to get on the #MacBook  154713564031090689   \n",
       "2  Syncing my entire life. All my personal & DAWN...  154713498935496704   \n",
       "\n",
       "                            user outlinks tcooutlinks  replyCount  \\\n",
       "0      https://twitter.com/lundp       []          []           0   \n",
       "1  https://twitter.com/JayDCooke       []          []           0   \n",
       "2     https://twitter.com/Semhar       []          []           0   \n",
       "\n",
       "   retweetCount  ...      conversationId  lang  \\\n",
       "0             0  ...  154713571253686272    en   \n",
       "1             0  ...  154713564031090689    en   \n",
       "2             0  ...  154713498935496704    en   \n",
       "\n",
       "                                              source  \\\n",
       "0  <a href=\"http://itunes.apple.com/us/app/twitte...   \n",
       "1  <a href=\"http://twitter.com/download/iphone\" r...   \n",
       "2  <a href=\"http://twitter.com\" rel=\"nofollow\">Tw...   \n",
       "\n",
       "                                           sourceUrl         sourceLabel  \\\n",
       "0  http://itunes.apple.com/us/app/twitter/id40978...     Twitter for Mac   \n",
       "1                 http://twitter.com/download/iphone  Twitter for iPhone   \n",
       "2                                 http://twitter.com  Twitter Web Client   \n",
       "\n",
       "  media retweetedTweet  quotedTweet  mentionedUsers  device  \n",
       "0   NaN            NaN          NaN             NaN     mac  \n",
       "1   NaN            NaN          NaN             NaN     mac  \n",
       "2   NaN            NaN          NaN             NaN     mac  \n",
       "\n",
       "[3 rows x 22 columns]"
      ]
     },
     "execution_count": 167,
     "metadata": {},
     "output_type": "execute_result"
    }
   ],
   "source": [
    "tweets = pd.read_csv('./tweets.csv')\n",
    "tweets.head(3)"
   ]
  },
  {
   "cell_type": "code",
   "execution_count": 168,
   "metadata": {
    "colab": {
     "base_uri": "https://localhost:8080/"
    },
    "id": "ce1VVjE3SN5j",
    "outputId": "5dbef2f3-012e-4377-957b-ec31c2ef203e"
   },
   "outputs": [
    {
     "data": {
      "text/plain": [
       "(61440, 22)"
      ]
     },
     "execution_count": 168,
     "metadata": {},
     "output_type": "execute_result"
    }
   ],
   "source": [
    "tweets.shape"
   ]
  },
  {
   "cell_type": "code",
   "execution_count": 35,
   "metadata": {
    "id": "qfKeennFP39W"
   },
   "outputs": [],
   "source": [
    "X_tweets_dtm = tfidf.transform(tweets.content)\n",
    "X_tweets_dtm = pd.DataFrame(X_tweets_dtm.toarray(), columns=tfidf.get_feature_names())\n",
    "tweets_pred = lr.predict(X_tweets_dtm)"
   ]
  },
  {
   "cell_type": "code",
   "execution_count": 48,
   "metadata": {
    "colab": {
     "base_uri": "https://localhost:8080/"
    },
    "id": "4Q9DIKpJXpvh",
    "outputId": "1609f213-499e-4eaa-e277-b7dd0a691a40"
   },
   "outputs": [
    {
     "data": {
      "text/plain": [
       "(61440,)"
      ]
     },
     "execution_count": 48,
     "metadata": {
      "tags": []
     },
     "output_type": "execute_result"
    }
   ],
   "source": [
    "tweets_pred.shape"
   ]
  },
  {
   "cell_type": "code",
   "execution_count": 39,
   "metadata": {
    "id": "-B10o8uPXsHC"
   },
   "outputs": [],
   "source": [
    "tweets['sentiment'] = tweets_pred"
   ]
  },
  {
   "cell_type": "code",
   "execution_count": 41,
   "metadata": {
    "id": "GCjkcpKmXxdV"
   },
   "outputs": [],
   "source": [
    "tweets.to_csv('gdrive/My Drive/BT4222/data/tweets_tfidf.csv', index=False)"
   ]
  },
  {
   "cell_type": "markdown",
   "metadata": {},
   "source": [
    "# Approach 2: BERT"
   ]
  },
  {
   "cell_type": "code",
   "execution_count": 172,
   "metadata": {},
   "outputs": [
    {
     "name": "stderr",
     "output_type": "stream",
     "text": [
      "Some weights of the model checkpoint at roberta-base were not used when initializing RobertaForSequenceClassification: ['lm_head.bias', 'lm_head.dense.weight', 'lm_head.dense.bias', 'lm_head.layer_norm.weight', 'lm_head.layer_norm.bias', 'lm_head.decoder.weight']\n",
      "- This IS expected if you are initializing RobertaForSequenceClassification from the checkpoint of a model trained on another task or with another architecture (e.g. initializing a BertForSequenceClassification model from a BertForPreTraining model).\n",
      "- This IS NOT expected if you are initializing RobertaForSequenceClassification from the checkpoint of a model that you expect to be exactly identical (initializing a BertForSequenceClassification model from a BertForSequenceClassification model).\n",
      "Some weights of RobertaForSequenceClassification were not initialized from the model checkpoint at roberta-base and are newly initialized: ['classifier.dense.weight', 'classifier.dense.bias', 'classifier.out_proj.weight', 'classifier.out_proj.bias']\n",
      "You should probably TRAIN this model on a down-stream task to be able to use it for predictions and inference.\n"
     ]
    }
   ],
   "source": [
    "from simpletransformers.classification import ClassificationModel\n",
    "# Create a ClassificationModel\n",
    "model = ClassificationModel('roberta', 'roberta-base', num_labels=3, use_cuda=False)"
   ]
  },
  {
   "cell_type": "code",
   "execution_count": 73,
   "metadata": {},
   "outputs": [
    {
     "name": "stdout",
     "output_type": "stream",
     "text": [
      "(23343,)\n",
      "(3534,)\n",
      "(23343,)\n",
      "(3534,)\n"
     ]
    }
   ],
   "source": [
    "print(X_train.shape)\n",
    "print(X_test.shape)\n",
    "print(y_train.shape)\n",
    "print(y_test.shape)"
   ]
  },
  {
   "cell_type": "code",
   "execution_count": 141,
   "metadata": {},
   "outputs": [],
   "source": [
    "import re\n",
    "def remove_hashtag_mentions_links(x):\n",
    "    #Remove mentions\n",
    "    text = re.sub(\"(@[A-Za-z0–9]+)\",\"\",x)\n",
    "    #Remove links\n",
    "    text = re.sub(r\"http\\S+\", \"\", text)\n",
    "    #Remove hashtags\n",
    "    text = text.replace(\"#\", \"\")\n",
    "    return text"
   ]
  },
  {
   "cell_type": "code",
   "execution_count": 75,
   "metadata": {},
   "outputs": [],
   "source": [
    "from copy import deepcopy\n",
    "bert_train = deepcopy(df)\n",
    "bert_train['text'] = bert_train['text'].apply(remove_hashtag_mentions_links)"
   ]
  },
  {
   "cell_type": "code",
   "execution_count": 76,
   "metadata": {},
   "outputs": [],
   "source": [
    "bert_test = deepcopy(df_test)\n",
    "bert_test['text'] = bert_test['text'].apply(remove_hashtag_mentions_links)"
   ]
  },
  {
   "cell_type": "code",
   "execution_count": 77,
   "metadata": {},
   "outputs": [],
   "source": [
    "bert_train = bert_train[['text', 'sentiment']]\n",
    "bert_test = bert_test[['text', 'sentiment']]"
   ]
  },
  {
   "cell_type": "code",
   "execution_count": 126,
   "metadata": {},
   "outputs": [
    {
     "data": {
      "text/plain": [
       "1    11117\n",
       "2     8582\n",
       "0     7781\n",
       "Name: sentiment, dtype: int64"
      ]
     },
     "execution_count": 126,
     "metadata": {},
     "output_type": "execute_result"
    }
   ],
   "source": [
    "bert_train.sentiment.value_counts()"
   ]
  },
  {
   "cell_type": "code",
   "execution_count": 127,
   "metadata": {},
   "outputs": [
    {
     "data": {
      "text/plain": [
       "1    1430\n",
       "2    1103\n",
       "0    1001\n",
       "Name: sentiment, dtype: int64"
      ]
     },
     "execution_count": 127,
     "metadata": {},
     "output_type": "execute_result"
    }
   ],
   "source": [
    "bert_test.sentiment.value_counts()"
   ]
  },
  {
   "cell_type": "code",
   "execution_count": 80,
   "metadata": {},
   "outputs": [],
   "source": [
    "# bert model target must be > 0\n",
    "bert_train['sentiment'] = bert_train['sentiment'].map({-1: 0, 0: 1, 1: 2})\n",
    "bert_test['sentiment'] = bert_test['sentiment'].map({-1: 0, 0: 1, 1: 2})"
   ]
  },
  {
   "cell_type": "code",
   "execution_count": 200,
   "metadata": {},
   "outputs": [
    {
     "data": {
      "application/vnd.jupyter.widget-view+json": {
       "model_id": "db7930448b814df18aa24fb1e5fa6f00",
       "version_major": 2,
       "version_minor": 0
      },
      "text/plain": [
       "HBox(children=(FloatProgress(value=0.0, max=4.0), HTML(value='')))"
      ]
     },
     "metadata": {},
     "output_type": "display_data"
    },
    {
     "name": "stdout",
     "output_type": "stream",
     "text": [
      "\n"
     ]
    },
    {
     "data": {
      "application/vnd.jupyter.widget-view+json": {
       "model_id": "b26e2a07e1384967b2dd84c0d14b8354",
       "version_major": 2,
       "version_minor": 0
      },
      "text/plain": [
       "HBox(children=(FloatProgress(value=0.0, description='Epoch', max=1.0, style=ProgressStyle(description_width='i…"
      ]
     },
     "metadata": {},
     "output_type": "display_data"
    },
    {
     "data": {
      "application/vnd.jupyter.widget-view+json": {
       "model_id": "2b2905c921b243a79070cc374f4a2a18",
       "version_major": 2,
       "version_minor": 0
      },
      "text/plain": [
       "HBox(children=(FloatProgress(value=0.0, description='Running Epoch 0 of 1', max=3435.0, style=ProgressStyle(de…"
      ]
     },
     "metadata": {},
     "output_type": "display_data"
    },
    {
     "name": "stderr",
     "output_type": "stream",
     "text": [
      "/opt/anaconda3/lib/python3.7/site-packages/torch/optim/lr_scheduler.py:216: UserWarning: Please also save or load the state of the optimizer when saving or loading the scheduler.\n",
      "  warnings.warn(SAVE_STATE_WARNING, UserWarning)\n"
     ]
    },
    {
     "name": "stdout",
     "output_type": "stream",
     "text": [
      "\n",
      "\n"
     ]
    },
    {
     "data": {
      "text/plain": [
       "(3435, 0.640229480937557)"
      ]
     },
     "execution_count": 200,
     "metadata": {},
     "output_type": "execute_result"
    }
   ],
   "source": [
    "model.train_model(bert_train, output_dir='./bert_output')"
   ]
  },
  {
   "cell_type": "code",
   "execution_count": 201,
   "metadata": {},
   "outputs": [
    {
     "name": "stderr",
     "output_type": "stream",
     "text": [
      "/opt/anaconda3/lib/python3.7/site-packages/simpletransformers/classification/classification_model.py:1026: UserWarning: Dataframe headers not specified. Falling back to using column 0 as text and column 1 as labels.\n",
      "  \"Dataframe headers not specified. Falling back to using column 0 as text and column 1 as labels.\"\n"
     ]
    },
    {
     "data": {
      "application/vnd.jupyter.widget-view+json": {
       "model_id": "5178b171e5d5409cb1e1ce0b7c82e413",
       "version_major": 2,
       "version_minor": 0
      },
      "text/plain": [
       "HBox(children=(FloatProgress(value=0.0, description='Running Evaluation', max=3435.0, style=ProgressStyle(desc…"
      ]
     },
     "metadata": {},
     "output_type": "display_data"
    },
    {
     "name": "stdout",
     "output_type": "stream",
     "text": [
      "\n"
     ]
    },
    {
     "data": {
      "application/vnd.jupyter.widget-view+json": {
       "model_id": "15a6ecfe95494931bda84eb23199205f",
       "version_major": 2,
       "version_minor": 0
      },
      "text/plain": [
       "HBox(children=(FloatProgress(value=0.0, description='Running Evaluation', max=442.0, style=ProgressStyle(descr…"
      ]
     },
     "metadata": {},
     "output_type": "display_data"
    },
    {
     "name": "stdout",
     "output_type": "stream",
     "text": [
      "\n"
     ]
    }
   ],
   "source": [
    "training_result, training_model_outputs, training_wrong_predictions = model.eval_model(bert_train, acc=sklearn.metrics.accuracy_score)\n",
    "test_result, test_model_outputs, test_wrong_predictions = model.eval_model(bert_test, acc=sklearn.metrics.accuracy_score)\n"
   ]
  },
  {
   "cell_type": "code",
   "execution_count": 202,
   "metadata": {},
   "outputs": [
    {
     "name": "stdout",
     "output_type": "stream",
     "text": [
      "Training accuracy: 0.8343522561863174\n",
      "Test accuracy: 0.8022071307300509\n"
     ]
    }
   ],
   "source": [
    "#Training and test accuracies\n",
    "print(\"Training accuracy: \" + str(training_result['acc']))\n",
    "print(\"Test accuracy: \" + str(test_result['acc']))"
   ]
  },
  {
   "cell_type": "code",
   "execution_count": 222,
   "metadata": {},
   "outputs": [],
   "source": [
    "tweets['cleaned_content'] = tweets.content.apply(remove_hashtag_mentions_links)"
   ]
  },
  {
   "cell_type": "code",
   "execution_count": 83,
   "metadata": {},
   "outputs": [],
   "source": [
    "tweets_list = tweets.cleaned_content.tolist()"
   ]
  },
  {
   "cell_type": "code",
   "execution_count": 205,
   "metadata": {},
   "outputs": [
    {
     "data": {
      "application/vnd.jupyter.widget-view+json": {
       "model_id": "185c707f9a204c50ac882d6164988e0e",
       "version_major": 2,
       "version_minor": 0
      },
      "text/plain": [
       "HBox(children=(FloatProgress(value=0.0, max=7680.0), HTML(value='')))"
      ]
     },
     "metadata": {},
     "output_type": "display_data"
    },
    {
     "name": "stdout",
     "output_type": "stream",
     "text": [
      "\n"
     ]
    }
   ],
   "source": [
    "bert_predictions, _ = model.predict(tweets_list)"
   ]
  },
  {
   "cell_type": "code",
   "execution_count": 207,
   "metadata": {},
   "outputs": [],
   "source": [
    "tweets['sentiment'] = bert_predictions"
   ]
  },
  {
   "cell_type": "code",
   "execution_count": 211,
   "metadata": {},
   "outputs": [],
   "source": [
    "tweets = tweets.drop(['cleaned_content'], axis=1)"
   ]
  },
  {
   "cell_type": "code",
   "execution_count": 213,
   "metadata": {},
   "outputs": [],
   "source": [
    "# Map back to -1, 0 and 1\n",
    "tweets['sentiment'] = tweets['sentiment'].map({0: -1, 1: 0, 2: 1})"
   ]
  },
  {
   "cell_type": "code",
   "execution_count": 214,
   "metadata": {},
   "outputs": [],
   "source": [
    "tweets.to_csv('./tweets_bert.csv', index=False)"
   ]
  },
  {
   "cell_type": "markdown",
   "metadata": {},
   "source": [
    "### Saving down models"
   ]
  },
  {
   "cell_type": "code",
   "execution_count": 215,
   "metadata": {},
   "outputs": [],
   "source": [
    "import pickle\n",
    "\n",
    "#Save BERT model\n",
    "with open('bert.pkl','wb') as f:\n",
    "    pickle.dump(model,f)"
   ]
  },
  {
   "cell_type": "markdown",
   "metadata": {},
   "source": [
    "# Explaining SHAP"
   ]
  },
  {
   "cell_type": "code",
   "execution_count": 121,
   "metadata": {},
   "outputs": [],
   "source": [
    "import transformers\n",
    "import shap\n",
    "import numpy as np\n",
    "from transformers import AutoTokenizer, AutoModelForSequenceClassification"
   ]
  },
  {
   "cell_type": "markdown",
   "metadata": {},
   "source": [
    "### Load data labelled by roBERTa"
   ]
  },
  {
   "cell_type": "code",
   "execution_count": 219,
   "metadata": {},
   "outputs": [],
   "source": [
    "roberta_tweets = pd.read_csv('./tweets_bert.csv')"
   ]
  },
  {
   "cell_type": "code",
   "execution_count": 226,
   "metadata": {},
   "outputs": [
    {
     "data": {
      "text/html": [
       "<div>\n",
       "<style scoped>\n",
       "    .dataframe tbody tr th:only-of-type {\n",
       "        vertical-align: middle;\n",
       "    }\n",
       "\n",
       "    .dataframe tbody tr th {\n",
       "        vertical-align: top;\n",
       "    }\n",
       "\n",
       "    .dataframe thead th {\n",
       "        text-align: right;\n",
       "    }\n",
       "</style>\n",
       "<table border=\"1\" class=\"dataframe\">\n",
       "  <thead>\n",
       "    <tr style=\"text-align: right;\">\n",
       "      <th></th>\n",
       "      <th>Unnamed: 0</th>\n",
       "      <th>url</th>\n",
       "      <th>date</th>\n",
       "      <th>content</th>\n",
       "      <th>id</th>\n",
       "      <th>user</th>\n",
       "      <th>outlinks</th>\n",
       "      <th>tcooutlinks</th>\n",
       "      <th>replyCount</th>\n",
       "      <th>retweetCount</th>\n",
       "      <th>...</th>\n",
       "      <th>lang</th>\n",
       "      <th>source</th>\n",
       "      <th>sourceUrl</th>\n",
       "      <th>sourceLabel</th>\n",
       "      <th>media</th>\n",
       "      <th>retweetedTweet</th>\n",
       "      <th>quotedTweet</th>\n",
       "      <th>mentionedUsers</th>\n",
       "      <th>device</th>\n",
       "      <th>sentiment</th>\n",
       "    </tr>\n",
       "  </thead>\n",
       "  <tbody>\n",
       "    <tr>\n",
       "      <th>0</th>\n",
       "      <td>0</td>\n",
       "      <td>https://twitter.com/lundp/status/1547135712536...</td>\n",
       "      <td>2012-01-04 23:59:24+00:00</td>\n",
       "      <td>Trying new iSkin protector on MacBook Pro. And...</td>\n",
       "      <td>154713571253686272</td>\n",
       "      <td>https://twitter.com/lundp</td>\n",
       "      <td>[]</td>\n",
       "      <td>[]</td>\n",
       "      <td>0.0</td>\n",
       "      <td>0.0</td>\n",
       "      <td>...</td>\n",
       "      <td>en</td>\n",
       "      <td>&lt;a href=\"http://itunes.apple.com/us/app/twitte...</td>\n",
       "      <td>http://itunes.apple.com/us/app/twitter/id40978...</td>\n",
       "      <td>Twitter for Mac</td>\n",
       "      <td>NaN</td>\n",
       "      <td>NaN</td>\n",
       "      <td>NaN</td>\n",
       "      <td>NaN</td>\n",
       "      <td>mac</td>\n",
       "      <td>-1.0</td>\n",
       "    </tr>\n",
       "    <tr>\n",
       "      <th>1</th>\n",
       "      <td>1</td>\n",
       "      <td>https://twitter.com/JayDCooke/status/154713564...</td>\n",
       "      <td>2012-01-04 23:59:22+00:00</td>\n",
       "      <td>I'm ready to get on the #MacBook</td>\n",
       "      <td>154713564031090689</td>\n",
       "      <td>https://twitter.com/JayDCooke</td>\n",
       "      <td>[]</td>\n",
       "      <td>[]</td>\n",
       "      <td>0.0</td>\n",
       "      <td>0.0</td>\n",
       "      <td>...</td>\n",
       "      <td>en</td>\n",
       "      <td>&lt;a href=\"http://twitter.com/download/iphone\" r...</td>\n",
       "      <td>http://twitter.com/download/iphone</td>\n",
       "      <td>Twitter for iPhone</td>\n",
       "      <td>NaN</td>\n",
       "      <td>NaN</td>\n",
       "      <td>NaN</td>\n",
       "      <td>NaN</td>\n",
       "      <td>mac</td>\n",
       "      <td>0.0</td>\n",
       "    </tr>\n",
       "  </tbody>\n",
       "</table>\n",
       "<p>2 rows × 23 columns</p>\n",
       "</div>"
      ],
      "text/plain": [
       "  Unnamed: 0                                                url  \\\n",
       "0          0  https://twitter.com/lundp/status/1547135712536...   \n",
       "1          1  https://twitter.com/JayDCooke/status/154713564...   \n",
       "\n",
       "                        date  \\\n",
       "0  2012-01-04 23:59:24+00:00   \n",
       "1  2012-01-04 23:59:22+00:00   \n",
       "\n",
       "                                             content                  id  \\\n",
       "0  Trying new iSkin protector on MacBook Pro. And...  154713571253686272   \n",
       "1                   I'm ready to get on the #MacBook  154713564031090689   \n",
       "\n",
       "                            user outlinks tcooutlinks  replyCount  \\\n",
       "0      https://twitter.com/lundp       []          []         0.0   \n",
       "1  https://twitter.com/JayDCooke       []          []         0.0   \n",
       "\n",
       "   retweetCount  ... lang                                             source  \\\n",
       "0           0.0  ...   en  <a href=\"http://itunes.apple.com/us/app/twitte...   \n",
       "1           0.0  ...   en  <a href=\"http://twitter.com/download/iphone\" r...   \n",
       "\n",
       "                                           sourceUrl         sourceLabel  \\\n",
       "0  http://itunes.apple.com/us/app/twitter/id40978...     Twitter for Mac   \n",
       "1                 http://twitter.com/download/iphone  Twitter for iPhone   \n",
       "\n",
       "  media retweetedTweet quotedTweet mentionedUsers device  sentiment  \n",
       "0   NaN            NaN         NaN            NaN    mac       -1.0  \n",
       "1   NaN            NaN         NaN            NaN    mac        0.0  \n",
       "\n",
       "[2 rows x 23 columns]"
      ]
     },
     "execution_count": 226,
     "metadata": {},
     "output_type": "execute_result"
    }
   ],
   "source": [
    "roberta_tweets.head(2)"
   ]
  },
  {
   "cell_type": "code",
   "execution_count": 231,
   "metadata": {},
   "outputs": [],
   "source": [
    "roberta_tweets=roberta_tweets.dropna(subset=['id'])"
   ]
  },
  {
   "cell_type": "code",
   "execution_count": 232,
   "metadata": {},
   "outputs": [
    {
     "data": {
      "text/plain": [
       "(61440,)"
      ]
     },
     "execution_count": 232,
     "metadata": {},
     "output_type": "execute_result"
    }
   ],
   "source": [
    "roberta_tweets.sentiment.shape"
   ]
  },
  {
   "cell_type": "code",
   "execution_count": 233,
   "metadata": {},
   "outputs": [
    {
     "data": {
      "text/plain": [
       "(61440,)"
      ]
     },
     "execution_count": 233,
     "metadata": {},
     "output_type": "execute_result"
    }
   ],
   "source": [
    "tweets.cleaned_content.shape"
   ]
  },
  {
   "cell_type": "code",
   "execution_count": 234,
   "metadata": {},
   "outputs": [],
   "source": [
    "new_df = tweets.cleaned_content.to_frame().join(roberta_tweets.sentiment)"
   ]
  },
  {
   "cell_type": "code",
   "execution_count": 236,
   "metadata": {},
   "outputs": [
    {
     "data": {
      "text/plain": [
       "(61440, 2)"
      ]
     },
     "execution_count": 236,
     "metadata": {},
     "output_type": "execute_result"
    }
   ],
   "source": [
    "new_df.shape"
   ]
  },
  {
   "cell_type": "code",
   "execution_count": 240,
   "metadata": {},
   "outputs": [
    {
     "data": {
      "text/html": [
       "<div>\n",
       "<style scoped>\n",
       "    .dataframe tbody tr th:only-of-type {\n",
       "        vertical-align: middle;\n",
       "    }\n",
       "\n",
       "    .dataframe tbody tr th {\n",
       "        vertical-align: top;\n",
       "    }\n",
       "\n",
       "    .dataframe thead th {\n",
       "        text-align: right;\n",
       "    }\n",
       "</style>\n",
       "<table border=\"1\" class=\"dataframe\">\n",
       "  <thead>\n",
       "    <tr style=\"text-align: right;\">\n",
       "      <th></th>\n",
       "      <th>cleaned_content</th>\n",
       "      <th>sentiment</th>\n",
       "    </tr>\n",
       "  </thead>\n",
       "  <tbody>\n",
       "    <tr>\n",
       "      <th>0</th>\n",
       "      <td>Trying new iSkin protector on MacBook Pro. And...</td>\n",
       "      <td>-1.0</td>\n",
       "    </tr>\n",
       "    <tr>\n",
       "      <th>1</th>\n",
       "      <td>I'm ready to get on the MacBook</td>\n",
       "      <td>0.0</td>\n",
       "    </tr>\n",
       "    <tr>\n",
       "      <th>2</th>\n",
       "      <td>Syncing my entire life. All my personal &amp; DAWN...</td>\n",
       "      <td>-1.0</td>\n",
       "    </tr>\n",
       "  </tbody>\n",
       "</table>\n",
       "</div>"
      ],
      "text/plain": [
       "                                     cleaned_content  sentiment\n",
       "0  Trying new iSkin protector on MacBook Pro. And...       -1.0\n",
       "1                    I'm ready to get on the MacBook        0.0\n",
       "2  Syncing my entire life. All my personal & DAWN...       -1.0"
      ]
     },
     "execution_count": 240,
     "metadata": {},
     "output_type": "execute_result"
    }
   ],
   "source": [
    "new_df.head(3)"
   ]
  },
  {
   "cell_type": "code",
   "execution_count": 244,
   "metadata": {},
   "outputs": [
    {
     "name": "stderr",
     "output_type": "stream",
     "text": [
      "Some weights of the model checkpoint at roberta-base were not used when initializing RobertaForSequenceClassification: ['lm_head.bias', 'lm_head.dense.weight', 'lm_head.dense.bias', 'lm_head.layer_norm.weight', 'lm_head.layer_norm.bias', 'lm_head.decoder.weight', 'roberta.pooler.dense.weight', 'roberta.pooler.dense.bias']\n",
      "- This IS expected if you are initializing RobertaForSequenceClassification from the checkpoint of a model trained on another task or with another architecture (e.g. initializing a BertForSequenceClassification model from a BertForPreTraining model).\n",
      "- This IS NOT expected if you are initializing RobertaForSequenceClassification from the checkpoint of a model that you expect to be exactly identical (initializing a BertForSequenceClassification model from a BertForSequenceClassification model).\n",
      "Some weights of RobertaForSequenceClassification were not initialized from the model checkpoint at roberta-base and are newly initialized: ['classifier.dense.weight', 'classifier.dense.bias', 'classifier.out_proj.weight', 'classifier.out_proj.bias']\n",
      "You should probably TRAIN this model on a down-stream task to be able to use it for predictions and inference.\n"
     ]
    }
   ],
   "source": [
    "tokenizer = AutoTokenizer.from_pretrained(\"roberta-base\",use_fast=True, num_labels=3)\n",
    "model = AutoModelForSequenceClassification.from_pretrained(\"roberta-base\", num_labels=3)"
   ]
  },
  {
   "cell_type": "code",
   "execution_count": 252,
   "metadata": {},
   "outputs": [],
   "source": [
    "# set mapping between label and id\n",
    "id2label = {-1: \"negative\", 0: \"neutral\", 1: \"positive\"}\n",
    "label2id = {\"negative\": -1, \"neutral\": 0, \"positive\": 1}\n",
    "labels = sorted(label2id, key=label2id.get)"
   ]
  },
  {
   "cell_type": "code",
   "execution_count": 253,
   "metadata": {},
   "outputs": [
    {
     "data": {
      "image/png": "[encoded data removed]",
      "text/plain": [
       "<Figure size 432x288 with 1 Axes>"
      ]
     },
     "metadata": {
      "needs_background": "light"
     },
     "output_type": "display_data"
    }
   ],
   "source": [
    "import matplotlib.pyplot as plt\n",
    "%matplotlib inline\n",
    "ax = new_df.sentiment.map(id2label).value_counts().plot.bar()"
   ]
  },
  {
   "cell_type": "code",
   "execution_count": 263,
   "metadata": {},
   "outputs": [],
   "source": [
    "import torch\n",
    "import scipy as sp\n",
    "def f(x):\n",
    "    tv = torch.tensor([tokenizer.encode(v, padding='max_length', max_length=128,truncation=True) for v in x])\n",
    "    attention_mask = (tv!=0).type(torch.int64)\n",
    "    outputs = model(tv,attention_mask=attention_mask)[0].detach().cpu().numpy()\n",
    "    scores = (np.exp(outputs).T / np.exp(outputs).sum(-1)).T\n",
    "    val = sp.special.logit(scores)\n",
    "    return val"
   ]
  },
  {
   "cell_type": "code",
   "execution_count": 269,
   "metadata": {},
   "outputs": [],
   "source": [
    "explainer = shap.Explainer(f,tokenizer,output_names=labels)"
   ]
  },
  {
   "cell_type": "code",
   "execution_count": 281,
   "metadata": {},
   "outputs": [],
   "source": [
    "# negative observations\n",
    "negative_obs = new_df.loc[new_df['sentiment'] == -1]\n",
    "\n",
    "# positive observations\n",
    "positive_obs = new_df.loc[new_df['sentiment'] == 1]"
   ]
  },
  {
   "cell_type": "code",
   "execution_count": null,
   "metadata": {},
   "outputs": [],
   "source": [
    "shap_values = explainer(positive_obs[:10].cleaned_content)"
   ]
  },
  {
   "cell_type": "code",
   "execution_count": 278,
   "metadata": {},
   "outputs": [
    {
     "data": {
      "image/png": "[encoded data removed]",
      "text/plain": [
       "<Figure size 576x468 with 1 Axes>"
      ]
     },
     "metadata": {},
     "output_type": "display_data"
    }
   ],
   "source": [
    "shap.plots.bar(shap_values[:,:,\"positive\"].mean(0), order=shap.Explanation.argsort.flip)"
   ]
  },
  {
   "cell_type": "code",
   "execution_count": null,
   "metadata": {},
   "outputs": [],
   "source": []
  }
 ],
 "metadata": {
  "colab": {
   "collapsed_sections": [],
   "name": "Untitled4.ipynb",
   "provenance": []
  },
  "kernelspec": {
   "display_name": "Python 3",
   "language": "python",
   "name": "python3"
  },
  "language_info": {
   "codemirror_mode": {
    "name": "ipython",
    "version": 3
   },
   "file_extension": ".py",
   "mimetype": "text/x-python",
   "name": "python",
   "nbconvert_exporter": "python",
   "pygments_lexer": "ipython3",
   "version": "3.7.4"
  }
 },
 "nbformat": 4,
 "nbformat_minor": 1
}
